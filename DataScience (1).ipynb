{
  "cells": [
    {
      "cell_type": "markdown",
      "source": [
        "#features of python\n",
        "<h1 style='color:#FF5733;'>🎯 High-Level vs Low-Level Programming Languages</h1>\n",
        "<p>Programming languages are categorized into two types: <b>High-Level</b> and <b>Low-Level</b></p>\n",
        "\n",
        "<hr>\n",
        "\n",
        "<h2 style='color:#2E86C1;'>🚀 What is a High-Level Language?</h2>\n",
        "<p>A <b>high-level programming language</b> is user-friendly. It is easy to read, write, and understand.</p>\n",
        "\n",
        "<h3 style='color:#27AE60;'>✅ Features of High-Level Languages:</h3>\n",
        "<ul>\n",
        "    <li>Easy to read and write</li>\n",
        "    <li>Machine-independent (Portable)</li>\n",
        "    <li>Uses natural language-like syntax</li>\n",
        "    <li>Requires a compiler or interpreter</li>\n",
        "    <li>Examples: Python, Java, C++, JavaScript</li>\n",
        "</ul>\n",
        "\n",
        "<pre style=\"background:#F8F9F9; padding:10px; border-radius:5px;\">\n",
        "<b>Example (Python - High-Level Language):</b>\n",
        "<code># Program to add two numbers\n",
        "a = 10\n",
        "b = 20\n",
        "sum = a + b\n",
        "print(\"Sum:\", sum)</code>\n",
        "</pre>\n",
        "✅ <b>Output:</b> <code>Sum: 30</code>\n",
        "\n",
        "<hr>\n",
        "\n",
        "<h2 style='color:#D35400;'>🛠 What is a Low-Level Language?</h2>\n",
        "<p>A <b>low-level programming language</b> is closer to machine code and hardware. It is harder to read but provides high performance.</p>\n",
        "\n",
        "<h3 style='color:#E74C3C;'>✅ Features of Low-Level Languages:</h3>\n",
        "<ul>\n",
        "    <li>Machine-dependent (Not Portable)</li>\n",
        "    <li>Hard to read and understand</li>\n",
        "    <li>Directly interacts with hardware</li>\n",
        "    <li>Fast execution speed</li>\n",
        "    <li>Examples: Assembly Language, Machine Code</li>\n",
        "</ul>\n",
        "\n",
        "<pre style=\"background:#F8F9F9; padding:10px; border-radius:5px;\">\n",
        "<b>Example (Assembly - Low-Level Language):</b>\n",
        "<code>section .data\n",
        "   msg db 'Hello, World!',0\n",
        "\n",
        "section .text\n",
        "   global _start\n",
        "\n",
        "_start:\n",
        "   mov edx, 13\n",
        "   mov ecx, msg\n",
        "   mov ebx, 1\n",
        "   mov eax, 4\n",
        "   int 0x80\n",
        "\n",
        "   mov eax, 1\n",
        "   int 0x80</code>\n",
        "</pre>\n",
        "✅ <b>Output:</b> <code>Hello, World!</code>\n",
        "\n",
        "<hr>\n",
        "\n",
        "<h2 style='color:#8E44AD;'>🔍 Key Differences: High-Level vs Low-Level</h2>\n",
        "\n",
        "<table border='1' width='100%' style=\"border-collapse: collapse; text-align: left;\">\n",
        "    <tr style='background:#2980B9; color:white;'>\n",
        "        <th style=\"padding:10px;\">Aspect</th>\n",
        "        <th style=\"padding:10px;\">High-Level Language</th>\n",
        "        <th style=\"padding:10px;\">Low-Level Language</th>\n",
        "    </tr>\n",
        "    <tr>\n",
        "        <td style=\"padding:10px;\"><b>Syntax</b></td>\n",
        "        <td style=\"padding:10px;\">Easy and similar to human language</td>\n",
        "        <td style=\"padding:10px;\">Complex, closer to machine code</td>\n",
        "    </tr>\n",
        "    <tr style='background:#ECF0F1;'>\n",
        "        <td style=\"padding:10px;\"><b>Execution Speed</b></td>\n",
        "        <td style=\"padding:10px;\">Slower due to abstraction</td>\n",
        "        <td style=\"padding:10px;\">Faster since it directly interacts with hardware</td>\n",
        "    </tr>\n",
        "    <tr>\n",
        "        <td style=\"padding:10px;\"><b>Portability</b></td>\n",
        "        <td style=\"padding:10px;\">Portable (Machine Independent)</td>\n",
        "        <td style=\"padding:10px;\">Not Portable (Machine Dependent)</td>\n",
        "    </tr>\n",
        "    <tr style='background:#ECF0F1;'>\n",
        "        <td style=\"padding:10px;\"><b>Ease of Learning</b></td>\n",
        "        <td style=\"padding:10px;\">Easier to learn</td>\n",
        "        <td style=\"padding:10px;\">Difficult to learn</td>\n",
        "    </tr>\n",
        "    <tr>\n",
        "        <td style=\"padding:10px;\"><b>Examples</b></td>\n",
        "        <td style=\"padding:10px;\">Python, Java, C++</td>\n",
        "        <td style=\"padding:10px;\">Assembly, Machine Code</td>\n",
        "    </tr>\n",
        "</table>\n",
        "\n",
        "<hr>\n",
        "\n",
        "\n",
        "\n",
        "\n",
        "<hr>\n",
        "\n",
        "<h2 style='color:#2E86C1;'>🌟 1. Simple and Easy to Learn</h2>\n",
        "<p>Python has a simple syntax, similar to English, making it easy for beginners.</p>\n",
        "<pre style=\"background:#F8F9F9; padding:10px; border-radius:5px;\">\n",
        "<b>Example:</b>\n",
        "<code>print(\"Hello, Python!\")</code>\n",
        "</pre>\n",
        "✅ <b>Output:</b> <code>Hello, Python!</code>\n",
        "\n",
        "<hr>\n",
        "\n",
        "<h2 style='color:#D35400;'>🚀 2. Interpreted Language</h2>\n",
        "<p>Python executes code line by line without compilation.</p>\n",
        "<pre style=\"background:#F8F9F9; padding:10px; border-radius:5px;\">\n",
        "<b>Example:</b>\n",
        "<code>a = 10\n",
        "b = 5\n",
        "print(a + b)</code>\n",
        "</pre>\n",
        "✅ <b>Output:</b> <code>15</code>\n",
        "\n",
        "<hr>\n",
        "\n",
        "<h2 style='color:#27AE60;'>🎨 3. Dynamically Typed</h2>\n",
        "<p>No need to declare variable types; Python assigns types dynamically.</p>\n",
        "<pre style=\"background:#F8F9F9; padding:10px; border-radius:5px;\">\n",
        "<b>Example:</b>\n",
        "<code>x = 10   # Integer\n",
        "x = \"Python\"  # Now it's a string\n",
        "print(x)</code>\n",
        "</pre>\n",
        "✅ <b>Output:</b> <code>Python</code>\n",
        "\n",
        "<hr>\n",
        "\n",
        "<h2 style='color:#8E44AD;'>🔥 4. Object-Oriented</h2>\n",
        "<p>Python supports Object-Oriented Programming (OOP) principles.</p>\n",
        "<pre style=\"background:#F8F9F9; padding:10px; border-radius:5px;\">\n",
        "<b>Example:</b>\n",
        "<code>class Car:\n",
        "    def __init__(self, brand):\n",
        "        self.brand = brand\n",
        "\n",
        "    def show(self):\n",
        "        print(\"Car brand:\", self.brand)\n",
        "\n",
        "c1 = Car(\"Tesla\")\n",
        "c1.show()</code>\n",
        "</pre>\n",
        "✅ <b>Output:</b> <code>Car brand: Tesla</code>\n",
        "\n",
        "<hr>\n",
        "\n",
        "<h2 style='color:#E74C3C;'>🌍 5. Platform-Independent</h2>\n",
        "<p>Python runs on Windows, macOS, and Linux without modification.</p>\n",
        "<p><b>Example:</b> A script written on Windows can run on Linux without changes.</p>\n",
        "\n",
        "<hr>\n",
        "\n",
        "<h2 style='color:#3498DB;'>📚 6. Large Standard Library</h2>\n",
        "<p>Python has built-in modules for file handling, networking, and more.</p>\n",
        "<pre style=\"background:#F8F9F9; padding:10px; border-radius:5px;\">\n",
        "<b>Example:</b>\n",
        "<code>import math\n",
        "print(math.sqrt(25))</code>\n",
        "</pre>\n",
        "✅ <b>Output:</b> <code>5.0</code>\n",
        "\n",
        "<hr>\n",
        "\n",
        "\n",
        "\n",
        "<hr>\n",
        "\n",
        "<h2 style='color:#16A085;'>🔗 8. Extensible and Embeddable</h2>\n",
        "<p>Python can integrate with C, C++, and Java for better performance.</p>\n",
        "<pre style=\"background:#F8F9F9; padding:10px; border-radius:5px;\">\n",
        "<b>Example:</b>\n",
        "<code>import ctypes  \n",
        "print(ctypes.CDLL)</code>\n",
        "</pre>\n",
        "\n",
        "<hr>\n",
        "\n",
        "<h2 style='color:#E67E22;'>🧠 9. Multi-Paradigm (OOP, Functional, Procedural)</h2>\n",
        "<p>Python supports multiple programming paradigms.</p>\n",
        "<pre style=\"background:#F8F9F9; padding:10px; border-radius:5px;\">\n",
        "<b>Example:</b>\n",
        "<code>double = lambda x: x * 2\n",
        "print(double(5))</code>\n",
        "</pre>\n",
        "✅ <b>Output:</b> <code>10</code>\n",
        "\n",
        "<hr>\n",
        "\n",
        "<h2 style='color:#2C3E50;'>♻️ 10. Automatic Memory Management</h2>\n",
        "<p>Python uses Garbage Collection for automatic memory management.</p>\n",
        "<pre style=\"background:#F8F9F9; padding:10px; border-radius:5px;\">\n",
        "<b>Example:</b>\n",
        "<code>import gc\n",
        "print(gc.isenabled())</code>\n",
        "</pre>\n",
        "✅ <b>Output:</b> <code>True</code>\n",
        "\n",
        "<hr>\n",
        "\n",
        "\n",
        "display(HTML(html_content))\n"
      ],
      "metadata": {
        "id": "OIYjmLicnJOC"
      }
    },
    {
      "cell_type": "code",
      "source": [],
      "metadata": {
        "id": "LQo6ZwOZOSoh"
      },
      "execution_count": null,
      "outputs": []
    },
    {
      "cell_type": "markdown",
      "source": [
        "# **Operators in Python**\n",
        "Python provides various types of **operators** to perform operations on variables and values. These operators are categorized into the following types:\n",
        "\n",
        "---\n",
        "\n",
        "## **1. Arithmetic Operators**  \n",
        "Used to perform mathematical operations.  \n",
        "\n",
        "| Operator | Description | Example (`a = 10, b = 3`) | Output |\n",
        "|----------|-------------|-------------------|--------|\n",
        "| `+` | Addition | `a + b` | `13` |\n",
        "| `-` | Subtraction | `a - b` | `7` |\n",
        "| `*` | Multiplication | `a * b` | `30` |\n",
        "| `/` | Division (float) | `a / b` | `3.3333` |\n",
        "| `//` | Floor Division | `a // b` | `3` |\n",
        "| `%` | Modulus (remainder) | `a % b` | `1` |\n",
        "| `**` | Exponentiation | `a ** b` | `1000` |\n",
        "\n",
        "---\n",
        "\n",
        "## **2. Comparison (Relational) Operators**  \n",
        "Used to compare values and return a Boolean (`True` or `False`).  \n",
        "\n",
        "| Operator | Description | Example (`a = 10, b = 3`) | Output |\n",
        "|----------|-------------|-------------------|--------|\n",
        "| `==` | Equal to | `a == b` | `False` |\n",
        "| `!=` | Not equal to | `a != b` | `True` |\n",
        "| `>` | Greater than | `a > b` | `True` |\n",
        "| `<` | Less than | `a < b` | `False` |\n",
        "| `>=` | Greater than or equal to | `a >= b` | `True` |\n",
        "| `<=` | Less than or equal to | `a <= b` | `False` |\n",
        "\n",
        "---\n",
        "\n",
        "## **3. Logical Operators**  \n",
        "Used for combining multiple conditions.  \n",
        "\n",
        "| Operator | Description | Example (`x = True, y = False`) | Output |\n",
        "|----------|-------------|-------------------|--------|\n",
        "| `and` | Returns `True` if both conditions are `True` | `x and y` | `False` |\n",
        "| `or` | Returns `True` if at least one condition is `True` | `x or y` | `True` |\n",
        "| `not` | Reverses the boolean value | `not x` | `False` |\n",
        "\n",
        "---\n",
        "\n",
        "## **4. Bitwise Operators**  \n",
        "Operate at the bit level.  \n",
        "\n",
        "| Operator | Description | Example (`a = 10, b = 3` → `a=1010, b=0011`) | Output |\n",
        "|----------|-------------|-------------------|--------|\n",
        "| `&` | Bitwise AND | `a & b` | `2` (`0010`) |\n",
        "| `|` | Bitwise OR | `a | b` | `11` (`1011`) |\n",
        "| `^` | Bitwise XOR | `a ^ b` | `9` (`1001`) |\n",
        "| `~` | Bitwise NOT | `~a` | `-11` |\n",
        "| `<<` | Left Shift | `a << 1` | `20` (`10100`) |\n",
        "| `>>` | Right Shift | `a >> 1` | `5` (`0101`) |\n",
        "\n",
        "---\n",
        "\n",
        "## **5. Assignment Operators**  \n",
        "Used to assign values to variables.  \n",
        "\n",
        "| Operator | Example (`a = 10`) | Equivalent to |\n",
        "|----------|----------------|-------------|\n",
        "| `=` | `a = 10` | `a = 10` |\n",
        "| `+=` | `a += 5` | `a = a + 5` |\n",
        "| `-=` | `a -= 3` | `a = a - 3` |\n",
        "| `*=` | `a *= 2` | `a = a * 2` |\n",
        "| `/=` | `a /= 2` | `a = a / 2` |\n",
        "| `//=` | `a //= 2` | `a = a // 2` |\n",
        "| `%=` | `a %= 3` | `a = a % 3` |\n",
        "| `**=` | `a **= 2` | `a = a ** 2` |\n",
        "| `&=` | `a &= 3` | `a = a & 3` |\n",
        "| `|=` | `a |= 3` | `a = a | 3` |\n",
        "| `^=` | `a ^= 3` | `a = a ^ 3` |\n",
        "| `<<=` | `a <<= 1` | `a = a << 1` |\n",
        "| `>>=` | `a >>= 1` | `a = a >> 1` |\n",
        "\n",
        "---\n",
        "\n",
        "## **6. Identity Operators**  \n",
        "Used to check whether two variables refer to the same object in memory.  \n",
        "\n",
        "| Operator | Description | Example |\n",
        "|----------|-------------|---------|\n",
        "| `is` | Returns `True` if both variables refer to the same object | `a is b` |\n",
        "| `is not` | Returns `True` if both variables do not refer to the same object | `a is not b` |\n",
        "\n",
        "### Example:\n",
        "```python\n",
        "x = [1, 2, 3]\n",
        "y = x\n",
        "z = [1, 2, 3]\n",
        "\n",
        "print(x is y)  # True\n",
        "print(x is z)  # False (different objects)\n",
        "print(x == z)  # True (values are the same)\n"
      ],
      "metadata": {
        "id": "r3hxNPfnjDRM"
      }
    },
    {
      "cell_type": "code",
      "source": [],
      "metadata": {
        "id": "x2FMwKfPfmpZ"
      },
      "execution_count": null,
      "outputs": []
    },
    {
      "cell_type": "markdown",
      "source": [
        "#Simple programs:"
      ],
      "metadata": {
        "id": "VC7xzPLHfpEf"
      }
    },
    {
      "cell_type": "code",
      "source": [
        "# ========================================\n",
        "# 📝 Program 1: Area of a Circle\n",
        "# ========================================\n",
        "import math\n",
        "radius = float(input(\"Enter the radius: \"))\n",
        "area = math.pi * radius ** 2\n",
        "print(\"\\n🔹 Area of the circle:\", round(area, 2))\n",
        "\n",
        "\n",
        "# ========================================\n",
        "# 📝 Program 2: Perimeter of a Circle\n",
        "# ========================================\n",
        "perimeter = 2 * math.pi * radius\n",
        "print(\"\\n🔹 Perimeter of the circle:\", round(perimeter, 2))\n",
        "\n",
        "\n",
        "# ========================================\n",
        "# 📝 Program 3: Bitwise Left & Right Shift\n",
        "# ========================================\n",
        "a = int(input(\"\\nEnter a number: \"))\n",
        "n = int(input(\"Enter shift count: \"))\n",
        "print(f\"\\n🔹 Left Shift ({a} << {n}): {a << n}\")\n",
        "print(f\"🔹 Right Shift ({a} >> {n}): {a >> n}\")\n",
        "\n",
        "\n",
        "# ========================================\n",
        "# 📝 Program 4: XOR Operator Example\n",
        "# ========================================\n",
        "x = int(input(\"\\nEnter first number: \"))\n",
        "y = int(input(\"Enter second number: \"))\n",
        "print(f\"\\n🔹 XOR of {x} and {y}: {x ^ y}\")\n",
        "\n",
        "\n",
        "# ========================================\n",
        "# 📝 Program 5: Swap Two Numbers (XOR)\n",
        "# ========================================\n",
        "a = int(input(\"\\nEnter first number: \"))\n",
        "b = int(input(\"Enter second number: \"))\n",
        "\n",
        "a = a ^ b\n",
        "b = a ^ b\n",
        "a = a ^ b\n",
        "\n",
        "print(f\"\\n🔹 After swapping: a = {a}, b = {b}\")\n",
        "\n",
        "\n",
        "# ========================================\n",
        "# 📝 Program 6: Find Maximum of Three Numbers\n",
        "# ========================================\n",
        "num1 = int(input(\"\\nEnter first number: \"))\n",
        "num2 = int(input(\"Enter second number: \"))\n",
        "num3 = int(input(\"Enter third number: \"))\n",
        "\n",
        "print(f\"\\n🔹 The maximum number is: {max(num1, num2, num3)}\")\n",
        "\n",
        "\n",
        "# ========================================\n",
        "# 📝 Program 7: Factorial of a Number\n",
        "# =======================================\n",
        "\n",
        "\n",
        "# ========================================\n",
        "# 📝 Program 8: Simple Interest Calculation\n",
        "# ========================================\n",
        "P = float(input(\"\\nEnter Principal Amount: \"))\n",
        "R = float(input(\"Enter Rate of Interest: \"))\n",
        "T = float(input(\"Enter Time in Years: \"))\n",
        "\n",
        "SI = (P * R * T) / 100\n",
        "print(f\"\\n🔹 Simple Interest: {SI:.2f}\")\n"
      ],
      "metadata": {
        "id": "2aE54_RGh3KN"
      },
      "execution_count": null,
      "outputs": []
    },
    {
      "cell_type": "markdown",
      "source": [
        "#Emojis in python\n",
        "Here’s a list of commonly used **emoji Unicode characters** for your Python programs! 🚀  \n",
        "\n",
        "---\n",
        "\n",
        "### **✅ Check Marks & Cross Marks**\n",
        "| Emoji | Unicode |\n",
        "|--------|------------|\n",
        "| ✅ (Check Mark) | `\\U00002705` |\n",
        "| ❌ (Cross Mark) | `\\U0000274C` |\n",
        "| ✔️ (Heavy Check Mark) | `\\U00002714` |\n",
        "| ❎ (Negative Check Mark) | `\\U0001F196` |\n",
        "\n",
        "---\n",
        "\n",
        "### **😀 Smileys & Emotions**\n",
        "| Emoji | Unicode |\n",
        "|--------|------------|\n",
        "| 😀 (Grinning Face) | `\\U0001F600` |\n",
        "| 😃 (Grinning Face with Big Eyes) | `\\U0001F603` |\n",
        "| 😁 (Beaming Face with Smiling Eyes) | `\\U0001F601` |\n",
        "| 😂 (Face with Tears of Joy) | `\\U0001F602` |\n",
        "| 😊 (Smiling Face with Smiling Eyes) | `\\U0001F60A` |\n",
        "| 😍 (Heart Eyes) | `\\U0001F60D` |\n",
        "| 😎 (Cool Face) | `\\U0001F60E` |\n",
        "| 🤩 (Star-Struck) | `\\U0001F929` |\n",
        "| 🥳 (Party Face) | `\\U0001F973` |\n",
        "| 🤔 (Thinking Face) | `\\U0001F914` |\n",
        "\n",
        "---\n",
        "\n",
        "### **🚀 Objects & Technology**\n",
        "| Emoji | Unicode |\n",
        "|--------|------------|\n",
        "| 🚀 (Rocket) | `\\U0001F680` |\n",
        "| 🎉 (Party Popper) | `\\U0001F389` |\n",
        "| 🎁 (Gift) | `\\U0001F381` |\n",
        "| 🔥 (Fire) | `\\U0001F525` |\n",
        "| ⭐ (Star) | `\\U00002B50` |\n",
        "| 📌 (Pushpin) | `\\U0001F4CC` |\n",
        "| ✏️ (Pencil) | `\\U0000270F` |\n",
        "| 📂 (Folder) | `\\U0001F4C2` |\n",
        "| 💾 (Floppy Disk) | `\\U0001F4BE` |\n",
        "| 🖥️ (Computer) | `\\U0001F5A5` |\n",
        "\n",
        "---\n",
        "\n",
        "### **❤️ Hearts & Love**\n",
        "| Emoji | Unicode |\n",
        "|--------|------------|\n",
        "| ❤️ (Red Heart) | `\\U00002764` |\n",
        "| 💙 (Blue Heart) | `\\U0001F499` |\n",
        "| 💚 (Green Heart) | `\\U0001F49A` |\n",
        "| 💛 (Yellow Heart) | `\\U0001F49B` |\n",
        "| 💜 (Purple Heart) | `\\U0001F49C` |\n",
        "| 🖤 (Black Heart) | `\\U0001F5A4` |\n",
        "| ❣️ (Heart Exclamation) | `\\U00002763` |\n",
        "\n",
        "---\n",
        "\n",
        "### **🌍 Nature & Weather**\n",
        "| Emoji | Unicode |\n",
        "|--------|------------|\n",
        "| 🌍 (Earth Globe Europe-Africa) | `\\U0001F30D` |\n",
        "| 🌞 (Sun with Face) | `\\U0001F31E` |\n",
        "| 🌙 (Crescent Moon) | `\\U0001F319` |\n",
        "| 🌟 (Glowing Star) | `\\U0001F31F` |\n",
        "| ☁️ (Cloud) | `\\U00002601` |\n",
        "| ☀️ (Sun) | `\\U00002600` |\n",
        "| 🌧️ (Rain Cloud) | `\\U0001F327` |\n",
        "| ❄️ (Snowflake) | `\\U00002744` |\n",
        "\n",
        "---\n",
        "\n",
        "### **🎮 Games & Entertainment**\n",
        "| Emoji | Unicode |\n",
        "|--------|------------|\n",
        "| 🎮 (Game Controller) | `\\U0001F3AE` |\n",
        "| 🎲 (Dice) | `\\U0001F3B2` |\n",
        "| 🎤 (Microphone) | `\\U0001F3A4` |\n",
        "| 🎵 (Musical Note) | `\\U0001F3B5` |\n",
        "| 🎸 (Guitar) | `\\U0001F3B8` |\n",
        "| 🎭 (Performing Arts) | `\\U0001F3AD` |\n",
        "\n",
        "---\n",
        "\n",
        "### **👨‍💻 Professions & Work**\n",
        "| Emoji | Unicode |\n",
        "|--------|------------|\n",
        "| 👨‍💻 (Man Technologist) | `\\U0001F468\\U0000200D\\U0001F4BB` |\n",
        "| 👩‍💻 (Woman Technologist) | `\\U0001F469\\U0000200D\\U0001F4BB` |\n",
        "| 👨‍🏫 (Man Teacher) | `\\U0001F468\\U0000200D\\U0001F3EB` |\n",
        "| 👩‍🏫 (Woman Teacher) | `\\U0001F469\\U0000200D\\U0001F3EB` |\n",
        "\n",
        "---\n",
        "\n",
        "### **🚗 Transport & Travel**\n",
        "| Emoji | Unicode |\n",
        "|--------|------------|\n",
        "| 🚗 (Car) | `\\U0001F697` |\n",
        "| 🚕 (Taxi) | `\\U0001F695` |\n",
        "| 🚌 (Bus) | `\\U0001F68C` |\n",
        "| 🚀 (Rocket) | `\\U0001F680` |\n",
        "| ✈️ (Airplane) | `\\U00002708` |\n",
        "| 🚢 (Ship) | `\\U0001F6A2` |\n",
        "\n",
        "---\n",
        "\n",
        "### **💡 How to Use These Unicode Characters in Python**\n",
        "You can use **Unicode escape sequences** in Python to print emojis:\n",
        "\n",
        "```python\n",
        "print(\"\\U0001F680 Rocket Emoji!\")  # 🚀\n",
        "print(\"\\U0001F601 Beaming Face!\")  # 😁\n",
        "print(\"\\U0001F60D Love Eyes!\")  # 😍\n",
        "```\n",
        "\n",
        "---\n"
      ],
      "metadata": {
        "id": "0pVkXuFGNQ3L"
      }
    },
    {
      "cell_type": "code",
      "source": [
        "print(\"\\U0001F680 Rocket Emoji!\")\n",
        "print(\"\\U0001F601 Beaming Face!\")\n",
        "print(\"\\U0001F60D Love Eyes!\")"
      ],
      "metadata": {
        "id": "C82sV2iyOC5B"
      },
      "execution_count": null,
      "outputs": []
    },
    {
      "cell_type": "markdown",
      "source": [],
      "metadata": {
        "id": "yblYoToygM8r"
      }
    },
    {
      "cell_type": "markdown",
      "source": [
        "#MCQ"
      ],
      "metadata": {
        "id": "scvgKfookeaw"
      }
    },
    {
      "cell_type": "markdown",
      "source": [
        "### **MCQs on Data Types and Features of Python**\n",
        "\n",
        "1. **Which of the following is an immutable data type in Python?**\n",
        "   - A) `list`\n",
        "   - B) `set`\n",
        "   - C) `tuple`\n",
        "   - D) `dictionary`\n",
        "   \n",
        "   **Answer**: **C) tuple**\n",
        "\n",
        "---\n",
        "\n",
        "2. **What is the result of the following Python code?**\n",
        "\n",
        "   ```python\n",
        "   x = 5\n",
        "   y = 2.0\n",
        "   result = x + y\n",
        "   print(result)\n",
        "   ```\n",
        "\n",
        "   - A) `7.0`\n",
        "   - B) `7`\n",
        "   - C) `5.0`\n",
        "   - D) `Error`\n",
        "   \n",
        "   **Answer**: **A) 7.0**\n",
        "\n",
        "---\n",
        "\n",
        "3. **Which of the following is a feature of Python?**\n",
        "   - A) Python is a low-level language.\n",
        "   - B) Python is easy to learn and use.\n",
        "   - C) Python does not support libraries.\n",
        "   - D) Python is only used for web development.\n",
        "\n",
        "   **Answer**: **B) Python is easy to learn and use.**\n",
        "\n",
        "---\n",
        "\n",
        "4. **Which data type is used to store text in Python?**\n",
        "   - A) `str`\n",
        "   - B) `text`\n",
        "   - C) `string`\n",
        "   - D) `char`\n",
        "   \n",
        "   **Answer**: **A) str**\n",
        "\n",
        "---\n",
        "\n",
        "5. **What will be the output of the following code?**\n",
        "\n",
        "   ```python\n",
        "   a = \"Hello\"\n",
        "   b = \"World\"\n",
        "   print(a + b)\n",
        "   ```\n",
        "\n",
        "   - A) `Hello World`\n",
        "   - B) `HelloWorld`\n",
        "   - C) `Hello + World`\n",
        "   - D) `Error`\n",
        "   \n",
        "   **Answer**: **B) HelloWorld**\n",
        "\n",
        "---\n",
        "\n",
        "6. **Which of the following data types is mutable in Python?**\n",
        "   - A) `str`\n",
        "   - B) `tuple`\n",
        "   - C) `list`\n",
        "   - D) `int`\n",
        "   \n",
        "   **Answer**: **C) list**\n",
        "\n",
        "---\n",
        "\n",
        "7. **What is the default return type of the `input()` function in Python?**\n",
        "   - A) `int`\n",
        "   - B) `float`\n",
        "   - C) `str`\n",
        "   - D) `bool`\n",
        "   \n",
        "   **Answer**: **C) str**\n",
        "\n",
        "---\n",
        "\n",
        "8. **Which of the following is NOT a valid Python data type?**\n",
        "   - A) `list`\n",
        "   - B) `set`\n",
        "   - C) `dictionary`\n",
        "   - D) `array`\n",
        "   \n",
        "   **Answer**: **D) array**\n",
        "\n",
        "---\n",
        "\n",
        "9. **Which of the following is used to check the data type of a variable in Python?**\n",
        "   - A) `type()`\n",
        "   - B) `datatype()`\n",
        "   - C) `type_of()`\n",
        "   - D) `isinstance()`\n",
        "   \n",
        "   **Answer**: **A) type()**\n",
        "\n",
        "---\n",
        "\n",
        "10. **Which of the following is true about Python's dynamic typing?**\n",
        "    - A) Variables must be declared with a specific data type.\n",
        "    - B) The data type of a variable cannot change once it is assigned.\n",
        "    - C) Variables can change their data type during the program execution.\n",
        "    - D) Python does not support dynamic typing.\n",
        "    \n",
        "    **Answer**: **C) Variables can change their data type during the program execution.**\n",
        "\n",
        "---\n"
      ],
      "metadata": {
        "id": "cd8-ywz2Ujbn"
      }
    },
    {
      "cell_type": "markdown",
      "source": [
        "\n",
        "### **MCQs on Variables, Identifiers, and Keywords**\n",
        "\n",
        "1. **Which of the following is a valid Python variable name?**\n",
        "   - A) `2variable`\n",
        "   - B) `variable_2`\n",
        "   - C) `@variable`\n",
        "   - D) `variable@2`\n",
        "   \n",
        "   **Answer**: B) `variable_2`\n",
        "\n",
        "---\n",
        "\n",
        "2. **Which of the following is an invalid Python identifier?**\n",
        "   - A) `my_var`\n",
        "   - B) `_var1`\n",
        "   - C) `1var`\n",
        "   - D) `varName`\n",
        "   \n",
        "   **Answer**: C) `1var`\n",
        "\n",
        "---\n",
        "\n",
        "3. **Which of these is a Python keyword?**\n",
        "   - A) `continue`\n",
        "   - B) `loop`\n",
        "   - C) `variable`\n",
        "   - D) `check`\n",
        "   \n",
        "   **Answer**: A) `continue`\n",
        "\n",
        "---\n",
        "\n",
        "4. **Which of the following is not allowed as a Python identifier?**\n",
        "   - A) `myVariable`\n",
        "   - B) `my_variable`\n",
        "   - C) `my-variable`\n",
        "   - D) `my2variable`\n",
        "   \n",
        "   **Answer**: C) `my-variable`\n",
        "\n",
        "---\n",
        "\n",
        "5. **Which of the following is the correct way to create a variable in Python?**\n",
        "   - A) `var = 10`\n",
        "   - B) `int var = 10`\n",
        "   - C) `10 = var`\n",
        "   - D) `var := 10`\n",
        "   \n",
        "   **Answer**: A) `var = 10`\n",
        "\n",
        "---\n",
        "\n",
        "6. **Which of the following is a not reserved  keyword in Python?**\n",
        "   - A) `true`\n",
        "   - B) `else`\n",
        "   - C) `def`\n",
        "   - D) `while`\n",
        "   \n",
        "   **Answer**: B) `true`\n",
        "\n",
        "---\n",
        "\n",
        "7. **Which of the following variable names is valid in Python?**\n",
        "   - A) `my-variable`\n",
        "   - B) `my_variable`\n",
        "   - C) `my@variable`\n",
        "   - D) `my variable`\n",
        "   \n",
        "   **Answer**: B) `my_variable`\n",
        "\n",
        "---\n",
        "\n",
        "8. **Which of the following is a Python keyword used for defining a function?**\n",
        "   - A) `function`\n",
        "   - B) `def`\n",
        "   - C) `method`\n",
        "   - D) `define`\n",
        "   \n",
        "   **Answer**: B) `def`\n",
        "\n",
        "---\n",
        "\n",
        "9. **What will be the result of the following Python code?**\n",
        "\n",
        "   ```python\n",
        "   var = 5\n",
        "   Var = 10\n",
        "   print(var, Var)\n",
        "   ```\n",
        "\n",
        "   - A) `5 10`\n",
        "   - B) `10 5`\n",
        "   - C) `5 5`\n",
        "   - D) Error\n",
        "   \n",
        "   **Answer**: A) `5 10`\n",
        "\n",
        "---\n",
        "\n",
        "10. **Which of the following is not a valid Python identifier?**\n",
        "   - A) `my_var`\n",
        "   - B) `_my_var`\n",
        "   - C) `my-var`\n",
        "   - D) `var_2`\n",
        "   \n",
        "   **Answer**: C) `my-var`\n",
        "\n",
        "---\n",
        "\n",
        "11. **Which Python keyword is used to start a loop?**\n",
        "   - A) `while`\n",
        "   - B) `for`\n",
        "   - C) `loop`\n",
        "   - D) `iterate`\n",
        "   \n",
        "   **Answer**: B) `for`\n",
        "\n",
        "---\n",
        "\n",
        "12. **Which of these is a valid Python keyword?**\n",
        "   - A) `elif`\n",
        "   - B) `elifite`\n",
        "   - C) `elseif`\n",
        "   - D) `ifelse`\n",
        "   \n",
        "   **Answer**: A) `elif`\n",
        "\n",
        "---\n",
        "\n",
        "13. **Which of the following statements is correct about Python variables?**\n",
        "   - A) Variables are case-sensitive.\n",
        "   - B) Variables are not case-sensitive.\n",
        "   - C) Variables can only be numbers.\n",
        "   - D) Variable names must be in lowercase.\n",
        "   \n",
        "   **Answer**: A) Variables are case-sensitive.\n",
        "\n",
        "---\n",
        "\n",
        "14. **What is the result of the following code?**\n",
        "\n",
        "   ```python\n",
        "   var = \"Python\"\n",
        "   print(type(var))\n",
        "   ```\n",
        "\n",
        "   - A) `<class 'str'>`\n",
        "   - B) `<type 'string'>`\n",
        "   - C) `<class 'int'>`\n",
        "   - D) `<class 'list'>`\n",
        "   \n",
        "   **Answer**: A) `<class 'str'>`\n",
        "\n",
        "---\n",
        "\n",
        "15. **Which of these is a valid Python identifier?**\n",
        "   - A) `2_variable`\n",
        "   - B) `variable-2`\n",
        "   - C) `variable_2`\n",
        "   - D) `var$`\n",
        "   \n",
        "   **Answer**: C) `variable_2`\n",
        "\n",
        "---\n",
        "\n",
        "16. **What does the following code print?**\n",
        "\n",
        "   ```python\n",
        "   print(5 < 10)\n",
        "   ```\n",
        "\n",
        "   - A) `True`\n",
        "   - B) `False`\n",
        "   - C) `None`\n",
        "   - D) `Error`\n",
        "   \n",
        "   **Answer**: A) `True`\n",
        "\n",
        "---\n",
        "\n",
        "17. **Which of the following is a correct way to define a constant in Python?**\n",
        "   - A) `PI = 3.14`\n",
        "   - B) `const PI = 3.14`\n",
        "   - C) `constant PI = 3.14`\n",
        "   - D) `final PI = 3.14`\n",
        "   \n",
        "   **Answer**: A) `PI = 3.14`\n",
        "\n",
        "---\n",
        "\n",
        "18. **What is the use of the `global` keyword in Python?**\n",
        "   - A) To create global variables.\n",
        "   - B) To change the value of a global variable inside a function.\n",
        "   - C) To import global modules.\n",
        "   - D) To declare a variable as global outside the function.\n",
        "   \n",
        "   **Answer**: B) To change the value of a global variable inside a function.\n",
        "\n",
        "---\n",
        "\n",
        "19. **Which of the following is a Python keyword that is used to terminate a loop?**\n",
        "   - A) `exit`\n",
        "   - B) `break`\n",
        "   - C) `end`\n",
        "   - D) `stop`\n",
        "   \n",
        "   **Answer**: B) `break`\n",
        "\n",
        "---\n",
        "\n",
        "20. **Which of the following is a valid variable name in Python?**\n",
        "   - A) `2nd_variable`\n",
        "   - B) `my-variable`\n",
        "   - C) `my_variable`\n",
        "   - D) `my variable`\n",
        "   \n",
        "   **Answer**: C) `my_variable`\n",
        "\n",
        "---\n"
      ],
      "metadata": {
        "id": "Ws-XDfxeSn4q"
      }
    },
    {
      "cell_type": "markdown",
      "source": [
        "\n",
        "### **Questions on String Methods:**\n",
        "\n",
        "---\n",
        "\n",
        "1. **What will be the output of the following code?**\n",
        "\n",
        "   ```python\n",
        "   text = \"hello world\"\n",
        "   print(text.capitalize())\n",
        "   ```\n",
        "\n",
        "   - A) `hello world`\n",
        "   - B) `Hello world`\n",
        "   - C) `Hello World`\n",
        "   - D) `Error`\n",
        "\n",
        "   **Answer**: **B) Hello world**\n",
        "\n",
        "---\n",
        "\n",
        "2. **What does the `find()` method return when the substring is not found in the string?**\n",
        "\n",
        "   ```python\n",
        "   text = \"Python programming\"\n",
        "   print(text.find(\"Java\"))\n",
        "   ```\n",
        "\n",
        "   - A) `-1`\n",
        "   - B) `0`\n",
        "   - C) `None`\n",
        "   - D) `Error`\n",
        "\n",
        "   **Answer**: **A) -1**\n",
        "\n",
        "---\n",
        "\n",
        "3. **Which string method is used to check if all characters in a string are digits?**\n",
        "\n",
        "   - A) `isalpha()`\n",
        "   - B) `isdigit()`\n",
        "   - C) `isalnum()`\n",
        "   - D) `isdecimal()`\n",
        "\n",
        "   **Answer**: **B) isdigit()**\n",
        "\n",
        "---\n",
        "\n",
        "4. **What will the following code return?**\n",
        "\n",
        "   ```python\n",
        "   text = \"HELLO\"\n",
        "   print(text.lower())\n",
        "   ```\n",
        "\n",
        "   - A) `hello`\n",
        "   - B) `HELLO`\n",
        "   - C) `Error`\n",
        "   - D) `hello world`\n",
        "\n",
        "   **Answer**: **A) hello**\n",
        "\n",
        "---\n",
        "\n",
        "5. **What will be the output of the following code?**\n",
        "\n",
        "   ```python\n",
        "   text = \"   Python   \"\n",
        "   print(text.strip())\n",
        "   ```\n",
        "\n",
        "   - A) `\"Python\"`\n",
        "   - B) `\"   Python\"`\n",
        "   - C) `\"Python   \"`\n",
        "   - D) `\"   Python   \"`\n",
        "\n",
        "   **Answer**: **A) \"Python\"**\n",
        "\n",
        "---\n",
        "\n",
        "6. **What will the following code output?**\n",
        "\n",
        "   ```python\n",
        "   text = \"Hello\"\n",
        "   print(text.replace(\"o\", \"a\"))\n",
        "   ```\n",
        "\n",
        "   - A) `Hella`\n",
        "   - B) `Hellao`\n",
        "   - C) `Hello`\n",
        "   - D) `Error`\n",
        "\n",
        "   **Answer**: **A) Hella**\n",
        "\n",
        "---\n",
        "\n",
        "7. **What does the `startswith()` method check in a string?**\n",
        "\n",
        "   - A) If the string contains the specified substring.\n",
        "   - B) If the string ends with the specified substring.\n",
        "   - C) If the string starts with the specified substring.\n",
        "   - D) If the string has any uppercase letter.\n",
        "\n",
        "   **Answer**: **C) If the string starts with the specified substring.**\n",
        "\n",
        "---\n",
        "\n",
        "8. **What will be the result of this code?**\n",
        "\n",
        "   ```python\n",
        "   text = \"123456\"\n",
        "   print(text.isdigit())\n",
        "   ```\n",
        "\n",
        "   - A) `True`\n",
        "   - B) `False`\n",
        "   - C) `Error`\n",
        "   - D) `None`\n",
        "\n",
        "   **Answer**: **A) True**\n",
        "\n",
        "---\n",
        "\n",
        "9. **Which method is used to split a string by a specific character?**\n",
        "\n",
        "   - A) `split()`\n",
        "   - B) `partition()`\n",
        "   - C) `slice()`\n",
        "   - D) `break()`\n",
        "\n",
        "   **Answer**: **A) split()**\n",
        "\n",
        "---\n",
        "\n",
        "10. **What will the following code output?**\n",
        "\n",
        "   ```python\n",
        "   text = \"hello world\"\n",
        "   print(text.title())\n",
        "   ```\n",
        "\n",
        "   - A) `Hello World`\n",
        "   - B) `hello World`\n",
        "   - C) `Hello world`\n",
        "   - D) `hello world`\n",
        "\n",
        "   **Answer**: **A) Hello World**\n",
        "\n",
        "---\n",
        "\n",
        "11. **Which method is used to check if a string contains only whitespace characters?**\n",
        "\n",
        "   - A) `isalpha()`\n",
        "   - B) `isspace()`\n",
        "   - C) `isnum()`\n",
        "   - D) `isblank()`\n",
        "\n",
        "   **Answer**: **B) isspace()**\n",
        "\n",
        "---\n",
        "\n",
        "12. **What does the `join()` method do in Python?**\n",
        "\n",
        "   - A) Joins all elements in an iterable with the string as a separator.\n",
        "   - B) Joins two strings together.\n",
        "   - C) Joins elements in a list.\n",
        "   - D) Adds a separator between words.\n",
        "\n",
        "   **Answer**: **A) Joins all elements in an iterable with the string as a separator.**\n",
        "\n",
        "---\n",
        "\n",
        "13. **What is the output of this code?**\n",
        "\n",
        "   ```python\n",
        "   text = \"Welcome to Python\"\n",
        "   print(text.count(\"o\"))\n",
        "   ```\n",
        "\n",
        "   - A) `1`\n",
        "   - B) `2`\n",
        "   - C) `3`\n",
        "   - D) `Error`\n",
        "\n",
        "   **Answer**: **B) 2**\n",
        "\n",
        "---\n",
        "\n",
        "14. **What will the following code print?**\n",
        "\n",
        "   ```python\n",
        "   text = \"python\"\n",
        "   print(text[::-1])\n",
        "   ```\n",
        "\n",
        "   - A) `python`\n",
        "   - B) `nohtyp`\n",
        "   - C) `Python`\n",
        "   - D) `Error`\n",
        "\n",
        "   **Answer**: **B) nohtyp**\n",
        "\n",
        "---\n",
        "\n",
        "15. **Which method is used to check if a string contains only alphabetic characters?**\n",
        "\n",
        "   - A) `isalpha()`\n",
        "   - B) `isalnum()`\n",
        "   - C) `isupper()`\n",
        "   - D) `isalphaandspace()`\n",
        "\n",
        "   **Answer**: **A) isalpha()**\n",
        "\n",
        "---\n"
      ],
      "metadata": {
        "id": "9NYVVyJPV7pO"
      }
    },
    {
      "cell_type": "markdown",
      "source": [
        "\n",
        "###conditional statement : mcq\n",
        "---\n",
        "\n",
        " **1. What will be the output of the following code?**\n",
        "\n",
        "```python\n",
        "num = 10\n",
        "if num > 5:\n",
        "    print(\"Greater than 5\")\n",
        "else:\n",
        "    print(\"Less than or equal to 5\")\n",
        "```\n",
        "\n",
        "- A) `Greater than 5`\n",
        "- B) `Less than or equal to 5`\n",
        "- C) `Error`\n",
        "- D) `Nothing`\n",
        "\n",
        "**Answer**: **A) Greater than 5**\n",
        "\n",
        "---\n",
        "\n",
        "### **2. What will be the output of the following code?**\n",
        "\n",
        "```python\n",
        "num = 4\n",
        "if num % 2 == 0:\n",
        "    print(\"Even\")\n",
        "else:\n",
        "    print(\"Odd\")\n",
        "```\n",
        "\n",
        "- A) `Even`\n",
        "- B) `Odd`\n",
        "- C) `Error`\n",
        "- D) `Nothing`\n",
        "\n",
        "**Answer**: **A) Even**\n",
        "\n",
        "---\n",
        "\n",
        "### **3. What will the following code print?**\n",
        "\n",
        "```python\n",
        "num = 0\n",
        "if num:\n",
        "    print(\"True\")\n",
        "else:\n",
        "    print(\"False\")\n",
        "```\n",
        "\n",
        "- A) `True`\n",
        "- B) `False`\n",
        "- C) `Error`\n",
        "- D) `Nothing`\n",
        "\n",
        "**Answer**: **B) False**\n",
        "\n",
        "---\n",
        "\n",
        "### **4. What will be the output of this code?**\n",
        "\n",
        "```python\n",
        "year = 2020\n",
        "if (year % 4 == 0 and year % 100 != 0) or (year % 400 == 0):\n",
        "    print(\"Leap Year\")\n",
        "else:\n",
        "    print(\"Not a Leap Year\")\n",
        "```\n",
        "\n",
        "- A) `Leap Year`\n",
        "- B) `Not a Leap Year`\n",
        "- C) `Error`\n",
        "- D) `Nothing`\n",
        "\n",
        "**Answer**: **A) Leap Year**\n",
        "\n",
        "---\n",
        "\n",
        "### **5. What will the following code output?**\n",
        "\n",
        "```python\n",
        "text = \"hello\"\n",
        "if text == \"hello\":\n",
        "    print(\"Match\")\n",
        "else:\n",
        "    print(\"No Match\")\n",
        "```\n",
        "\n",
        "- A) `Match`\n",
        "- B) `No Match`\n",
        "- C) `Error`\n",
        "- D) `Nothing`\n",
        "\n",
        "**Answer**: **A) Match**\n",
        "\n",
        "---\n",
        "\n",
        "### **6. What will the following code print?**\n",
        "\n",
        "```python\n",
        "num = 15\n",
        "if num % 5 == 0 and num % 3 == 0:\n",
        "    print(\"Divisible by both 5 and 3\")\n",
        "else:\n",
        "    print(\"Not divisible by both 5 and 3\")\n",
        "```\n",
        "\n",
        "- A) `Divisible by both 5 and 3`\n",
        "- B) `Not divisible by both 5 and 3`\n",
        "- C) `Error`\n",
        "- D) `Nothing`\n",
        "\n",
        "**Answer**: **A) Divisible by both 5 and 3**\n",
        "\n",
        "---\n",
        "\n",
        "### **7. What is the output of the following code?**\n",
        "\n",
        "```python\n",
        "num = -3\n",
        "if num < 0:\n",
        "    print(\"Negative\")\n",
        "else:\n",
        "    print(\"Positive or Zero\")\n",
        "```\n",
        "\n",
        "- A) `Negative`\n",
        "- B) `Positive or Zero`\n",
        "- C) `Error`\n",
        "- D) `Nothing`\n",
        "\n",
        "**Answer**: **A) Negative**\n",
        "\n",
        "---\n",
        "\n",
        "### **8. What will be the output of the following code?**\n",
        "\n",
        "```python\n",
        "num = 10\n",
        "if num > 5:\n",
        "    if num < 15:\n",
        "        print(\"Between 5 and 15\")\n",
        "    else:\n",
        "        print(\"Greater than or equal to 15\")\n",
        "else:\n",
        "    print(\"Less than or equal to 5\")\n",
        "```\n",
        "\n",
        "- A) `Between 5 and 15`\n",
        "- B) `Greater than or equal to 15`\n",
        "- C) `Less than or equal to 5`\n",
        "- D) `Error`\n",
        "\n",
        "**Answer**: **A) Between 5 and 15**\n",
        "\n",
        "---\n",
        "\n",
        "### **9. What will the output be for the following code?**\n",
        "\n",
        "```python\n",
        "string = \"Python\"\n",
        "if string[0] == 'P':\n",
        "    print(\"Starts with P\")\n",
        "else:\n",
        "    print(\"Does not start with P\")\n",
        "```\n",
        "\n",
        "- A) `Starts with P`\n",
        "- B) `Does not start with P`\n",
        "- C) `Error`\n",
        "- D) `Nothing`\n",
        "\n",
        "**Answer**: **A) Starts with P**\n",
        "\n",
        "---\n",
        "\n",
        "### **10. What will be the output of the following code?**\n",
        "\n",
        "```python\n",
        "age = 18\n",
        "if age >= 18:\n",
        "    print(\"Adult\")\n",
        "else:\n",
        "    print(\"Minor\")\n",
        "```\n",
        "\n",
        "- A) `Adult`\n",
        "- B) `Minor`\n",
        "- C) `Error`\n",
        "- D) `Nothing`\n",
        "\n",
        "**Answer**: **A) Adult**\n",
        "\n",
        "---\n",
        "\n",
        "**1. What will be the output of the following code?**\n",
        "\n",
        "```python\n",
        "num = 9\n",
        "if num > 10:\n",
        "    print(\"Greater than 10\")\n",
        "elif num == 9:\n",
        "    print(\"Equal to 9\")\n",
        "else:\n",
        "    print(\"Less than 9\")\n",
        "```\n",
        "\n",
        "- A) `Greater than 10`\n",
        "- B) `Equal to 9`\n",
        "- C) `Less than 9`\n",
        "- D) `Error`\n",
        "\n",
        "**Answer**: **B) Equal to 9**\n",
        "\n",
        "---\n",
        "\n",
        "### **2. What will the following code output?**\n",
        "\n",
        "```python\n",
        "num = -5\n",
        "if num < 0:\n",
        "    print(\"Negative\")\n",
        "elif num == 0:\n",
        "    print(\"Zero\")\n",
        "else:\n",
        "    print(\"Positive\")\n",
        "```\n",
        "\n",
        "- A) `Negative`\n",
        "- B) `Zero`\n",
        "- C) `Positive`\n",
        "- D) `Error`\n",
        "\n",
        "**Answer**: **A) Negative**\n",
        "\n",
        "---\n",
        "\n",
        "### **3. What will be the output of this code?**\n",
        "\n",
        "```python\n",
        "num = 3\n",
        "if num == 1:\n",
        "    print(\"One\")\n",
        "elif num == 2:\n",
        "    print(\"Two\")\n",
        "elif num == 3:\n",
        "    print(\"Three\")\n",
        "else:\n",
        "    print(\"Other\")\n",
        "```\n",
        "\n",
        "- A) `One`\n",
        "- B) `Two`\n",
        "- C) `Three`\n",
        "- D) `Other`\n",
        "\n",
        "**Answer**: **C) Three**\n",
        "\n",
        "---\n",
        "\n",
        "### **4. What will the following code print?**\n",
        "\n",
        "```python\n",
        "num = 15\n",
        "if num % 3 == 0:\n",
        "    if num % 5 == 0:\n",
        "        print(\"Divisible by 3 and 5\")\n",
        "    else:\n",
        "        print(\"Divisible by 3 but not 5\")\n",
        "else:\n",
        "    print(\"Not divisible by 3\")\n",
        "```\n",
        "\n",
        "- A) `Divisible by 3 and 5`\n",
        "- B) `Divisible by 3 but not 5`\n",
        "- C) `Not divisible by 3`\n",
        "- D) `Error`\n",
        "\n",
        "**Answer**: **A) Divisible by 3 and 5**\n",
        "\n",
        "---\n",
        "\n",
        "### **5. What will be the output of this code?**\n",
        "\n",
        "```python\n",
        "name = \"John\"\n",
        "if name != \"Alice\":\n",
        "    print(\"Hello, John!\")\n",
        "else:\n",
        "    print(\"Hello, Alice!\")\n",
        "```\n",
        "\n",
        "- A) `Hello, John!`\n",
        "- B) `Hello, Alice!`\n",
        "- C) `Error`\n",
        "- D) `Nothing`\n",
        "\n",
        "**Answer**: **A) Hello, John!**\n",
        "\n",
        "---\n",
        "\n",
        "### **6. What will the following code output?**\n",
        "\n",
        "```python\n",
        "num = 0\n",
        "if num == 0:\n",
        "    print(\"Zero\")\n",
        "else:\n",
        "    print(\"Non-zero\")\n",
        "```\n",
        "\n",
        "- A) `Zero`\n",
        "- B) `Non-zero`\n",
        "- C) `Error`\n",
        "- D) `Nothing`\n",
        "\n",
        "**Answer**: **A) Zero**\n",
        "\n",
        "---\n",
        "\n",
        "### **7. What will be the output of the following code?**\n",
        "\n",
        "```python\n",
        "x = 20\n",
        "if x < 10:\n",
        "    print(\"Small\")\n",
        "elif x < 30:\n",
        "    print(\"Medium\")\n",
        "else:\n",
        "    print(\"Large\")\n",
        "```\n",
        "\n",
        "- A) `Small`\n",
        "- B) `Medium`\n",
        "- C) `Large`\n",
        "- D) `Error`\n",
        "\n",
        "**Answer**: **B) Medium**\n",
        "\n",
        "---\n",
        "\n",
        "### **8. What will be the output of the following code?**\n",
        "\n",
        "```python\n",
        "num1 = 7\n",
        "num2 = 14\n",
        "if num1 < num2 and num2 % num1 == 0:\n",
        "    print(\"Divisible\")\n",
        "else:\n",
        "    print(\"Not Divisible\")\n",
        "```\n",
        "\n",
        "- A) `Divisible`\n",
        "- B) `Not Divisible`\n",
        "- C) `Error`\n",
        "- D) `Nothing`\n",
        "\n",
        "**Answer**: **A) Divisible**\n",
        "\n",
        "---\n",
        "\n",
        "### **9. What will the following code print?**\n",
        "\n",
        "```python\n",
        "x = 0\n",
        "if x == 0:\n",
        "    print(\"Zero\")\n",
        "elif x < 0:\n",
        "    print(\"Negative\")\n",
        "else:\n",
        "    print(\"Positive\")\n",
        "```\n",
        "\n",
        "- A) `Zero`\n",
        "- B) `Negative`\n",
        "- C) `Positive`\n",
        "- D) `Nothing`\n",
        "\n",
        "**Answer**: **A) Zero**\n",
        "\n",
        "---\n",
        "\n",
        "### **10. What will be the output of the following code?**\n",
        "\n",
        "```python\n",
        "score = 85\n",
        "if score >= 90:\n",
        "    print(\"A\")\n",
        "elif score >= 80:\n",
        "    print(\"B\")\n",
        "else:\n",
        "    print(\"C\")\n",
        "```\n",
        "\n",
        "- A) `A`\n",
        "- B) `B`\n",
        "- C) `C`\n",
        "- D) `Error`\n",
        "\n",
        "**Answer**: **B) B**\n",
        "\n",
        "---\n"
      ],
      "metadata": {
        "id": "5OMpTKp7YJU2"
      }
    },
    {
      "cell_type": "code",
      "source": [
        "# Q-1.\n",
        "a=[1,2,3,4,5,6,7,8,9]\n",
        "print(a[::2])"
      ],
      "metadata": {
        "collapsed": true,
        "id": "1BxJnO9mkYo9"
      },
      "execution_count": null,
      "outputs": []
    },
    {
      "cell_type": "code",
      "source": [
        "a=[1,2,3,4,5,6,7,8,9]\n",
        "a[::2]=10,20,30,40,50,60\n",
        "print(a)\n",
        "# # A. ValueError: attempt to assign sequence of size 6 to extended slice of size 5\n",
        "# # B. [10, 2, 20, 4, 30, 6, 40, 8, 50, 60]\n",
        "# # C. [1, 2, 10, 20, 30, 40, 50, 60]\n",
        "# # D. [1, 10, 3, 20, 5, 30, 7, 40, 9, 50, 60]"
      ],
      "metadata": {
        "id": "HQ80CvNJlsrE"
      },
      "execution_count": null,
      "outputs": []
    },
    {
      "cell_type": "code",
      "source": [
        "a = [1, 2, 3, 4, 5, 6, 7, 8, 9]\n",
        "a[::2] = 10, 20, 30, 40, 50\n",
        "print(a)\n",
        "# Output: [10, 2, 20, 4, 30, 6, 40, 8, 50]\n"
      ],
      "metadata": {
        "id": "DjNiTycklgTp"
      },
      "execution_count": null,
      "outputs": []
    },
    {
      "cell_type": "code",
      "source": [
        "# # Q-3. What will be the output of the following code snippet?\n",
        "\n",
        "a=[1,2,3,4,5]\n",
        "print(a[3:0:-1])\n",
        "\n",
        "# A. Syntax error\n",
        "# B. [4, 3, 2]\n",
        "# C. [4, 3]\n",
        "# D. [4, 3, 2, 1]"
      ],
      "metadata": {
        "collapsed": true,
        "id": "_Rh7Kofyl6Dg"
      },
      "execution_count": null,
      "outputs": []
    },
    {
      "cell_type": "code",
      "source": [
        "def func(value, values):\n",
        "    var = 1\n",
        "    values[0] = 44\n",
        "t = 3\n",
        "v = [1, 2, 3]\n",
        "func(t, v)\n",
        "print(t, v[0])"
      ],
      "metadata": {
        "id": "4-Zq4QuYmBXS"
      },
      "execution_count": null,
      "outputs": []
    },
    {
      "cell_type": "code",
      "source": [
        "\n",
        "\n",
        "# # Q-5. What is the correct command to shuffle the following list?\n",
        "\n",
        "# fruit=['apple', 'banana', 'papaya', 'cherry']\n",
        "# # A. fruit.shuffle()\n",
        "# # B. shuffle(fruit)\n",
        "# # C. random.shuffle(fruit)\n",
        "# # D. random.shuffleList(fruit)"
      ],
      "metadata": {
        "id": "fQw9IFcvmVRS"
      },
      "execution_count": null,
      "outputs": []
    },
    {
      "cell_type": "markdown",
      "source": [
        "#Conditional Statement"
      ],
      "metadata": {
        "id": "jfUtngg6PPpi"
      }
    },
    {
      "cell_type": "markdown",
      "source": [
        "##1️⃣ Check Even or Odd"
      ],
      "metadata": {
        "id": "_S6UZ1E1Poco"
      }
    },
    {
      "cell_type": "code",
      "source": [],
      "metadata": {
        "id": "GU0MmbkdPsac"
      },
      "execution_count": null,
      "outputs": []
    },
    {
      "cell_type": "markdown",
      "metadata": {
        "id": "hBe4flNvpbR5"
      },
      "source": [
        "# **Conditional Looping**\n",
        "Conditional loops are way to repeat something while a certain condition is satisfied, or True. If the condition is always satisfied (never becomes False), the loop can become infinite. If the condition starts off false, the code in the loop will never run!"
      ]
    },
    {
      "cell_type": "markdown",
      "metadata": {
        "id": "RyxJwZa7tlCf"
      },
      "source": [
        "## **The while loop**\n",
        " in Python is used to repeatedly execute a block of code as long as a given condition is true\n",
        "\n"
      ]
    },
    {
      "cell_type": "markdown",
      "source": [],
      "metadata": {
        "id": "1ZWVECFekjha"
      }
    },
    {
      "cell_type": "code",
      "execution_count": null,
      "metadata": {
        "id": "gRFoDKwrtjqm"
      },
      "outputs": [],
      "source": [
        "Syntax:\n",
        "while condition:\n",
        "    # block of code to be executed repeatedly"
      ]
    },
    {
      "cell_type": "code",
      "execution_count": null,
      "metadata": {
        "id": "l4Fk9aEQuNGa"
      },
      "outputs": [],
      "source": [
        "num=0\n",
        "while num < 5:\n",
        "    print(num)\n",
        "    num+= 1"
      ]
    },
    {
      "cell_type": "code",
      "source": [
        "num=2\n",
        "while num<=20:\n",
        "  print(num)\n",
        "  num+=2\n"
      ],
      "metadata": {
        "id": "SSjfs1XWNXKl"
      },
      "execution_count": null,
      "outputs": []
    },
    {
      "cell_type": "code",
      "execution_count": null,
      "metadata": {
        "id": "DJO6H-Lzzknb"
      },
      "outputs": [],
      "source": [
        "num=1\n",
        "while num<=20:\n",
        "  print(num)\n",
        "  num+=2"
      ]
    },
    {
      "cell_type": "code",
      "source": [
        "num=1\n",
        "while num<=20:\n",
        "  if num%2==0:\n",
        "      print(num,\":is an even number\")\n",
        "  else:\n",
        "      print(num,\":is an odd number\")\n",
        "  num+=1"
      ],
      "metadata": {
        "id": "DHiAs1kNObab"
      },
      "execution_count": null,
      "outputs": []
    },
    {
      "cell_type": "code",
      "source": [
        "num=1\n",
        "print(\"number\\t square\")\n",
        "while num<=10:\n",
        "  print(num,\"\\t\",num**2)\n",
        "  num+=1\n"
      ],
      "metadata": {
        "id": "tc2-_cC1PJg9"
      },
      "execution_count": null,
      "outputs": []
    },
    {
      "cell_type": "code",
      "source": [
        "n = int(input(\"Enter a number: \"))\n",
        "\n",
        "for num in range(2, n + 1):\n",
        "    is_prime = True\n",
        "    for i in range(2, num):\n",
        "        if num % i == 0:\n",
        "            is_prime = False\n",
        "            break\n",
        "    if is_prime==True:\n",
        "        print(num)"
      ],
      "metadata": {
        "id": "HK7XpkQTF0Kx"
      },
      "execution_count": null,
      "outputs": []
    },
    {
      "cell_type": "markdown",
      "metadata": {
        "id": "Z64_E4CCrQCf"
      },
      "source": [
        "## **For** **Loop** in **Python**\n",
        "\n",
        "For loops are used for sequential traversal. For example: traversing a list or string or array etc."
      ]
    },
    {
      "cell_type": "code",
      "execution_count": null,
      "metadata": {
        "id": "_iUe2kWlzmC0"
      },
      "outputs": [],
      "source": [
        "for i in range(1,5):#start,end at,step\n",
        "    print(i)"
      ]
    },
    {
      "cell_type": "code",
      "execution_count": null,
      "metadata": {
        "id": "_nmU_bS9z7Dw"
      },
      "outputs": [],
      "source": [
        "for i in range(5):#start,end at,step\n",
        "#it stops at end hence +1 or -1\n",
        "    print(i)"
      ]
    },
    {
      "cell_type": "code",
      "execution_count": null,
      "metadata": {
        "id": "jhxWroQx0BbY"
      },
      "outputs": [],
      "source": [
        "# range(start,end,step):\n",
        "# start:default 0\n",
        "# end:must give\n",
        "# step:default +1"
      ]
    },
    {
      "cell_type": "code",
      "execution_count": null,
      "metadata": {
        "id": "f4q4-jdL0Edo"
      },
      "outputs": [],
      "source": [
        "for i in range(0,10,2):#start,end at,step\n",
        "#it stops at end hence +1 or -1\n",
        "    print(i)"
      ]
    },
    {
      "cell_type": "code",
      "execution_count": null,
      "metadata": {
        "id": "YIergPOp0HmL"
      },
      "outputs": [],
      "source": [
        "for i in range(10,0,-1):#start,end at,step\n",
        "    print(i)"
      ]
    },
    {
      "cell_type": "code",
      "execution_count": null,
      "metadata": {
        "id": "cWZvzGNZ0Y_q"
      },
      "outputs": [],
      "source": [
        "n=int(input(\"Enter n:\"))\n",
        "for i in range(1,n+1,1):#start,end at,step\n",
        "    print(i)"
      ]
    },
    {
      "cell_type": "code",
      "execution_count": null,
      "metadata": {
        "id": "7zNJTDfB0cDo"
      },
      "outputs": [],
      "source": [
        "start=int(input(\"Start\"))\n",
        "end=int(input(\"End\"))\n",
        "if start<end:\n",
        "    for i in range(start,end+1,+1):\n",
        "        print(i)\n",
        "else:\n",
        "    for i in range(start,end-1,-1):\n",
        "        print(i)"
      ]
    },
    {
      "cell_type": "code",
      "execution_count": null,
      "metadata": {
        "id": "hDGKFkoO0hnm"
      },
      "outputs": [],
      "source": [
        "#start to end  but add every odd number and multiply every even number\n",
        "start=int(input(\"Start\"))\n",
        "end=int(input(\"End\"))\n",
        "pro=1\n",
        "sum=0\n",
        "for i in range(start,end+1,1):\n",
        "    if i%2==0:\n",
        "        pro*=i\n",
        "    else:\n",
        "        sum+=i\n",
        "print(\"Total is:\",sum+pro)"
      ]
    },
    {
      "cell_type": "markdown",
      "metadata": {
        "id": "ULm73QTB0-f-"
      },
      "source": [
        "#Pattern Printing"
      ]
    },
    {
      "cell_type": "code",
      "execution_count": null,
      "metadata": {
        "id": "Wsm62jH103TZ"
      },
      "outputs": [],
      "source": [
        "for i in range(1,6):# controlls\n",
        "    for j in range(1,i+1):\n",
        "        print(j,end=' ')#prints\n",
        "    print()#shifts to new line"
      ]
    },
    {
      "cell_type": "code",
      "execution_count": null,
      "metadata": {
        "id": "FBzukgPb1qJt"
      },
      "outputs": [],
      "source": [
        "for i in range(1,6):# controlls\n",
        "    for j in range(1,i+1):\n",
        "        print(j%2,end=' ')#prints\n",
        "    print()#shifts to new line"
      ]
    },
    {
      "cell_type": "code",
      "execution_count": null,
      "metadata": {
        "id": "zs5uu_ki1t3f"
      },
      "outputs": [],
      "source": [
        "for i in range(1,6):# controlls\n",
        "    for j in range(1,i+1):\n",
        "        print(i%2,end=' ')#prints\n",
        "    print()#shifts to new line"
      ]
    },
    {
      "cell_type": "code",
      "execution_count": null,
      "metadata": {
        "id": "hcd06jrq3p3E"
      },
      "outputs": [],
      "source": [
        "for  i in range(1,6):\n",
        "  for j in range(1,7-i):\n",
        "    print(j,end=\" \")\n",
        "  print()\n"
      ]
    },
    {
      "cell_type": "code",
      "execution_count": null,
      "metadata": {
        "id": "IoFCcCLp43ld"
      },
      "outputs": [],
      "source": [
        "for i in range(5,0,-1):\n",
        "  for j in range(i,6):\n",
        "    print(i,end=\" \")\n",
        "  print()\n"
      ]
    },
    {
      "cell_type": "code",
      "execution_count": null,
      "metadata": {
        "id": "XjRViLn97QsX"
      },
      "outputs": [],
      "source": [
        "for i in range(5,0,-1):\n",
        "  for j in range(5,i-1,-1):\n",
        "    print(j,end=\" \")\n",
        "  print()"
      ]
    },
    {
      "cell_type": "code",
      "execution_count": null,
      "metadata": {
        "id": "drXUzKFcoDEI"
      },
      "outputs": [],
      "source": [
        "rows = 5  # Number of rows for the pyramid\n",
        "\n",
        "for i in range(rows):\n",
        "    # Print leading spaces\n",
        "    print(\" \" * (rows - i-1), end=\"\")\n",
        "\n",
        "    # Print asterisks followed by a space\n",
        "    print(\"* \" * (i + 1))\n"
      ]
    },
    {
      "cell_type": "code",
      "execution_count": null,
      "metadata": {
        "id": "lzKT653Spl6M"
      },
      "outputs": [],
      "source": [
        "rows = 5  # Number of rows for the pyramid\n",
        "m = 0     # Starting value for leading spaces\n",
        "\n",
        "for i in range(rows, -1, -1):\n",
        "    # Print leading spaces\n",
        "    print(\" \" * m, end=\"\")\n",
        "\n",
        "    # Print asterisks followed by a space\n",
        "    print(\"* \" * (i))\n",
        "\n",
        "    # Increment leading spaces for the next row\n",
        "    m += 1\n"
      ]
    },
    {
      "cell_type": "code",
      "execution_count": null,
      "metadata": {
        "id": "6RhDL0a6qe89"
      },
      "outputs": [],
      "source": [
        "rows = int(input(\"Enter number of rows: \"))\n",
        "\n",
        "for i in range(rows):\n",
        "    print((chr(65 + i) + \" \") * (i + 1))\n"
      ]
    },
    {
      "cell_type": "code",
      "execution_count": null,
      "metadata": {
        "id": "mFMF--O6qnrL"
      },
      "outputs": [],
      "source": [
        "rows = int(input(\"Enter the number of rows: \"))\n",
        "\n",
        "#Outer for loop to handle number of rows\n",
        "for i in range(1, rows+1):\n",
        "    #Inner for loop to handle number of columns\n",
        "    #values change according to the outer loop\n",
        "        for j in range(i,0,-1):\n",
        "            print(j, end=\" \")\n",
        "\n",
        "        #End line after each row\n",
        "        print()"
      ]
    },
    {
      "cell_type": "code",
      "source": [
        "import time\n",
        "time.sleep(4)\n",
        "n=int(input(\"Enter the number of rows: \"))\n",
        "for i in range(1,n+1):\n",
        "    print(\"* \"*n)\n"
      ],
      "metadata": {
        "id": "db_5Xp0vjs4a"
      },
      "execution_count": null,
      "outputs": []
    },
    {
      "cell_type": "code",
      "source": [
        "time.sleep(2)\n",
        "n=int(input(\"Enter the number of rows: \")) #5\n",
        "for i in range(1,n+1): #i=1\n",
        "    for j in range(1,n+1): #j=2\n",
        "        print(chr(64+i),end=\" \")\n",
        "    print()"
      ],
      "metadata": {
        "id": "Opv-IMN-kPhC"
      },
      "execution_count": null,
      "outputs": []
    },
    {
      "cell_type": "code",
      "source": [
        "time.sleep(2)\n",
        "n=int(input(\"Enter the number of rows: \")) #n=5\n",
        "for i in range(1,n+1): #i=1  , n=6\n",
        "    for j in range(1,n+1): # j=1\n",
        "        print(i,end=\" \")\n",
        "    print()"
      ],
      "metadata": {
        "id": "zjyJR7Rqkf0x"
      },
      "execution_count": null,
      "outputs": []
    },
    {
      "cell_type": "code",
      "source": [
        "time.sleep(2)\n",
        "n=int(input(\"Enter the number of rows: \"))\n",
        "for i in range(1,n+1):\n",
        "    for j in range(1,n+1):\n",
        "        print(n+1-i,end=\" \")\n",
        "    print()\n",
        "time.sleep(2)\n"
      ],
      "metadata": {
        "id": "tv6yZgkWkuIZ"
      },
      "execution_count": null,
      "outputs": []
    },
    {
      "cell_type": "code",
      "source": [
        "n=int(input(\"Enter the number of rows: \"))\n",
        "for i in range(1,n+1):\n",
        "    for j in range(1,1+i):\n",
        "        print(\"*\",end=\" \")\n",
        "    print()\n",
        "time.sleep(2)"
      ],
      "metadata": {
        "id": "K6bYvYGMk9Nl"
      },
      "execution_count": null,
      "outputs": []
    },
    {
      "cell_type": "code",
      "source": [
        "n=int(input(\"Enter the number of rows: \"))\n",
        "for i in range(1,n+1):\n",
        "    print(\"* \"*i)\n",
        "time.sleep(2)"
      ],
      "metadata": {
        "id": "TCvtXm_6lIum"
      },
      "execution_count": null,
      "outputs": []
    },
    {
      "cell_type": "code",
      "source": [
        "n=int(input(\"Enter the number of rows: \"))\n",
        "for i in range(1,n+1):\n",
        "    for j in range(1,1+i):\n",
        "        print(i,end=\" \")\n",
        "    print()"
      ],
      "metadata": {
        "id": "PxOLro_mlSNp"
      },
      "execution_count": null,
      "outputs": []
    },
    {
      "cell_type": "code",
      "source": [
        "n=int(input(\"Enter the number of rows: \"))\n",
        "for i in range(1,n+1):\n",
        "    for j in range(1,1+i):\n",
        "        print(j,end=\" \")\n",
        "    print()"
      ],
      "metadata": {
        "id": "gXvVkZaulkLR"
      },
      "execution_count": null,
      "outputs": []
    },
    {
      "cell_type": "code",
      "source": [
        "n=int(input(\"Enter the number of rows: \"))\n",
        "for i in range(1,n+1):\n",
        "    for j in range(1,1+i):\n",
        "        print(chr(64+i),end=\" \")\n",
        "    print()"
      ],
      "metadata": {
        "id": "XjBxVzghluIw"
      },
      "execution_count": null,
      "outputs": []
    },
    {
      "cell_type": "code",
      "source": [
        "import time\n",
        "n=int(input(\"Enter the number of rows: \"))\n",
        "for i in range(1,n+1):\n",
        "    time.sleep(1)\n",
        "    for j in range(1,n+2-i):\n",
        "        time.sleep(1)\n",
        "        print(\"*\",end=\" \")\n",
        "    print()\n"
      ],
      "metadata": {
        "id": "CAiekRPQl4iW"
      },
      "execution_count": null,
      "outputs": []
    },
    {
      "cell_type": "code",
      "source": [
        "n=int(input(\"Enter the number of rows: \"))\n",
        "for i in range(1,n+1):\n",
        "    for j in range(1,n+2-i):\n",
        "        print(chr(64+j),end=\" \")\n",
        "    print()\n"
      ],
      "metadata": {
        "id": "5SobNZnRmdum"
      },
      "execution_count": null,
      "outputs": []
    },
    {
      "cell_type": "code",
      "source": [
        "n=int(input(\"Enter the number of rows: \"))\n",
        "for i in range(1,n+1):\n",
        "    for j in range(1,n+2-i):\n",
        "        print(n+1-i,end=\" \")\n",
        "    print()\n",
        "time.sleep(2)"
      ],
      "metadata": {
        "id": "kuNkVtuMmlMz"
      },
      "execution_count": null,
      "outputs": []
    },
    {
      "cell_type": "code",
      "source": [
        "import time\n",
        "n=int(input(\"Enter the number of rows: \"))\n",
        "for i in range(1,n+1):   #i=1\n",
        "    print(\" \"*(n-i),end=\" \")\n",
        "    for j in range(1, i+1):#3\n",
        "        time.sleep(1)\n",
        "        print(\"*\",end=\" \")\n",
        "    print()"
      ],
      "metadata": {
        "id": "-dp0Q8uBtPfe"
      },
      "execution_count": null,
      "outputs": []
    },
    {
      "cell_type": "code",
      "source": [
        "n=int(input(\"Enter the number of rows: \"))\n",
        "for i in range(1,n+1):\n",
        "    print(\"  \"*(n-i),end=\" \")\n",
        "    for j in range(1,i):\n",
        "        print(i-j,end=\" \")\n",
        "    for k in range(0,i):\n",
        "        print(k,end=\" \")\n",
        "    print()"
      ],
      "metadata": {
        "id": "ZSfbT_rMtgGS"
      },
      "execution_count": null,
      "outputs": []
    },
    {
      "cell_type": "code",
      "source": [
        "n=int(input(\"Enter the number of rows: \"))\n",
        "for i in range(1,n+1):\n",
        "    print(\"  \"*(n-i),end=\" \")\n",
        "    for j in range(1,i):\n",
        "        print(chr(i-j+65),end=\" \")\n",
        "    for k in range(0,i):\n",
        "        print(chr(k+65),end=\" \")\n",
        "    print()"
      ],
      "metadata": {
        "id": "kci8WMzDtzco"
      },
      "execution_count": null,
      "outputs": []
    },
    {
      "cell_type": "code",
      "source": [
        "for k in range(1,n+1):\n",
        "    print(\" \"*k,end=\" \")\n",
        "    for l in range(1,n+1-k):\n",
        "        print(\"*\", end=\" \")\n",
        "    print()\n",
        "#------------"
      ],
      "metadata": {
        "id": "CHSw4fLfugoz"
      },
      "execution_count": null,
      "outputs": []
    },
    {
      "cell_type": "code",
      "source": [
        "n=int(input(\"Enter the number of rows: \"))\n",
        "for i in range(1,n+1):\n",
        "    print(\" \"*(n-i),end=\" \")\n",
        "    for j in range(1,i+1):\n",
        "        print(i ,end=\" \")\n",
        "    print()"
      ],
      "metadata": {
        "id": "OV7JNycRvC3H"
      },
      "execution_count": null,
      "outputs": []
    },
    {
      "cell_type": "markdown",
      "metadata": {
        "id": "hohtQUOjMiPk"
      },
      "source": [
        "#List"
      ]
    },
    {
      "cell_type": "code",
      "execution_count": null,
      "metadata": {
        "id": "uCt7hAeuMmIR"
      },
      "outputs": [],
      "source": [
        "lst=[] #empty list\n",
        "print(type(lst))"
      ]
    },
    {
      "cell_type": "code",
      "source": [
        "# Prompt the user to enter numbers separated by spaces\n",
        "user_input = input(\"Enter elements separated by spaces: \")\n",
        "\n",
        "# Split the input string by spaces and convert it into a list\n",
        "user_list = user_input.split()\n",
        "\n",
        "\n",
        "print(\"Your list:\", user_list)\n"
      ],
      "metadata": {
        "id": "fkkXM344flE8"
      },
      "execution_count": null,
      "outputs": []
    },
    {
      "cell_type": "code",
      "source": [
        "\n",
        "user_list = list(map(int, input(\"Enter elements separated by spaces: \").split()))\n",
        "\n",
        "print(\"Your list:\", user_list)\n"
      ],
      "metadata": {
        "id": "GJ1_MP0Hf6bl"
      },
      "execution_count": null,
      "outputs": []
    },
    {
      "cell_type": "markdown",
      "metadata": {
        "id": "ziKZlKBFxWhX"
      },
      "source": [
        "## **Sum of the list**"
      ]
    },
    {
      "cell_type": "markdown",
      "source": [
        "\n",
        "\n",
        "---\n",
        "\n",
        "#✅ What is List Comprehension?\n",
        "\n",
        "> **List comprehension** is a concise way to **create a list** using a **single line of code**, based on **some logic or pattern**.\n",
        "\n",
        "### 🔹 Syntax:\n",
        "\n",
        "```python\n",
        "[expression for item in iterable if condition]\n",
        "```\n",
        "\n",
        "---\n",
        "\n",
        "## 🎯 Example 1: Basic Square of Numbers\n",
        "\n",
        "```python\n",
        "squares = [x**2 for x in range(1, 6)]\n",
        "print(squares)\n",
        "```\n",
        "\n",
        "### 🔸 Output:\n",
        "\n",
        "```\n",
        "[1, 4, 9, 16, 25]\n",
        "```\n",
        "\n",
        "🧠 Behind the scenes:\n",
        "\n",
        "* Yeh `for` loop hai, jo har `x` ke liye `x**2` calculate karta hai.\n",
        "\n",
        "---\n",
        "\n",
        "## 🎯 Example 2: Even Numbers Only\n",
        "\n",
        "```python\n",
        "evens = [x for x in range(1, 11) if x % 2 == 0]\n",
        "print(evens)\n",
        "```\n",
        "\n",
        "### 🔸 Output:\n",
        "\n",
        "```\n",
        "[2, 4, 6, 8, 10]\n",
        "```\n",
        "\n",
        "---\n",
        "\n",
        "## 🎯 Example 3: Convert String to List of Characters\n",
        "\n",
        "```python\n",
        "chars = [ch for ch in \"hello\"]\n",
        "print(chars)\n",
        "```\n",
        "\n",
        "### 🔸 Output:\n",
        "\n",
        "```\n",
        "['h', 'e', 'l', 'l', 'o']\n",
        "```\n",
        "\n",
        "---\n",
        "\n",
        "## 🎯 Example 4: Nested Loop (Multiplication Table)\n",
        "\n",
        "```python\n",
        "table = [i * j for i in range(1, 4) for j in range(1, 4)]\n",
        "print(table)\n",
        "```\n",
        "\n",
        "### 🔸 Output:\n",
        "\n",
        "```\n",
        "[1, 2, 3, 2, 4, 6, 3, 6, 9]\n",
        "```\n",
        "\n",
        "---\n",
        "\n",
        "## 🎯 Example 5: Add if...else (Odd/Even labeling)\n",
        "\n",
        "```python\n",
        "labels = [\"Even\" if x % 2 == 0 else \"Odd\" for x in range(1, 6)]\n",
        "print(labels)\n",
        "```\n",
        "\n",
        "### 🔸 Output:\n",
        "\n",
        "```\n",
        "['Odd', 'Even', 'Odd', 'Even', 'Odd']\n",
        "```\n",
        "\n",
        "---\n",
        "\n",
        "## 🛠 Traditional vs List Comprehension\n",
        "\n",
        "### 🔸 Without comprehension:\n",
        "\n",
        "```python\n",
        "squares = []\n",
        "for i in range(1, 6):\n",
        "    squares.append(i**2)\n",
        "```\n",
        "\n",
        "### 🔸 With comprehension:\n",
        "\n",
        "```python\n",
        "squares = [i**2 for i in range(1, 6)]\n",
        "```\n"
      ],
      "metadata": {
        "id": "RQqk2XzDXOyS"
      }
    },
    {
      "cell_type": "code",
      "execution_count": null,
      "metadata": {
        "id": "GY9VqzJRMvu5",
        "collapsed": true
      },
      "outputs": [],
      "source": [
        "lst=[12,13,144,15]\n",
        "print(sum(lst))"
      ]
    },
    {
      "cell_type": "code",
      "execution_count": null,
      "metadata": {
        "id": "SrH1CYLyNMIP"
      },
      "outputs": [],
      "source": [
        "sum=0\n",
        "for i in lst:\n",
        "  sum+=i\n",
        "print(sum)"
      ]
    },
    {
      "cell_type": "code",
      "execution_count": null,
      "metadata": {
        "id": "U8sfI35pNu4S"
      },
      "outputs": [],
      "source": [
        "sum=0\n",
        "for i in range(len(lst)):\n",
        "  sum+=lst[i]\n",
        "print(sum)"
      ]
    },
    {
      "cell_type": "code",
      "execution_count": null,
      "metadata": {
        "id": "2ofqTOtrN8jz"
      },
      "outputs": [],
      "source": [
        "sum=0\n",
        "num=0\n",
        "while num<len(lst):\n",
        "  sum+=lst[num]\n",
        "  num+=1\n",
        "print(sum)\n",
        "\n"
      ]
    },
    {
      "cell_type": "markdown",
      "metadata": {
        "id": "zZNcsJiKwzL9"
      },
      "source": [
        "##*Find the minimum/maximum in the list*"
      ]
    },
    {
      "cell_type": "code",
      "execution_count": null,
      "metadata": {
        "id": "n-nXLmiQOjWh"
      },
      "outputs": [],
      "source": [
        "lst=[12,13,144,15]\n",
        "min = lst[0]  # Initialize min with the first element\n",
        "for i in range(len(lst)):\n",
        "  if lst[i]< min:\n",
        "    min = lst[i]\n",
        "print(min)"
      ]
    },
    {
      "cell_type": "code",
      "execution_count": null,
      "metadata": {
        "colab": {
          "background_save": true
        },
        "id": "Gism1TL9S_pk"
      },
      "outputs": [],
      "source": [
        "lst = [12, 13, 144, 15]\n",
        "min = lst[0]  # Initialize min with the first element\n",
        "\n",
        "for i in lst[1:]: # Iterate through the list using slicing\n",
        "  if i < min:\n",
        "    min = i\n",
        "\n",
        "print(min)"
      ]
    },
    {
      "cell_type": "code",
      "execution_count": null,
      "metadata": {
        "id": "VfYiRXBWNC1Z"
      },
      "outputs": [],
      "source": [
        "print(min(lst))"
      ]
    },
    {
      "cell_type": "code",
      "execution_count": null,
      "metadata": {
        "id": "eyMFcu8fNG4x"
      },
      "outputs": [],
      "source": [
        "print(max(lst))"
      ]
    },
    {
      "cell_type": "code",
      "execution_count": null,
      "metadata": {
        "id": "POeE5268ldj4"
      },
      "outputs": [],
      "source": [
        "lst = [12, 13, 144, 15]\n",
        "max = lst[0]  # Initialize min with the first element\n",
        "\n",
        "for i in lst[1:]: # Iterate through the list using slicing\n",
        "  if i < min:\n",
        "    min = i\n",
        "\n",
        "print(min)"
      ]
    },
    {
      "cell_type": "code",
      "source": [
        "arr = [5, 3, 9, 2, 8]\n",
        "\n",
        "maximum = arr[0]\n",
        "minimum = arr[0]\n",
        "\n",
        "for value in arr:\n",
        "    if value > maximum:\n",
        "        maximum = value\n",
        "    elif value < minimum:\n",
        "        minimum = value\n",
        "\n",
        "print(\"Maximum:\", maximum)\n",
        "print(\"Minimum:\", minimum)\n"
      ],
      "metadata": {
        "id": "jv_6Hlsi9d8h"
      },
      "execution_count": null,
      "outputs": []
    },
    {
      "cell_type": "markdown",
      "metadata": {
        "id": "UrVUrESGweVr"
      },
      "source": [
        "## **Reverse a list in Python**"
      ]
    },
    {
      "cell_type": "code",
      "execution_count": null,
      "metadata": {
        "id": "ng_D--FUwZdI"
      },
      "outputs": [],
      "source": [
        "list1 = [100, 200, 300, 400, 500]\n",
        "list1.reverse()\n",
        "print(list1)"
      ]
    },
    {
      "cell_type": "code",
      "execution_count": null,
      "metadata": {
        "id": "4N9T3m0Pn-6r"
      },
      "outputs": [],
      "source": [
        "lst=[10,12,13,14,15,16]\n",
        "lst1=[]\n",
        "for i in range(len(lst)-1,-1,-1):\n",
        "  lst1.append(lst[i])\n",
        "print(lst1)"
      ]
    },
    {
      "cell_type": "code",
      "execution_count": null,
      "metadata": {
        "id": "RNuVQhQRqF9F"
      },
      "outputs": [],
      "source": [
        "lst[::-1]"
      ]
    },
    {
      "cell_type": "markdown",
      "source": [
        "## 2. Find the Second Largest Element:"
      ],
      "metadata": {
        "id": "eGNc2XUz-xw7"
      }
    },
    {
      "cell_type": "code",
      "source": [
        "arr = [7, 3, 9, 2, 8]\n",
        "\n",
        "sorted_arr = sorted(set(arr), reverse=True)\n",
        "\n",
        "if len(sorted_arr) > 1:\n",
        "    second_largest = sorted_arr[1]\n",
        "    print(\"Second Largest:\", second_largest)\n",
        "else:\n",
        "    print(\"No second largest element.\")\n"
      ],
      "metadata": {
        "id": "DGtLwdDN-xBS"
      },
      "execution_count": null,
      "outputs": []
    },
    {
      "cell_type": "markdown",
      "metadata": {
        "id": "d1sAFDx3yj6G"
      },
      "source": [
        "##**change the sign of elements**"
      ]
    },
    {
      "cell_type": "code",
      "execution_count": null,
      "metadata": {
        "id": "VoNAAeE80cM2"
      },
      "outputs": [],
      "source": [
        "abs(-1)\n"
      ]
    },
    {
      "cell_type": "code",
      "execution_count": null,
      "metadata": {
        "id": "66_uB55O01Wu"
      },
      "outputs": [],
      "source": [
        "-abs(1)"
      ]
    },
    {
      "cell_type": "code",
      "execution_count": null,
      "metadata": {
        "id": "JLUzcdKy05u5"
      },
      "outputs": [],
      "source": [
        "lst=[1,2,3,4,5,6,7]\n",
        "temp_lst=[]\n",
        "for i in lst:\n",
        "  temp_lst.append(-abs(i))\n",
        "print(temp_lst)"
      ]
    },
    {
      "cell_type": "code",
      "execution_count": null,
      "metadata": {
        "id": "eqJkHyGk2ann"
      },
      "outputs": [],
      "source": [
        "lst=[-1,2,3,5,-6,90]\n",
        "temp_lst=[]\n",
        "for i in lst:\n",
        "  if i==-abs(i):   #-1==-1\n",
        "    temp_lst.append(abs(i)) #[1]\n",
        "  else:\n",
        "    temp_lst.append(-abs(i))\n",
        "print(temp_lst)\n"
      ]
    },
    {
      "cell_type": "markdown",
      "metadata": {
        "id": "tuAWSsb7y5XM"
      },
      "source": [
        "##**Count the negative number in array**"
      ]
    },
    {
      "cell_type": "code",
      "execution_count": null,
      "metadata": {
        "id": "LgTpSfxp5uil"
      },
      "outputs": [],
      "source": [
        "\n",
        "lst=[67,89,-1,12,-8,18,-3]\n",
        "count=0\n",
        "for i in lst:\n",
        "  if i<0:\n",
        "    count+=1\n",
        "print(count)"
      ]
    },
    {
      "cell_type": "code",
      "execution_count": null,
      "metadata": {
        "id": "ZrW7-UcM6kzI"
      },
      "outputs": [],
      "source": [
        "#sort the list\n",
        "lst=[1,-1,2,-2,3,-3,0,5,-4]\n",
        "sort_lst=sorted(lst)\n",
        "print(sort_lst)"
      ]
    },
    {
      "cell_type": "code",
      "execution_count": null,
      "metadata": {
        "id": "g4p6D7EP7Zkb"
      },
      "outputs": [],
      "source": [
        "lst = [1,-1, 2, -2, 3, -3,5,5, -4]\n",
        "temp_lst = []\n",
        "\n",
        "for i in range(len(lst)):\n",
        "    if -lst[i] in lst:\n",
        "      temp_lst.append(lst[i])\n",
        "print(temp_lst)"
      ]
    },
    {
      "cell_type": "markdown",
      "metadata": {
        "id": "9gGlLKx140ZR"
      },
      "source": [
        "## **Concatenate two lists index-wise**"
      ]
    },
    {
      "cell_type": "code",
      "execution_count": null,
      "metadata": {
        "id": "hNHUM0slrjtC"
      },
      "outputs": [],
      "source": [
        "list1 = [\"M\", \"na\", \"i\", \"Kh\"]\n",
        "list2 = [\"y\", \"me\", \"s\", \"an\"]\n",
        "lst3=[]\n",
        "for i in range(len(list1)):\n",
        "  lst3.append(list1[i]+list2[i])\n",
        "print(lst3)"
      ]
    },
    {
      "cell_type": "code",
      "execution_count": null,
      "metadata": {
        "id": "5vTcH-275cff"
      },
      "outputs": [],
      "source": [
        "list1 = [\"M\", \"na\", \"i\", \"Kh\"]\n",
        "list2 = [\"y\", \"me\", \"s\", \"an\"]\n",
        "lst3=[]\n",
        "for i,j in zip(list1,list2):\n",
        "  lst3.append(i+j)\n",
        "print(lst3)"
      ]
    },
    {
      "cell_type": "code",
      "execution_count": null,
      "metadata": {
        "id": "07zlFL7w5s4S"
      },
      "outputs": [],
      "source": [
        "list1 = [\"M\", \"na\", \"i\", \"Kh\"]\n",
        "list2 = [\"y\", \"me\", \"s\", \"an\"]\n",
        "lst3=[]\n",
        "for i,j in zip(list1,list2):\n",
        "  print(i+j,end=\" \")"
      ]
    },
    {
      "cell_type": "markdown",
      "metadata": {
        "id": "MA9wt1Yr6B3W"
      },
      "source": [
        "## **Turn every item of a list into its square**"
      ]
    },
    {
      "cell_type": "code",
      "execution_count": null,
      "metadata": {
        "id": "xuqTCGDj6Ban"
      },
      "outputs": [],
      "source": [
        "numbers = [1, 2, 3, 4, 5, 6, 7]\n",
        "res = []\n",
        "for i in numbers:\n",
        "    # calculate square and add to the result list\n",
        "    res.append(i * i)\n",
        "print(res)"
      ]
    },
    {
      "cell_type": "code",
      "execution_count": null,
      "metadata": {
        "id": "g1PtcZw48SFO"
      },
      "outputs": [],
      "source": [
        "squares = [i**2 for i in range(1, 6)]\n",
        "print(squares)"
      ]
    },
    {
      "cell_type": "markdown",
      "source": [
        "##Remove Duplicates from Unsorted Array:\n"
      ],
      "metadata": {
        "id": "t7egcQVHARdo"
      }
    },
    {
      "cell_type": "code",
      "source": [
        "arr = [3, 2, 3, 1, 2, 4]\n",
        "\n",
        "u_arr = list(set(arr))\n",
        "\n",
        "print(\"Array without duplicates:\", u_arr)\n"
      ],
      "metadata": {
        "id": "NSe-cZCaAkNc"
      },
      "execution_count": null,
      "outputs": []
    },
    {
      "cell_type": "markdown",
      "source": [
        "##Find Missing Number in Array"
      ],
      "metadata": {
        "id": "ANOwuQ9cBRvZ"
      }
    },
    {
      "cell_type": "code",
      "source": [
        "arr = [0, 1, 3]\n",
        "\n",
        "n = len(arr)\n",
        "esum = n * (n + 1) // 2\n",
        "asum = sum(arr)\n",
        "\n",
        "missing = esum - asum\n",
        "\n",
        "print(\"Missing Number:\", missing)\n"
      ],
      "metadata": {
        "id": "MtnB9efOBNhU"
      },
      "execution_count": null,
      "outputs": []
    },
    {
      "cell_type": "markdown",
      "source": [
        "##Intersection of Two Arrays:"
      ],
      "metadata": {
        "id": "hFhC5ee0B72k"
      }
    },
    {
      "cell_type": "code",
      "source": [
        "arr1 = [1, 2, 2, 1]\n",
        "arr2 = [2, 2]\n",
        "\n",
        "set1 = set(arr1)\n",
        "intersection = []\n",
        "\n",
        "for x in arr2:\n",
        "    if x in set1:\n",
        "        intersection.append(x)\n",
        "\n",
        "print(\"Intersection:\", intersection)\n"
      ],
      "metadata": {
        "id": "6zMi3iFqB6Kt"
      },
      "execution_count": null,
      "outputs": []
    },
    {
      "cell_type": "code",
      "source": [
        "arr1 = [1, 2, 3]\n",
        "arr2 = [2, 3, 4]\n",
        "arr3 = [3, 4, 5]\n",
        "\n",
        "# Convert arrays to sets\n",
        "set1 = set(arr1)\n",
        "set2 = set(arr2)\n",
        "set3 = set(arr3)\n",
        "\n",
        "# Find the intersection of all three sets\n",
        "intersection = list(set1 & set2 & set3)\n",
        "\n",
        "print(\"Common elements:\", intersection)\n"
      ],
      "metadata": {
        "id": "T4rAydQ5O1og"
      },
      "execution_count": null,
      "outputs": []
    },
    {
      "cell_type": "code",
      "source": [],
      "metadata": {
        "id": "_q3O2MtNkn_5"
      },
      "execution_count": null,
      "outputs": []
    },
    {
      "cell_type": "markdown",
      "source": [
        "## Array Rotation"
      ],
      "metadata": {
        "id": "vwqTj4qrFpbo"
      }
    },
    {
      "cell_type": "code",
      "source": [
        "arr = [1, 2, 3, 4, 5]\n",
        "steps = 2\n",
        "\n",
        "for i in range(steps):\n",
        "    arr.insert(0, arr.pop())\n",
        "\n",
        "print(\"Rotated Array:\", arr)\n"
      ],
      "metadata": {
        "id": "2zn2NgjADl29"
      },
      "execution_count": null,
      "outputs": []
    },
    {
      "cell_type": "markdown",
      "source": [
        "##Rearrange Positive and Negative Numbers:"
      ],
      "metadata": {
        "id": "zNF9oQCEFfSs"
      }
    },
    {
      "cell_type": "code",
      "source": [
        "arr = [-1, 2, -3, 4, 5, -6]\n",
        "\n",
        "positive = []\n",
        "negative = []\n",
        "\n",
        "for num in arr:\n",
        "    if num >= 0:\n",
        "        positive.append(num)\n",
        "    else:\n",
        "        negative.append(num)\n",
        "\n",
        "result = []\n",
        "i, j = 0, 0\n",
        "\n",
        "for k in range(len(arr)):\n",
        "    if k % 2 == 0 and i < len(negative):\n",
        "        result.append(negative[i])\n",
        "        i += 1\n",
        "    elif k % 2 != 0 and j < len(positive):\n",
        "        result.append(positive[j])\n",
        "        j += 1\n",
        "\n",
        "# If any elements remain in positive or negative lists, append them\n",
        "result.extend(negative[i:])\n",
        "result.extend(positive[j:])\n",
        "\n",
        "print(\"Rearranged Array:\", result)\n"
      ],
      "metadata": {
        "id": "JJWTI6Y2FcY_"
      },
      "execution_count": null,
      "outputs": []
    },
    {
      "cell_type": "markdown",
      "source": [
        "##Find the Majority Element:"
      ],
      "metadata": {
        "id": "dSDTKVsSHYOw"
      }
    },
    {
      "cell_type": "code",
      "source": [
        "arr = [3, 3, 8, 2, 8, 4, 2, 4, 4]\n",
        "\n",
        "arr.sort()  # Sort the array\n",
        "candidate = arr[len(arr) // 2]  # Middle element after sorting\n",
        "# Count the occurrences of the candidate\n",
        "count = arr.count(candidate)\n",
        "\n",
        "if count > len(arr) // 2:\n",
        "    print(\"Majority Element:\", candidate)\n",
        "else:\n",
        "    print(\"No Majority Element\")\n"
      ],
      "metadata": {
        "id": "flbIdgr7GlZ6"
      },
      "execution_count": null,
      "outputs": []
    },
    {
      "cell_type": "markdown",
      "source": [
        "## Product of Array Except Self"
      ],
      "metadata": {
        "id": "mtEjvaX9JhLM"
      }
    },
    {
      "cell_type": "code",
      "source": [
        "arr = [1, 2, 3, 4]\n",
        "\n",
        "n = len(arr)\n",
        "output = [1] * n\n",
        "\n",
        "# Left pass: Calculate product of elements to the left of each index\n",
        "left_product = 1\n",
        "for i in range(n):\n",
        "    output[i] = left_product\n",
        "    left_product *= arr[i]\n",
        "\n",
        "# Right pass: Multiply with product of elements to the right of each index\n",
        "right_product = 1\n",
        "for i in range(n-1, -1, -1):\n",
        "    output[i] *= right_product\n",
        "    right_product *= arr[i]\n",
        "\n",
        "print(\"Output:\", output)"
      ],
      "metadata": {
        "id": "worAQxSpJeP9"
      },
      "execution_count": null,
      "outputs": []
    },
    {
      "cell_type": "markdown",
      "source": [
        "## Move Zeros to the End:\n"
      ],
      "metadata": {
        "id": "UC57mwlHKr1b"
      }
    },
    {
      "cell_type": "code",
      "source": [
        "nums = [0, 1, 0, 3, 12]\n",
        "\n",
        "length = len(nums)\n",
        "last_non_zero_index = 0\n",
        "\n",
        "for i in range(length):\n",
        "    if nums[i] != 0:\n",
        "        nums[last_non_zero_index] = nums[i]\n",
        "        last_non_zero_index += 1\n",
        "\n",
        "for i in range(last_non_zero_index, length):\n",
        "    nums[i] = 0\n",
        "\n",
        "print(\"Array after moving zeros:\", nums)"
      ],
      "metadata": {
        "id": "syAm89YaKnJj"
      },
      "execution_count": null,
      "outputs": []
    },
    {
      "cell_type": "markdown",
      "source": [
        " ## Dutch National Flag Problem"
      ],
      "metadata": {
        "id": "TwgDWSczNfZN"
      }
    },
    {
      "cell_type": "code",
      "source": [
        "nums = [2, 0, 1, 2, 1, 0]\n",
        "\n",
        "nums.sort()\n",
        "\n",
        "print(\"Sorted array:\", nums)\n"
      ],
      "metadata": {
        "id": "s07ZXss3NeEf"
      },
      "execution_count": null,
      "outputs": []
    },
    {
      "cell_type": "markdown",
      "source": [
        "## Find the Kth Largest Element:"
      ],
      "metadata": {
        "id": "B5vTMCMNOSY6"
      }
    },
    {
      "cell_type": "code",
      "source": [
        "nums = [3, 2, 1, 5, 6, 4]\n",
        "k = 2\n",
        "\n",
        "# Sort the array in descending order\n",
        "nums.sort(reverse=True)\n",
        "\n",
        "# Get the Kth largest element\n",
        "kth_largest = nums[k - 1]\n",
        "\n",
        "print(\"Kth largest element:\", kth_largest)\n"
      ],
      "metadata": {
        "id": "lWMW463AN-Cc"
      },
      "execution_count": null,
      "outputs": []
    },
    {
      "cell_type": "markdown",
      "source": [
        "#Function\n",
        "A function is a reusable block of code that performs a specific task when called."
      ],
      "metadata": {
        "id": "X879XQ1kiLEs"
      }
    },
    {
      "cell_type": "markdown",
      "source": [
        "✅ Types of Functions in Python\n",
        "Python supports two main categories of functions:\n",
        "\n",
        "1️⃣ Built-in Functions<br>\n",
        "2️⃣ User-defined Functions"
      ],
      "metadata": {
        "id": "qVDdLf2BZstI"
      }
    },
    {
      "cell_type": "markdown",
      "source": [
        "##🔹 1. Built-in Functions\n",
        "These are already defined in Python and ready to use."
      ],
      "metadata": {
        "id": "qSH9468IZ0R7"
      }
    },
    {
      "cell_type": "code",
      "source": [
        "print(\"Hello\")\n",
        "len(\"Rafik\")\n",
        "max(10, 20)\n",
        "sum([1, 2, 3])\n",
        "type(5)"
      ],
      "metadata": {
        "id": "g0uSPLtAZ-e5"
      },
      "execution_count": null,
      "outputs": []
    },
    {
      "cell_type": "code",
      "source": [
        "print(dir(__builtins__))\n"
      ],
      "metadata": {
        "id": "RNWf_Gc6aXae"
      },
      "execution_count": null,
      "outputs": []
    },
    {
      "cell_type": "code",
      "source": [
        "import builtins\n",
        "\n",
        "print(\"Python Built-in Functions:\\n\")\n",
        "\n",
        "for name in dir(builtins):\n",
        "    if callable(getattr(builtins, name)):\n",
        "        print(name)\n"
      ],
      "metadata": {
        "id": "Nlxiy5UWavgg"
      },
      "execution_count": null,
      "outputs": []
    },
    {
      "cell_type": "code",
      "source": [
        "def greet():\n",
        "    print(\"Hello, sir!\")\n",
        "\n",
        "greet()"
      ],
      "metadata": {
        "id": "bHJVGO4eYSDq"
      },
      "execution_count": null,
      "outputs": []
    },
    {
      "cell_type": "markdown",
      "source": [
        "##User-defined Functions\n",
        "Functions that you define using the def keyword.\n",
        "\n",
        " **list of main types of user-defined functions** in Python:\n",
        "\n",
        "---\n",
        "\n",
        "### ✅ List of User-Defined Function Types:\n",
        "\n",
        "1. Function with no arguments and no return value\n",
        "2. Function with arguments and no return value\n",
        "3. Function with arguments and return value\n",
        "4. Function with default arguments\n",
        "5. Function with variable-length positional arguments (`*args`)\n",
        "6. Function with variable-length keyword arguments (`**kwargs`)\n",
        "7. Lambda (anonymous) function\n",
        "\n",
        "---\n"
      ],
      "metadata": {
        "id": "kSBeVKDmb_rL"
      }
    },
    {
      "cell_type": "markdown",
      "source": [
        "##variable-length positional arguments (*args)"
      ],
      "metadata": {
        "id": "rR-KK465dQup"
      }
    },
    {
      "cell_type": "code",
      "source": [
        "def total_sum(*args):\n",
        "    print(\"Sum:\", sum(args))\n",
        "\n",
        "total_sum(10, 20, 30)\n"
      ],
      "metadata": {
        "id": "j5jyo3k9dgo_"
      },
      "execution_count": null,
      "outputs": []
    },
    {
      "cell_type": "code",
      "source": [
        "def multiply(*args):\n",
        "    result = 1\n",
        "    for num in args:\n",
        "        result *= num\n",
        "    print(\"Product:\", result)\n",
        "\n",
        "multiply(2, 3, 4)\n"
      ],
      "metadata": {
        "id": "Kwt9jkPYd3NL"
      },
      "execution_count": null,
      "outputs": []
    },
    {
      "cell_type": "code",
      "source": [
        "def count_args(*args):\n",
        "    print(\"Total arguments:\", len(args))\n",
        "\n",
        "count_args(10, 20, 30, 40, 50)"
      ],
      "metadata": {
        "id": "KzCq1Sjid-rw"
      },
      "execution_count": null,
      "outputs": []
    },
    {
      "cell_type": "markdown",
      "source": [
        "##variable-length keyword arguments (**kwargs)"
      ],
      "metadata": {
        "id": "osiGFpUieXQo"
      }
    },
    {
      "cell_type": "code",
      "source": [
        "def print_info(**kwargs):\n",
        "    for key, value in kwargs.items():\n",
        "        print(f\"{key} : {value}\")\n",
        "\n",
        "print_info(name=\"Rafik\", age=22, course=\"Python\")\n"
      ],
      "metadata": {
        "id": "RSD5wgGIea00"
      },
      "execution_count": null,
      "outputs": []
    },
    {
      "cell_type": "code",
      "source": [
        "def count_kwargs(**kwargs):\n",
        "    print(\"Total keyword arguments:\", len(kwargs))\n",
        "\n",
        "count_kwargs(a=1, b=2, c=3)\n"
      ],
      "metadata": {
        "id": "89QDn6UUefzD"
      },
      "execution_count": null,
      "outputs": []
    },
    {
      "cell_type": "code",
      "source": [
        "def greet_person(**kwargs):\n",
        "    if \"name\" in kwargs and \"city\" in kwargs:\n",
        "        print(f\"Hello {kwargs['name']} from {kwargs['city']}!\")\n",
        "    else:\n",
        "        print(\"Hello Guest!\")\n",
        "\n",
        "greet_person(name=\"Rafik\", city=\"Pune\")\n"
      ],
      "metadata": {
        "id": "PFCfjHWyeqly"
      },
      "execution_count": null,
      "outputs": []
    },
    {
      "cell_type": "markdown",
      "source": [
        "---\n",
        "\n",
        "## ✅ Difference Between **Parameters** and **Arguments**\n",
        "\n",
        "| Term          | Explanation                                             | Example         |\n",
        "| ------------- | ------------------------------------------------------- | --------------- |\n",
        "| **Parameter** | Variable name in the **function definition**            | `def add(a, b)` |\n",
        "| **Argument**  | Actual value passed to the function **when calling it** | `add(5, 3)`     |\n",
        "\n",
        "---\n",
        "\n",
        "### 🧠 Think of it Like:\n",
        "\n",
        "> **Parameter = Placeholder**<br>\n",
        "> **Argument = Real value**\n",
        "\n",
        "---\n",
        "\n",
        "## ✅ Example:\n",
        "\n",
        "```python\n",
        "def greet(name):       # name is a parameter\n",
        "    print(\"Hello\", name)\n",
        "\n",
        "greet(\"Rafik\")         # \"Rafik\" is an argument\n",
        "```\n",
        "\n",
        "### ✅ Output:\n",
        "\n",
        "```\n",
        "Hello Rafik\n",
        "```\n",
        "\n",
        "---\n",
        "\n",
        "## ✅ Types of Arguments in Python\n",
        "\n",
        "| Type                   | Example                   |\n",
        "| ---------------------- | ------------------------- |\n",
        "| 1. **Positional**      | `add(5, 3)`               |\n",
        "| 2. **Keyword**         | `add(a=5, b=3)`           |\n",
        "| 3. **Default**         | `def greet(name=\"Guest\")` |\n",
        "| 4. **Variable Length** | `*args`, `**kwargs`       |\n",
        "\n",
        "---\n",
        "\n",
        "### 1️⃣ **Positional Arguments**\n",
        "\n",
        "```python\n",
        "def add(a, b):\n",
        "    return a + b\n",
        "\n",
        "print(add(5, 3))\n",
        "```\n",
        "\n",
        "### 2️⃣ **Keyword Arguments**\n",
        "\n",
        "```python\n",
        "def add(a, b):\n",
        "    return a + b\n",
        "\n",
        "print(add(b=3, a=5))  # Order doesn't matter\n",
        "```\n",
        "\n",
        "---\n",
        "\n",
        "### 3️⃣ **Default Arguments**\n",
        "\n",
        "```python\n",
        "def greet(name=\"Guest\"):\n",
        "    print(\"Hello\", name)\n",
        "\n",
        "greet()           # Uses default\n",
        "greet(\"Rafik\")    # Overrides default\n",
        "```\n",
        "\n",
        "---\n",
        "\n",
        "### 4️⃣ **Variable-Length Arguments**\n",
        "\n",
        "#### Using `*args` (non-keyword, like tuple):\n",
        "\n",
        "```python\n",
        "def total(*numbers):\n",
        "    print(sum(numbers))\n",
        "\n",
        "total(1, 2, 3, 4)\n",
        "```\n",
        "\n",
        "#### Using `**kwargs` (keyword, like dictionary):\n",
        "\n",
        "```python\n",
        "def info(**details):\n",
        "    for key, value in details.items():\n",
        "        print(key, \":\", value)\n",
        "\n",
        "info(name=\"Rafik\", age=25)\n",
        "```\n",
        "\n",
        "---\n",
        "\n",
        "## ✅ Summary Table\n",
        "\n",
        "| Concept    | Syntax Example       | What It Means                            |\n",
        "| ---------- | -------------------- | ---------------------------------------- |\n",
        "| Parameter  | `def func(x)`        | Placeholder variable in function         |\n",
        "| Argument   | `func(10)`           | Actual value passed during function call |\n",
        "| `*args`    | `def func(*args)`    | Variable number of **positional** args   |\n",
        "| `**kwargs` | `def func(**kwargs)` | Variable number of **keyword** args      |\n",
        "\n",
        "---\n",
        "\n"
      ],
      "metadata": {
        "id": "zkA5gvWOZBBi"
      }
    },
    {
      "cell_type": "markdown",
      "source": [
        "## palindrome list"
      ],
      "metadata": {
        "id": "hLF4h7sVjqD8"
      }
    },
    {
      "cell_type": "code",
      "source": [
        "def is_palindrome():\n",
        "    sample_list = [1, 2, 3, 2, 1]\n",
        "    # Check if the list is equal to its reverse\n",
        "    if lst == lst[::-1]:\n",
        "        return \"Palindrome\"\n",
        "    else:\n",
        "        return \"Not a Palindrome\"\n",
        "\n",
        "\n",
        "print(is_palindrome())\n"
      ],
      "metadata": {
        "id": "qRr0HH8AiIck"
      },
      "execution_count": null,
      "outputs": []
    },
    {
      "cell_type": "code",
      "source": [
        "def show(a=12,b=13):\n",
        "\n",
        "  sum=a+b\n",
        "  print(sum)\n",
        "show()"
      ],
      "metadata": {
        "id": "_t7vNxZckEsw"
      },
      "execution_count": null,
      "outputs": []
    },
    {
      "cell_type": "markdown",
      "source": [
        "## Find Common Elements in Two Lists"
      ],
      "metadata": {
        "id": "JjMlbhCqjw7x"
      }
    },
    {
      "cell_type": "code",
      "source": [
        "def find_common_elements(list1, list2):\n",
        "    return list(set(list1) & set(list2))\n",
        "\n",
        "list1=[1, 2, 3, 4]\n",
        "list2=[3, 4, 5, 6]\n",
        "print(find_common_elements(list1, list2))\n"
      ],
      "metadata": {
        "id": "fC2xM0WfjSoQ"
      },
      "execution_count": null,
      "outputs": []
    },
    {
      "cell_type": "markdown",
      "source": [
        "## Merge Two Sorted Lists:"
      ],
      "metadata": {
        "id": "ZQc4v758kqLe"
      }
    },
    {
      "cell_type": "code",
      "source": [
        "def merge_sorted_lists(list1, list2):\n",
        "    # Combine both lists and sort the result\n",
        "    return sorted(list1 + list2)\n",
        "\n",
        "# Sample Input\n",
        "list1 = [1, 3, 5]\n",
        "list2 = [2, 4, 6]\n",
        "print(merge_sorted_lists(list1, list2))\n"
      ],
      "metadata": {
        "id": "IGnGTJC4kqj9"
      },
      "execution_count": null,
      "outputs": []
    },
    {
      "cell_type": "code",
      "source": [
        "def leap_year():\n",
        "  year=int(input(\"enter the year\"))\n",
        "  leap=False\n",
        "  if (year%400==0 and year%100!=0) or year%4==0:\n",
        "    leap=True\n",
        "  return leap\n",
        "\n",
        "leap_year()"
      ],
      "metadata": {
        "id": "cQUcgpVNoFtd"
      },
      "execution_count": null,
      "outputs": []
    },
    {
      "cell_type": "markdown",
      "source": [
        "## Count Occurrences of an Element in a List:\n"
      ],
      "metadata": {
        "id": "UqQMUkdelJ3Q"
      }
    },
    {
      "cell_type": "code",
      "source": [],
      "metadata": {
        "id": "G2r_TdYyoEmo"
      },
      "execution_count": null,
      "outputs": []
    },
    {
      "cell_type": "code",
      "source": [
        "def count_occurrences(lst, element):\n",
        "    count = 0\n",
        "    for item in lst:\n",
        "        if item == element:\n",
        "            count += 1\n",
        "    return count\n",
        "\n",
        "# Sample Input\n",
        "sample_list = [1, 2, 2, 3, 4, 2]\n",
        "element_to_count = int(input(\"enter the element\"))\n",
        "print(count_occurrences(sample_list, element_to_count))\n"
      ],
      "metadata": {
        "id": "wnZTS4JElJVN"
      },
      "execution_count": null,
      "outputs": []
    },
    {
      "cell_type": "code",
      "source": [
        "f = open(\"/content/sample_data/myfile.txt\",\"w\")\n",
        "print(\"name of file\",f.name)\n",
        "print(\"file mode\",f.mode)\n",
        "print(\" readeble \",f.readable())\n",
        "print(\" writeable \",f.writable())\n",
        "print(\" file has closed\",f.closed)\n",
        "f.close()"
      ],
      "metadata": {
        "id": "O9ugPhE3sKaV"
      },
      "execution_count": null,
      "outputs": []
    },
    {
      "cell_type": "code",
      "source": [
        "def count_occurrences(lst, element):\n",
        "    return lst.count(element)\n",
        "\n",
        "print(count_occurrences(sample_list, element_to_count))\n"
      ],
      "metadata": {
        "id": "f2gDgcPLlhV_"
      },
      "execution_count": null,
      "outputs": []
    },
    {
      "cell_type": "markdown",
      "source": [
        "##  Generate a List of Prime Numbers"
      ],
      "metadata": {
        "id": "-51tcRWXmgh6"
      }
    },
    {
      "cell_type": "code",
      "source": [
        "def generate_primes(start, end):\n",
        "    primes = []\n",
        "    for num in range(start, end + 1):\n",
        "        # Skip 0 and 1 as they are not prime\n",
        "        if num < 2:\n",
        "            continue\n",
        "        # Assume num is prime until proven otherwise\n",
        "        for i in range(2, num):\n",
        "            if num % i == 0:\n",
        "                break\n",
        "        else:\n",
        "            # If no divisor was found, num is prime\n",
        "            primes.append(num)\n",
        "    return primes\n",
        "\n",
        "# Sample Input\n",
        "start = 1\n",
        "end = 20\n",
        "print(\"List of Prime Numbers:\", generate_primes(start, end))\n"
      ],
      "metadata": {
        "id": "zFkmmzYtme8j"
      },
      "execution_count": null,
      "outputs": []
    },
    {
      "cell_type": "markdown",
      "source": [
        "## Add an Element at the Beginning of a List"
      ],
      "metadata": {
        "id": "yuhr6N13npo-"
      }
    },
    {
      "cell_type": "code",
      "source": [
        "def add_element_at_beginning(lst, element):\n",
        "    lst.insert(0, element)  # Insert element at the beginning (index 0)\n",
        "    return lst\n",
        "\n",
        "# Sample Input\n",
        "lst = [2, 3, 4]\n",
        "element = 1\n",
        "print(\"Updated List:\", add_element_at_beginning(lst, element))"
      ],
      "metadata": {
        "id": "8T1G40E2nTDY"
      },
      "execution_count": null,
      "outputs": []
    },
    {
      "cell_type": "markdown",
      "source": [
        "#String"
      ],
      "metadata": {
        "id": "VSYAwF4UnvPv"
      }
    },
    {
      "cell_type": "code",
      "source": [
        "a='s'\n",
        "print(type(a))\n",
        "\n",
        "a=2065786789878978978\n",
        "b=20.5\n",
        "c=10J+1\n",
        "\n",
        "print(type(a))\n",
        "print(type(b))\n",
        "print(type(c))"
      ],
      "metadata": {
        "id": "LAFyAtNYV-yA"
      },
      "execution_count": null,
      "outputs": []
    },
    {
      "cell_type": "markdown",
      "source": [
        "##string:methods"
      ],
      "metadata": {
        "id": "lpHd5esQfwnK"
      }
    },
    {
      "cell_type": "code",
      "source": [
        "\n",
        "s = \"  Delhi is capital of india \"\n",
        "print(\"Original String:\", s)\n",
        "\n",
        "# 2. Lowercase - Convert to lowercase\n",
        "print(\"After lower():\", s.lower())\n",
        "\n",
        "# 3. Uppercase - Convert to uppercase\n",
        "print(\"After upper():\", s.upper())\n",
        "\n",
        "# 4. Title - Convert to title case\n",
        "print(\"After title():\", s.title())\n",
        "\n",
        "# 5. Replace - Replace a substring with another\n",
        "print(\"After replace('Delhi', 'mumbai'):\", s.replace(\"Delhi\", \"mumbai\"))\n",
        "\n",
        "# 6. Find - Find the index of a substring\n",
        "print(\"Index of 'test':\", s.find(\"test\"))\n",
        "\n",
        "# 7. Count - Count occurrences of a substring\n",
        "print(\"Occurrences of 'is':\", s.count(\"is\"))\n",
        "\n",
        "# 8. Startswith - Check if string starts with a substring\n",
        "print(\"Starts with 'Hello':\", s.startswith(\"Hello\"))\n",
        "\n",
        "# 9. Endswith - Check if string ends with a substring\n",
        "print(\"Ends with 'test':\", s.endswith(\"test\"))\n",
        "\n",
        "# 10. Split - Split the string into a list of words\n",
        "print(\"After split():\", s.split())\n",
        "\n",
        "# 11. Join - Join a list of strings into a single string\n",
        "words = s.split()\n",
        "print(\"After join():\", \"-\".join(words))\n",
        "\n",
        "# 12. isalpha - Check if all characters are alphabetic\n",
        "print(\"'Hello' is alphabetic:\", \"Hello\".isalpha())\n",
        "\n",
        "# 13. isdigit - Check if all characters are digits\n",
        "print(\"'12345' is digit:\", \"12345\".isdigit())\n",
        "\n",
        "# 14. isalnum - Check if all characters are alphanumeric\n",
        "print(\"'Hello123' is alphanumeric:\", \"Hello123\".isalnum())\n",
        "\n",
        "# 15. len - Get the length of the string\n",
        "print(\"Length of string:\", len(s))\n",
        "\n",
        "# 16. Center - Center the string within a specified width\n",
        "print(\"After center(40, '-'): \", s.center(40, '-'))\n",
        "\n",
        "# 17. Ljust - Left justify within a specified width\n",
        "print(\"After ljust(40, '-'): \", s.ljust(40, '-'))\n",
        "\n",
        "# 18. Rjust - Right justify within a specified width\n",
        "print(\"After rjust(40, '-'): \", s.rjust(40, '-'))\n",
        "\n",
        "# 19. Capitalize - Capitalize the first character of the string\n",
        "print(\"After capitalize():\", s.capitalize())\n",
        "\n",
        "# 20. Swapcase - Swap the case of all characters in the string\n",
        "print(\"After swapcase():\", s.swapcase())\n"
      ],
      "metadata": {
        "id": "Yx9j195IcyVa"
      },
      "execution_count": null,
      "outputs": []
    },
    {
      "cell_type": "markdown",
      "source": [
        "##string: Easy problems"
      ],
      "metadata": {
        "id": "iViaVjwtfjqz"
      }
    },
    {
      "cell_type": "code",
      "source": [
        "# Basic String Programs\n",
        "# Check whether the string is Symmetrical or Palindrome\n",
        "# Find length of String\n",
        "# Reverse words in a given String\n",
        "# Remove i’th character from string\n",
        "# Avoid Spaces in string length\n",
        "# Print even length words in a string\n",
        "# Uppercase Half String\n",
        "# Capitalize the first and last character of each word in a string\n",
        "# Check if a string has at least one letter and one number\n",
        "# Accept the strings which contains all vowels\n",
        "# Count the Number of matching characters in a pair of string\n",
        "# Count number of vowels using sets in given string\n",
        "# Remove all duplicates from a given string\n",
        "# Least Frequent Character in String\n",
        "# Maximum frequency character in String\n",
        "# Odd Frequency Characters\n",
        "# Specific Characters Frequency in String List\n",
        "# Frequency of numbers in String\n",
        "# Program to check if a string contains any special character\n",
        "# Generating random strings until a given string is generated\n",
        "# Find words which are greater than given length k\n",
        "# For removing i-th character from a string\n",
        "# Split and join a string\n",
        "# Check if a given string is binary string or not\n",
        "# Find all close matches of input string from a list\n",
        "# Find uncommon words from two Strings\n",
        "# Swap commas and dots in a String\n",
        "# Permutation of a given string using inbuilt function\n",
        "# Check for URL in a String\n",
        "# Execute a String of Code\n",
        "# Print the middle character of a String\n",
        "# Convert integer to string\n",
        "# Convert String to Int\n",
        "# To split string into list of Characters\n",
        "# To convert a List to String\n",
        "# To convert String to a list\n",
        "# How to remove Letters from a String\n",
        "# Convert a list of Characters into String\n",
        "# Convert Object to String in Python\n",
        "# How to sort a list of strings\n",
        "# To convert tuple to string\n",
        "# To check if String is Empty or not\n",
        "# Convert String to Set\n",
        "# Convert Set to String\n",
        "# To generate all possible valid IP addresses from given string\n",
        "# Check and display vowels in a string"
      ],
      "metadata": {
        "id": "DQNBzMuFfZeV"
      },
      "execution_count": null,
      "outputs": []
    },
    {
      "cell_type": "code",
      "source": [
        "s=True\n",
        "print(s,type(s))"
      ],
      "metadata": {
        "id": "te5jgOKhX_pp"
      },
      "execution_count": null,
      "outputs": []
    },
    {
      "cell_type": "code",
      "source": [
        "# 1. Strip - Remove leading and trailing whitespaces\n",
        "s=\"     hello world   \"\n",
        "print(\"After strip():\", s.strip())"
      ],
      "metadata": {
        "id": "B3kulQ5GdAcQ"
      },
      "execution_count": null,
      "outputs": []
    },
    {
      "cell_type": "code",
      "source": [
        "import"
      ],
      "metadata": {
        "id": "vMm0Yt99YdDS"
      },
      "execution_count": null,
      "outputs": []
    },
    {
      "cell_type": "code",
      "source": [
        "text = \"###Python###\"\n",
        "result = text.strip(\"#\")\n",
        "print(result)  # Output: \"Python\"\n"
      ],
      "metadata": {
        "id": "cZnHaKFEyuSs"
      },
      "execution_count": null,
      "outputs": []
    },
    {
      "cell_type": "code",
      "source": [
        "text = \"123Python321\"\n",
        "result = text.strip(\"123\")\n",
        "print(result)  # Output: \"Python\"\n"
      ],
      "metadata": {
        "id": "fww0SfHPy-Tb"
      },
      "execution_count": null,
      "outputs": []
    },
    {
      "cell_type": "code",
      "source": [
        "# 17. Ljust - Left justify within a specified width\n",
        "print(\"After ljust(40, '-'): \", s.ljust(40, '-'))"
      ],
      "metadata": {
        "id": "YL7IKaKbdYzf"
      },
      "execution_count": null,
      "outputs": []
    },
    {
      "cell_type": "code",
      "source": [
        "# 18. Rjust - Right justify within a specified width\n",
        "print(\"After rjust(40, '-'): \", s.rjust(40, '-'))"
      ],
      "metadata": {
        "id": "F8_omtwDdTaf"
      },
      "execution_count": null,
      "outputs": []
    },
    {
      "cell_type": "code",
      "source": [
        "# 19. Capitalize - Capitalize the first character of the stringk\n",
        "k=\"HEllo world\"\n",
        "\n",
        "print(\"After capitalize():\", k.capitalize())"
      ],
      "metadata": {
        "id": "J2n0pjxXdLfT"
      },
      "execution_count": null,
      "outputs": []
    },
    {
      "cell_type": "code",
      "source": [
        "# 20. Swapcase - Swap the case of all characters in the string\n",
        "print(\"After swapcase():\", s.swapcase())"
      ],
      "metadata": {
        "id": "NhqIy0fBdGzz"
      },
      "execution_count": null,
      "outputs": []
    },
    {
      "cell_type": "markdown",
      "source": [
        "## Reverse a String:\n"
      ],
      "metadata": {
        "id": "L6VSji1FpTfw"
      }
    },
    {
      "cell_type": "code",
      "source": [
        "def reverse_string(s):\n",
        "    reversed_str = \"\"\n",
        "    for char in s:\n",
        "        reversed_str = char + reversed_str\n",
        "    return reversed_str\n",
        "\n",
        "input_str = \"hello\"\n",
        "print(\"Reversed String:\", reverse_string(input_str))\n"
      ],
      "metadata": {
        "id": "DG-k10mjo1OZ"
      },
      "execution_count": null,
      "outputs": []
    },
    {
      "cell_type": "code",
      "source": [
        "def reverse_string(s):\n",
        "    return s[::-1]\n",
        "\n",
        "input_str = \"hello\"\n",
        "print(\"Reversed String:\", reverse_string(input_str))"
      ],
      "metadata": {
        "id": "kxtvz-zNpNzO"
      },
      "execution_count": null,
      "outputs": []
    },
    {
      "cell_type": "markdown",
      "source": [
        "## Check for Palindrome:\n"
      ],
      "metadata": {
        "id": "im6LmRp1q7ZV"
      }
    },
    {
      "cell_type": "code",
      "source": [
        "def is_palindrome(s):\n",
        "    start, end = 0, len(s) - 1\n",
        "    while start < end:\n",
        "        if s[start] != s[end]:\n",
        "            return \"Not a Palindrome\"\n",
        "        start += 1\n",
        "        end -= 1\n",
        "    return \"Palindrome\"\n",
        "\n",
        "input_str = \"racecar\"\n",
        "print(is_palindrome(input_str))\n"
      ],
      "metadata": {
        "id": "jH02vK8gp9UX"
      },
      "execution_count": null,
      "outputs": []
    },
    {
      "cell_type": "code",
      "source": [
        "def is_palindrome(s):\n",
        "    if s == s[::-1]:\n",
        "        return \"Palindrome\"\n",
        "    else:\n",
        "        return \"Not a Palindrome\"\n",
        "\n",
        "input_str = \"racecar\"\n",
        "print(is_palindrome(input_str))\n"
      ],
      "metadata": {
        "id": "TQBirYiMqwpn"
      },
      "execution_count": null,
      "outputs": []
    },
    {
      "cell_type": "markdown",
      "source": [
        "## Count Vowels and Consonants"
      ],
      "metadata": {
        "id": "6Vd6Tqc-sXzR"
      }
    },
    {
      "cell_type": "code",
      "source": [
        "def count_vowels_consonants(s):\n",
        "    vowels = \"aeiouAEIOU\"\n",
        "    v_count = 0\n",
        "    c_count = 0\n",
        "    for char in s:\n",
        "        if char.isalpha():\n",
        "            if char in vowels:\n",
        "                v_count += 1\n",
        "            else:\n",
        "                c_count += 1\n",
        "    return v_count, c_count\n",
        "\n",
        "input_str = \"hello\"\n",
        "vowels, consonants = count_vowels_consonants(input_str)\n",
        "print(\"Vowels:\", vowels, \"Consonants:\", consonants)\n"
      ],
      "metadata": {
        "id": "Q6PSdZDhr3EM"
      },
      "execution_count": null,
      "outputs": []
    },
    {
      "cell_type": "markdown",
      "source": [
        "## Check for Anagrams"
      ],
      "metadata": {
        "id": "aTFryj-Wsxmf"
      }
    },
    {
      "cell_type": "code",
      "source": [
        "def are_anagrams(str1, str2):\n",
        "    if sorted(str1) == sorted(str2):\n",
        "        return \"Anagrams\"\n",
        "    else:\n",
        "        return \"Not Anagrams\"\n",
        "\n",
        "str1 = \"listen\"\n",
        "str2 = \"silent\"\n",
        "print(are_anagrams(str1, str2))"
      ],
      "metadata": {
        "id": "NT6tWVRBsv2v"
      },
      "execution_count": null,
      "outputs": []
    },
    {
      "cell_type": "code",
      "source": [
        "import string\n",
        "\n",
        "def is_pangram(s):\n",
        "    if set(string.ascii_lowercase) <= set(s.lower()):\n",
        "        return \"Pangram\"\n",
        "    else:\n",
        "        return \"Not a Pangram\"\n",
        "\n",
        "\n",
        "input_str = \"The quick brown fox jumps over the lazy dog.\"\n",
        "print(is_pangram(input_str))\n"
      ],
      "metadata": {
        "id": "CHu5aGY7tYrQ"
      },
      "execution_count": null,
      "outputs": []
    },
    {
      "cell_type": "markdown",
      "source": [
        "#remove Duplicates from a string"
      ],
      "metadata": {
        "id": "GvuRbpOPlcME"
      }
    },
    {
      "cell_type": "code",
      "source": [
        "def remove_duplicates(string):\n",
        "    result = \"\"\n",
        "    for char in string:\n",
        "        if char not in result:\n",
        "            result += char\n",
        "    return result\n",
        "\n",
        "input_string = \"helloworld\"\n",
        "print(\"Output:\", remove_duplicates(input_string))"
      ],
      "metadata": {
        "id": "UPCiTM6Yla_e"
      },
      "execution_count": null,
      "outputs": []
    },
    {
      "cell_type": "markdown",
      "source": [
        "Count Substrings in a String:\n"
      ],
      "metadata": {
        "id": "bA13WR_Gp98a"
      }
    },
    {
      "cell_type": "code",
      "source": [
        "string=input(\"enter the string\")  #ababab\n",
        "sub_str=input(\"enter the sub\") #ab\n",
        "c=0\n",
        "for char in string:\n",
        "  if sub_str in string:\n",
        "    c+=1\n",
        "print(c)\n",
        "\n",
        "\n",
        "\n",
        "\n"
      ],
      "metadata": {
        "id": "jOjTkPUTp9Gj"
      },
      "execution_count": null,
      "outputs": []
    },
    {
      "cell_type": "markdown",
      "source": [
        "#Remove White Spaces:\n"
      ],
      "metadata": {
        "id": "iCkqbx2W0KZ3"
      }
    },
    {
      "cell_type": "code",
      "source": [
        "s = \"hello world\"\n",
        "result = \"\"\n",
        "for char in s:\n",
        "    if char != \" \":\n",
        "        result += char\n",
        "print(result)\n"
      ],
      "metadata": {
        "id": "ZhU_5b7Jzptd"
      },
      "execution_count": null,
      "outputs": []
    },
    {
      "cell_type": "markdown",
      "source": [
        " #Count Words in a String:"
      ],
      "metadata": {
        "id": "py7s3kkU0rHt"
      }
    },
    {
      "cell_type": "code",
      "source": [
        "s = \"This is a sentence.\"\n",
        "count = 1\n",
        "\n",
        "for char in s:\n",
        "    if char == \" \":\n",
        "        count += 1\n",
        "\n",
        "print(count)\n"
      ],
      "metadata": {
        "id": "YUoB1OPf0pW3"
      },
      "execution_count": null,
      "outputs": []
    },
    {
      "cell_type": "code",
      "source": [
        "s.strip(\"\")"
      ],
      "metadata": {
        "id": "8SvXJJkG0UgA"
      },
      "execution_count": null,
      "outputs": []
    },
    {
      "cell_type": "markdown",
      "source": [
        " #Reverse Words in a String:\n"
      ],
      "metadata": {
        "id": "agkKn-Pz1rMN"
      }
    },
    {
      "cell_type": "code",
      "source": [
        "s = \"Hello world\"\n",
        "words = s.split()\n",
        "reversed_words = \" \".join(reversed(words))\n",
        "print(reversed_words)\n"
      ],
      "metadata": {
        "id": "fkR879Sz1giW"
      },
      "execution_count": null,
      "outputs": []
    },
    {
      "cell_type": "code",
      "source": [
        "s = \"Hello world\"\n",
        "words = s.split()\n",
        "reversed_words = words[::-1]\n",
        "result = \" \".join(reversed_words)\n",
        "print(result)\n"
      ],
      "metadata": {
        "id": "nFhomuDA1pki"
      },
      "execution_count": null,
      "outputs": []
    },
    {
      "cell_type": "markdown",
      "metadata": {
        "id": "JkypEAkh9jt9"
      },
      "source": [
        "#Dictionary\n",
        "A dictionary in Python is a collection of key-value pairs. Each key is unique and maps to a value. Dictionaries are unordered, mutable, and defined using curly braces {}."
      ]
    },
    {
      "cell_type": "code",
      "execution_count": null,
      "metadata": {
        "id": "4AdgskXX9r_4"
      },
      "outputs": [],
      "source": [
        "my_dict = {\"name\": \"Rafik\", \"age\": 22, \"city\": \"Aurangabad\", \"DOB\":\"1 march 2002\"}\n",
        "print(my_dict)\n"
      ]
    },
    {
      "cell_type": "markdown",
      "metadata": {
        "id": "rbh-_eNW-UrK"
      },
      "source": [
        "##Accessing Dictionary Values\n"
      ]
    },
    {
      "cell_type": "code",
      "execution_count": null,
      "metadata": {
        "id": "Zx1UqD5SAH0M"
      },
      "outputs": [],
      "source": [
        "print(my_dict[\"name\"])"
      ]
    },
    {
      "cell_type": "markdown",
      "metadata": {
        "id": "OM7bHw5fAV3x"
      },
      "source": [
        "## Adding and Updating Dictionary Entries"
      ]
    },
    {
      "cell_type": "code",
      "execution_count": null,
      "metadata": {
        "id": "eTMIxJjF-XbZ"
      },
      "outputs": [],
      "source": [
        "my_dict[\"email\"] = \"rafikshah@example.com\"\n",
        "my_dict[\"age\"] = 23\n",
        "print(my_dict)\n"
      ]
    },
    {
      "cell_type": "markdown",
      "metadata": {
        "id": "qMygOLbOAvra"
      },
      "source": [
        "## Removing Dictionary Entries"
      ]
    },
    {
      "cell_type": "code",
      "execution_count": null,
      "metadata": {
        "id": "uigzlU1gA33Z"
      },
      "outputs": [],
      "source": [
        "my_dict = {\"name\": \"Rafik\", \"age\": 22, \"city\": \"Aurangabad\", \"DOB\":\"1 march 2002\"}\n",
        "del my_dict[\"city\"]\n",
        "age = my_dict.pop(\"age\")\n",
        "print(my_dict)"
      ]
    },
    {
      "cell_type": "markdown",
      "metadata": {
        "id": "L8JfZi_vCEJf"
      },
      "source": [
        "## Dictionary Methods\n",
        "keys(): Returns a view object of all the keys.<br>\n",
        "values(): Returns a view object of all the values.<br>\n",
        "items(): Returns a view object of all key-value pairs (as tuples)."
      ]
    },
    {
      "cell_type": "code",
      "execution_count": null,
      "metadata": {
        "id": "gEHnHLggCdXK"
      },
      "outputs": [],
      "source": [
        "keys = list(my_dict.keys())\n",
        "items =list(my_dict.items())\n",
        "print(keys)\n",
        "print(items)"
      ]
    },
    {
      "cell_type": "markdown",
      "metadata": {
        "id": "hHlAe_KEP7Vu"
      },
      "source": [
        "#Object oriented programming\n",
        "\n",
        "OOP is a core concept in Python that helps build modular, maintainable, and scalable applications.\n",
        "\n",
        "It uses classes and objects to represent real-world entities and their behaviors.\n",
        "\n",
        "OOP promotes code organization and reuse for complex problem-solving."
      ]
    },
    {
      "cell_type": "markdown",
      "source": [
        "##components of Object-Oriented Programming (OOP) in Python:\n",
        "\n",
        "1) Class\n",
        "\n",
        "2) Object\n",
        "\n",
        "3) Attributes\n",
        "\n",
        "4) Methods\n",
        "\n",
        "5) Constructor (__init__ method)\n",
        "\n",
        "6) self keyword"
      ],
      "metadata": {
        "id": "lwDvkCW4EzZI"
      }
    },
    {
      "cell_type": "markdown",
      "metadata": {
        "id": "FRB4DovnRLoi"
      },
      "source": [
        "##Class and object"
      ]
    },
    {
      "cell_type": "code",
      "execution_count": null,
      "metadata": {
        "id": "rEgkNFcuQD1J"
      },
      "outputs": [],
      "source": [
        "class Parrot:\n",
        "\n",
        "    # class attribute\n",
        "    name = \"\"\n",
        "    age = 0\n",
        "\n",
        "# create parrot1 object\n",
        "parrot1 = Parrot()\n",
        "parrot1.name = \"Blu\"\n",
        "parrot1.age = 10\n",
        "\n",
        "# create another object parrot2\n",
        "parrot2 = Parrot()\n",
        "parrot2.name = \"Woo\"\n",
        "parrot2.age = 15\n",
        "\n",
        "# access attributes\n",
        "print(f\"{parrot1.name} is {parrot1.age} years old\")\n",
        "print(f\"{parrot2.name} is {parrot2.age} years old\")"
      ]
    },
    {
      "cell_type": "markdown",
      "metadata": {
        "id": "0cbLnZcGUttk"
      },
      "source": [
        "##**Self keyword**\n",
        "In object-oriented programming, whenever we define methods for a class, we use self as the first parameter in each case"
      ]
    },
    {
      "cell_type": "code",
      "execution_count": null,
      "metadata": {
        "id": "1spGHVfCWqJV"
      },
      "outputs": [],
      "source": [
        "class simple:\n",
        "  def show(self):\n",
        "    print(\"this is show function\")\n",
        "s1=simple()\n",
        "s1.show()"
      ]
    },
    {
      "cell_type": "code",
      "execution_count": null,
      "metadata": {
        "id": "fqcDgDh7ZIRH"
      },
      "outputs": [],
      "source": [
        "class simple:\n",
        "  def get_number(self,num):\n",
        "    print(f\"{num}\")\n",
        "\n",
        "  def show(self):\n",
        "    print(f\"{num}\")\n",
        "\n",
        "s1=simple()\n",
        "s1.get_number(10)\n",
        "s1.show()"
      ]
    },
    {
      "cell_type": "code",
      "execution_count": null,
      "metadata": {
        "id": "WwCJe5SdaqnW"
      },
      "outputs": [],
      "source": [
        "class simple:\n",
        "  def get_number(self,num):\n",
        "    self.num=num\n",
        "    print(f\"{self.num}\")\n",
        "\n",
        "  def show(self):\n",
        "    print(f\"{self.num}\")\n",
        "\n",
        "s1=simple()\n",
        "s1.get_number(11)\n",
        "s1.show()"
      ]
    },
    {
      "cell_type": "code",
      "execution_count": null,
      "metadata": {
        "id": "0MQhhu_-XNjF"
      },
      "outputs": [],
      "source": [
        "class simple:\n",
        "\n",
        "  @staticmethod\n",
        "  def show():\n",
        "    print(\"this is show function\")\n",
        "\n",
        "  def show2(self):\n",
        "    print(\"my name is khan\")\n",
        "\n",
        "s1=simple()\n",
        "s1.show()\n",
        "s1.show2()"
      ]
    },
    {
      "cell_type": "code",
      "execution_count": null,
      "metadata": {
        "id": "kaTgzQUabG6n"
      },
      "outputs": [],
      "source": [
        "class simple:\n",
        "  @staticmethod\n",
        "  def show(num):\n",
        "    print(\"number is :\",num)\n",
        "\n",
        "  def show2(self):\n",
        "    print(\"my name is khan\")\n",
        "s1=simple()\n",
        "s1.show(10)\n",
        "s1.show2()"
      ]
    },
    {
      "cell_type": "code",
      "execution_count": null,
      "metadata": {
        "id": "iKTB5IZuSddv"
      },
      "outputs": [],
      "source": [
        "class NumberChecker:\n",
        "    def is_even(self, number):\n",
        "        if number % 2 == 0:\n",
        "            print(f\"{number} is an even number.\")\n",
        "        else:\n",
        "            print(f\"{number} is an odd number.\")\n",
        "\n",
        "# Usage example\n",
        "checker = NumberChecker()\n",
        "num = int(input(\"Enter a number: \"))\n",
        "checker.is_even(num)"
      ]
    },
    {
      "cell_type": "code",
      "execution_count": null,
      "metadata": {
        "id": "-SykGid6yCnA"
      },
      "outputs": [],
      "source": []
    },
    {
      "cell_type": "markdown",
      "metadata": {
        "id": "GXsxfK8mixQb"
      },
      "source": [
        "##**Constructor**\n",
        "A constructor is a special type of method (function) which is used to initialize the instance members of the class.\n",
        "\n",
        "In C++ or Java, the constructor has the same name as its class, but it treats constructor differently in Python. It is used to create an object.\n",
        "\n",
        "Constructors can be of two types.\n",
        "\n",
        "1)Parameterized Constructor<br>\n",
        "\n",
        "2)Non-parameterized Constructor<br>\n",
        "\n",
        "Constructor definition is executed when we create the object of this class"
      ]
    },
    {
      "cell_type": "code",
      "execution_count": null,
      "metadata": {
        "id": "dBf3FeMkkG2Y"
      },
      "outputs": [],
      "source": [
        "class Student:\n",
        "    # Constructor - non parameterized\n",
        "    def __init__(self):\n",
        "        print(\"This is non parametrized constructor\")\n",
        "    def show(self,name):\n",
        "        print(\"Hello\",name)\n",
        "student = Student()\n",
        "student.show(\"John\")"
      ]
    },
    {
      "cell_type": "markdown",
      "metadata": {
        "id": "Wr94Hf3UZTaD"
      },
      "source": [
        "##**Destructor**"
      ]
    },
    {
      "cell_type": "markdown",
      "metadata": {
        "id": "XqCHej-6Z_P_"
      },
      "source": [
        "Destructors are called when an object gets destroyed. In Python, destructors are not needed as much as in C++ because Python has a garbage collector that handles memory management automatically.<br>\n",
        "The __del__() method is a known as a destructor method in Python.<br>\n",
        "It is called when all references to the object have been deleted i.e when an object is garbage collected."
      ]
    },
    {
      "cell_type": "markdown",
      "metadata": {
        "id": "CvrNxd6kaOHg"
      },
      "source": [
        "###**Syntax of destructor declaration :**"
      ]
    },
    {
      "cell_type": "code",
      "execution_count": null,
      "metadata": {
        "id": "s8IJr6MHZboa"
      },
      "outputs": [],
      "source": [
        "def __del__(self):\n",
        "   # body of destructor"
      ]
    },
    {
      "cell_type": "markdown",
      "metadata": {
        "id": "Q7D8CrgWbNW3"
      },
      "source": [
        "###**Program on destructor**"
      ]
    },
    {
      "cell_type": "code",
      "execution_count": null,
      "metadata": {
        "id": "6P8xLHt-abTq"
      },
      "outputs": [],
      "source": [
        "# Python program to illustrate destructor\n",
        "class Employee:\n",
        "\n",
        "\t# Initializing\n",
        "\tdef __init__(self):\n",
        "\t\tprint('Employee created.')\n",
        "\n",
        "\t# Deleting (Calling destructor)\n",
        "\tdef __del__(self):\n",
        "\t\tprint('Destructor called, Employee deleted.')\n",
        "\n",
        "obj = Employee()\n",
        "del obj\n"
      ]
    },
    {
      "cell_type": "code",
      "source": [],
      "metadata": {
        "id": "MxgF178ip8Ie"
      },
      "execution_count": null,
      "outputs": []
    },
    {
      "cell_type": "markdown",
      "metadata": {
        "id": "qz6LIBLOcfWx"
      },
      "source": [
        "##**Garbage Collector**\n",
        "\n",
        "1. **Memory Management Technique:** Garbage collection is a crucial memory management technique employed in programming languages.\n",
        "2. **Automated Reclamation:** It automatically identifies and reclaims memory that is no longer needed or accessible to the program.\n",
        "3. **Prevents Memory Leaks:** By reclaiming unused memory, garbage collection helps prevent memory leaks that can lead to inefficient memory usage and application crashes.\n",
        "4. **Optimizes Memory Usage:** Garbage collection optimizes memory usage by freeing up resources for other parts of the program to utilize.\n",
        "5. **Efficient Memory Allocation:** It ensures efficient memory allocation by releasing memory when it's no longer in use, allowing the program to allocate memory as needed without running into resource constraints.\n",
        "6. **Improves Program Performance:** Proper garbage collection contributes to improved program performance by managing memory effectively and reducing the chances of memory-related issues.\n",
        "7. **Automates Cleanup:** Developers don't need to manually manage memory deallocation, reducing the risk of human errors and simplifying the coding process.\n",
        "8. **Supported by Many Languages:** Garbage collection is supported by various programming languages like Java, C#, Python, and others, making it a widely adopted technique in software development.\n",
        "\n"
      ]
    },
    {
      "cell_type": "code",
      "execution_count": null,
      "metadata": {
        "id": "lzL2Y35RcpRa"
      },
      "outputs": [],
      "source": [
        "x = 5\n",
        "print(type(x)) # <class 'int'>\n",
        "print(id(x)) # 140628347103296\n",
        "\n",
        "y = x\n",
        "print(type(y)) # <class 'int'>\n",
        "print(id(y)) # 140628347103296\n",
        "\n",
        "\n",
        "if (id(x)==id(y)):\n",
        "  print(\"It's same\")\n",
        "# It's same"
      ]
    },
    {
      "cell_type": "code",
      "execution_count": null,
      "metadata": {
        "id": "mRdjKob8dItn"
      },
      "outputs": [],
      "source": [
        "y = x\n",
        "print(type(y)) # <class 'int'>\n",
        "print(id(y)) # 140628347103296\n",
        "\n",
        "x = x + 1\n",
        "print(type(x)) # <class 'int'>\n",
        "print(id(x)) # 140628347103328\n",
        "if (id(x)!=id(y)):\n",
        "  print(\"It's Different\")  #It's Different\n"
      ]
    },
    {
      "cell_type": "code",
      "execution_count": null,
      "metadata": {
        "id": "2GayT8EVdi0o"
      },
      "outputs": [],
      "source": [
        "z = 5\n",
        "print(type(z)) # <class 'int'>\n",
        "print(id(z)) #140628347103296\n",
        "\n",
        "if (id(y)==id(z)):\n",
        "  print(\"It's same\")\n",
        "else: print(\"It's Different\")\n",
        "# It's same"
      ]
    },
    {
      "cell_type": "markdown",
      "metadata": {
        "id": "GzUXePQBQF2H"
      },
      "source": [
        "##**Types of variable in class**\n",
        "In object-oriented programming, there are generally two types of variables in a class: instance variables and static (class) variables"
      ]
    },
    {
      "cell_type": "markdown",
      "metadata": {
        "id": "iKMb7vJjeM2r"
      },
      "source": [
        "###**Static variable**\n",
        "Static variables, also known as class variables, are shared among all instances of the class.<br>\n",
        "They are defined inside the class but outside any methods, usually at the top of the class definition.<br>\n",
        "Static variables are accessed using the class name itself or using the instance name.<br>\n",
        "Changes to static variables are reflected across all instances of the class."
      ]
    },
    {
      "cell_type": "code",
      "execution_count": null,
      "metadata": {
        "id": "xzx_hKIbe-ag"
      },
      "outputs": [],
      "source": [
        "class simple:\n",
        "  var=\"hello world\"  #static variable\n",
        "  def show(self):\n",
        "     var=\"new world\"\n",
        "     print(var)\n",
        "     print(self.var)\n",
        "     print(\"this is show function\")\n",
        "s1=simple()\n",
        "s1.show()\n",
        "s1.var"
      ]
    },
    {
      "cell_type": "markdown",
      "metadata": {
        "id": "_lw6hQaMgnJX"
      },
      "source": [
        "###**Instance variable**\n",
        "Instance variables are associated with a specific instance (object) of the class.<br>\n",
        "Each instance of the class has its own copy of instance variables, and they are not shared among instances.<br>\n",
        "These variables are defined inside methods using the self keyword or outside methods but within the class scope.<br>\n",
        "Instance variables can have different values for different instances of the class."
      ]
    },
    {
      "cell_type": "code",
      "execution_count": null,
      "metadata": {
        "id": "VUnmCpImhpFl"
      },
      "outputs": [],
      "source": [
        "class MyClass:\n",
        "    def __init__(self, x):\n",
        "        self.instance_var = x  # Instance variable\n",
        "        print(self.instance_var)\n",
        "obj1 = MyClass(10)\n",
        "obj2 = MyClass(20)\n",
        "print(obj1.instance_var)  # Outputs: 10\n",
        "print(obj2.instance_var)  # Outputs: 20"
      ]
    },
    {
      "cell_type": "markdown",
      "source": [],
      "metadata": {
        "id": "fZ0Y_XPyZTMI"
      }
    },
    {
      "cell_type": "markdown",
      "source": [
        "#magic methods\n",
        "\n",
        "---\n",
        "\n",
        "## 🔮 What are Magic Methods?\n",
        "\n",
        "> Magic methods are **special predefined methods** in Python which **start and end with double underscores** (`__method__`).\n",
        "\n",
        "\n",
        "\n",
        "---\n",
        "\n",
        "## 🧾 Common Magic Methods — With Example\n",
        "\n",
        "| Method        | Purpose                               | Triggered When You...    |\n",
        "| ------------- | ------------------------------------- | ------------------------ |\n",
        "| `__init__`    | Object creation / constructor         | Create an object         |\n",
        "| `__str__`     | String representation (user-friendly) | `print(obj)`             |\n",
        "| `__repr__`    | Official representation (debugging)   | `repr(obj)` / just `obj` |\n",
        "| `__len__`     | Length of object                      | `len(obj)`               |\n",
        "| `__getitem__` | Access item by index                  | `obj[0]`                 |\n",
        "| `__setitem__` | Set item by index                     | `obj[0] = value`         |\n",
        "| `__del__`     | Destructor                            | Object is deleted        |\n",
        "| `__add__`     | Add two objects                       | `obj1 + obj2`            |\n",
        "| `__eq__`      | Compare two objects                   | `obj1 == obj2`           |\n",
        "\n",
        "---\n",
        "\n",
        "## ✅ Example: `__init__`, `__str__`, and `__repr__`\n",
        "\n",
        "```python\n",
        "class Student:\n",
        "    def __init__(self, name, roll):\n",
        "        self.name = name\n",
        "        self.roll = roll\n",
        "\n",
        "    def __str__(self):\n",
        "        return f\"Student Name: {self.name}, Roll: {self.roll}\"\n",
        "\n",
        "    def __repr__(self):\n",
        "        return f\"Student('{self.name}', {self.roll})\"\n",
        "```\n",
        "\n",
        "### 🔸 Usage:\n",
        "\n",
        "```python\n",
        "s1 = Student(\"Ravi\", 101)\n",
        "print(s1)        # __str__ called\n",
        "print(repr(s1))  # __repr__ called\n",
        "```\n",
        "\n",
        "---\n",
        "\n",
        "## ✅ Example: `__add__` to Add Two Students' Marks\n",
        "\n",
        "```python\n",
        "class Student:\n",
        "    def __init__(self, marks):\n",
        "        self.marks = marks\n",
        "\n",
        "    def __add__(self, other):\n",
        "        return self.marks + other.marks\n",
        "\n",
        "s1 = Student(85)\n",
        "s2 = Student(90)\n",
        "print(s1 + s2)  # 175\n",
        "```\n",
        "\n",
        "---\n",
        "\n",
        "## ✅ Example: `__len__` in Custom Class\n",
        "\n",
        "```python\n",
        "class MyList:\n",
        "    def __init__(self, data):\n",
        "        self.data = data\n",
        "\n",
        "    def __len__(self):\n",
        "        return len(self.data)\n",
        "\n",
        "obj = MyList([1, 2, 3])\n",
        "print(len(obj))  # 3\n",
        "```\n",
        "\n",
        "---"
      ],
      "metadata": {
        "id": "ljpy75PpXGIx"
      }
    },
    {
      "cell_type": "code",
      "source": [
        "class Student:\n",
        "    def __init__(self, name, roll):\n",
        "        self.name = name\n",
        "        self.roll = roll\n",
        "\n",
        "    def __str__(self):\n",
        "        return f\"Student Name: {self.name}, Roll: {self.roll}\"\n",
        "\n",
        "    def __repr__(self):\n",
        "        return f\"Student('{self.name}', {self.roll})\"\n",
        "\n",
        "s1 = Student(\"Ravi\", 101)\n",
        "print(s1)        # __str__ called\n",
        "print(repr(s1))  # __repr__ called"
      ],
      "metadata": {
        "id": "VoA_Uf85aNKp"
      },
      "execution_count": null,
      "outputs": []
    },
    {
      "cell_type": "markdown",
      "metadata": {
        "id": "CCANmbBll91C"
      },
      "source": [
        "##**Inner Class Concept**"
      ]
    },
    {
      "cell_type": "markdown",
      "metadata": {
        "id": "xLe_7vbUQbug"
      },
      "source": []
    },
    {
      "cell_type": "code",
      "execution_count": null,
      "metadata": {
        "id": "YxUmErHMmL9k"
      },
      "outputs": [],
      "source": [
        "class OuterClass:\n",
        "\n",
        "    def __init__(self):\n",
        "        self.outer_var = \"Outer variable\"\n",
        "\n",
        "    def outer_method(self):\n",
        "        print(\"This is the outer method\")\n",
        "\n",
        "    class InnerClass:\n",
        "        def __init__(self):\n",
        "            self.inner_var = \"Inner variable\"\n",
        "\n",
        "        def inner_method(self):\n",
        "            print(\"This is the inner method\")\n",
        "\n",
        "# Creating an instance of the OuterClass\n",
        "outer_obj = OuterClass()\n",
        "\n",
        "# Accessing the outer method and variable\n",
        "outer_obj.outer_method()\n",
        "print(outer_obj.outer_var)\n",
        "\n",
        "# Creating an instance of the InnerClass\n",
        "inner_obj = outer_obj.InnerClass()\n",
        "\n",
        "# Accessing the inner method and variable\n",
        "inner_obj.inner_method()\n",
        "print(inner_obj.inner_var)"
      ]
    },
    {
      "cell_type": "code",
      "execution_count": null,
      "metadata": {
        "id": "AKwCmlDbTfSr"
      },
      "outputs": [],
      "source": [
        "class NumberChecker:\n",
        "    def check_number(self, number):\n",
        "        if number % 2 == 0:\n",
        "            return f\"{number} is an even number.\"\n",
        "        else:\n",
        "            return f\"{number} is an odd number.\"\n",
        "\n",
        "# Usage example\n",
        "checker = NumberChecker()\n",
        "num = int(input(\"Enter a number: \"))\n",
        "result = checker.check_number(num)\n",
        "print(result)"
      ]
    },
    {
      "cell_type": "markdown",
      "metadata": {
        "id": "pPXSwitDvdBQ"
      },
      "source": [
        "#Polymorphism"
      ]
    },
    {
      "cell_type": "code",
      "source": [
        "#The word \"polymorphism\" means \"many forms\"\n",
        "\n",
        "# programming it refers to methods/functions/operators with the same name that can be executed on many objects or classes."
      ],
      "metadata": {
        "id": "BH2ClLhjLuX0"
      },
      "execution_count": null,
      "outputs": []
    },
    {
      "cell_type": "markdown",
      "metadata": {
        "id": "yqKufDNre3T-"
      },
      "source": [
        "\n",
        "##**Operator overloading**"
      ]
    },
    {
      "cell_type": "code",
      "source": [
        "# Operator overloading means giving special meaning to built-in operators\n",
        "# (like +, -, *, etc.) so they can work with user-defined objects (like classes)."
      ],
      "metadata": {
        "id": "L_5V0taBNV4_"
      },
      "execution_count": null,
      "outputs": []
    },
    {
      "cell_type": "code",
      "execution_count": null,
      "metadata": {
        "id": "dln0EB34Z5wx"
      },
      "outputs": [],
      "source": [
        "10 + 20\n"
      ]
    },
    {
      "cell_type": "code",
      "execution_count": null,
      "metadata": {
        "id": "QC8rH4hsaBog"
      },
      "outputs": [],
      "source": [
        "\"10\"+\"20\" #many forms"
      ]
    },
    {
      "cell_type": "code",
      "execution_count": null,
      "metadata": {
        "id": "qgxZ7PZsaI_H"
      },
      "outputs": [],
      "source": [
        "int.__add__(10,20) #addtion"
      ]
    },
    {
      "cell_type": "code",
      "execution_count": null,
      "metadata": {
        "id": "vEne2K7UafeX"
      },
      "outputs": [],
      "source": [
        "str.__add__(\"1\",\"2\") #string concatenation"
      ]
    },
    {
      "cell_type": "code",
      "execution_count": null,
      "metadata": {
        "id": "W-9iwY0BaWWt"
      },
      "outputs": [],
      "source": [
        "str.__eq__(\"ab\",\"ab\") #equal to\n",
        "a=10\n",
        "b=20\n",
        "print(a==b)"
      ]
    },
    {
      "cell_type": "code",
      "execution_count": null,
      "metadata": {
        "id": "cphS1uZ6auzX"
      },
      "outputs": [],
      "source": [
        "class addition:\n",
        "  def __init__(self,a):\n",
        "    self.a=a\n",
        "  def __add__(self,other):\n",
        "    print(self.a + other.a)\n",
        "\n",
        "a1=addition(10)\n",
        "a2=addition(20)\n",
        "print(a1+a2)\n",
        "a1.__add__(a2)"
      ]
    },
    {
      "cell_type": "code",
      "execution_count": null,
      "metadata": {
        "id": "uL5NXzykbwn5"
      },
      "outputs": [],
      "source": [
        "class addition:\n",
        "  def __init__(self,a):\n",
        "    self.a=a\n",
        "  def __add__(self,other):\n",
        "    result=self.a + other.a\n",
        "    print(result)\n",
        "a1=addition(10)\n",
        "a2=addition(20)\n",
        "a1.__add__(a2)\n",
        "\n"
      ]
    },
    {
      "cell_type": "code",
      "execution_count": null,
      "metadata": {
        "id": "_p1t_yw5dbim"
      },
      "outputs": [],
      "source": [
        "class addition:\n",
        "  def __init__(self,a,b):\n",
        "    self.a=a\n",
        "    self.b=b\n",
        "  def __add__(self,other):\n",
        "    return f\"{self.a +other.a}  {self.b + other.b}\"\n",
        "\n",
        "a1=addition(10,20)\n",
        "a2=addition(20,40)\n",
        "print(a1.__add__(a2))"
      ]
    },
    {
      "cell_type": "code",
      "execution_count": null,
      "metadata": {
        "id": "59E59ZmalFg-"
      },
      "outputs": [],
      "source": [
        "class Equal:\n",
        "  def __init__(self,a):\n",
        "    self.a=a\n",
        "  def __eq__(self,other):\n",
        "    if self.a == other.a:\n",
        "      print(\"both are Equal\")\n",
        "    else:\n",
        "      print(\"Different\")\n",
        "\n",
        "E1=Equal(10)\n",
        "E2=Equal(10)\n",
        "# print(E1==E2)\n",
        "E1.__eq__(E2)"
      ]
    },
    {
      "cell_type": "code",
      "execution_count": null,
      "metadata": {
        "id": "1-BkoXKHfL-N"
      },
      "outputs": [],
      "source": [
        "class complex:\n",
        "  def __init__(self,a,b):\n",
        "    self.a=a\n",
        "    self.b=b\n",
        "  def __add__(self,other):\n",
        "    return f\"{self.a +other.a} + {self.b+other.b}i\"\n",
        "c1=complex(1,2)\n",
        "c2=complex(3,4)\n",
        "print(c1+c2)"
      ]
    },
    {
      "cell_type": "code",
      "execution_count": null,
      "metadata": {
        "id": "WUo2kB3bft6M"
      },
      "outputs": [],
      "source": [
        "class human:\n",
        "  def __init__(self,name,age):\n",
        "    self.name=name\n",
        "    self.age=age\n",
        "  def __gt__(self,other):\n",
        "    if self.age>other.age:\n",
        "      print(self.name ,\"is older\")\n",
        "    else:\n",
        "      print(f\"{self.name} is smaller\")\n",
        "h1=human(\"raj\",40)\n",
        "h2=human(\"rahul\",30)\n",
        "h1>h2"
      ]
    },
    {
      "cell_type": "code",
      "execution_count": null,
      "metadata": {
        "id": "QBBpeVGokVyW"
      },
      "outputs": [],
      "source": [
        "class human:\n",
        "  def __init__(self,name,age):\n",
        "    self.name=name\n",
        "    self.age=age\n",
        "  def __gt__(self,other):\n",
        "    if self.age>other.age:\n",
        "      return True\n",
        "    else:\n",
        "      return False\n",
        "h1=human(\"raj\",40)\n",
        "h2=human(\"rahul\",30)\n",
        "if h1>h2:\n",
        "  print(f\"{h1.name} will pay the bill\")\n",
        "else:\n",
        "  print(f\"{h2.name} will pay the bill\")"
      ]
    },
    {
      "cell_type": "code",
      "execution_count": null,
      "metadata": {
        "id": "XJmM4hgqyTsQ"
      },
      "outputs": [],
      "source": []
    },
    {
      "cell_type": "markdown",
      "metadata": {
        "id": "3SZFPi2ZmYim"
      },
      "source": [
        "##**method overloading**\n",
        "Method overloading means a class containing multiple methods with the same name but may have different arguments. <br>Basically python does not support method overloading, but there are several ways to achieve method overloading."
      ]
    },
    {
      "cell_type": "code",
      "source": [
        "class Sample:\n",
        "     def add(self,*,a,b,c=0):\n",
        "          self.a=a\n",
        "          self.b=b\n",
        "          self.c=c\n",
        "          print(self.a+self.b+self.c)\n",
        "S=Sample()\n",
        "S.add(10,20)\n",
        "S.add(10,20,30)"
      ],
      "metadata": {
        "id": "bP8YzgZXbOzq"
      },
      "execution_count": null,
      "outputs": []
    },
    {
      "cell_type": "code",
      "source": [
        "class Sample:\n",
        "\n",
        "  def add(self,a,b,c=0):\n",
        "    self.a=a\n",
        "    self.b=b\n",
        "    self.c=c\n",
        "    print(self.a+self.b+self.c)\n",
        "\n",
        "\n",
        "S=Sample()\n",
        "S.add(10,20)\n"
      ],
      "metadata": {
        "id": "IMa4akE-Tsrq"
      },
      "execution_count": null,
      "outputs": []
    },
    {
      "cell_type": "code",
      "source": [],
      "metadata": {
        "id": "RoHebXRVbJO6"
      },
      "execution_count": null,
      "outputs": []
    },
    {
      "cell_type": "markdown",
      "metadata": {
        "id": "MNO8eBcloTvl"
      },
      "source": [
        "##**method overriding**"
      ]
    },
    {
      "cell_type": "code",
      "source": [
        "# When a method in a subclass has the same name, the same parameters or signature,\n",
        "# and same return type(or sub-type) as a method in its super-class, the\n",
        "# n the method in the subclass is said to override the method in the super-class."
      ],
      "metadata": {
        "id": "8TWo7wOeNyya"
      },
      "execution_count": null,
      "outputs": []
    },
    {
      "cell_type": "code",
      "source": [
        "class simple:\n",
        "\n",
        "  def add(self,*,a,b,c=0):\n",
        "    for i in d:\n",
        "      print(i)\n",
        "\n",
        "s=simple()\n",
        "s.add(12,14)\n",
        "s.add(13,14,15)\n"
      ],
      "metadata": {
        "id": "UqjBumdPR3_P"
      },
      "execution_count": null,
      "outputs": []
    },
    {
      "cell_type": "code",
      "execution_count": null,
      "metadata": {
        "id": "jQlwiXd-odHo"
      },
      "outputs": [],
      "source": [
        "class Bird:\n",
        "    def tweet(self):\n",
        "        print(\"Birds Sounds\")\n",
        "class c:\n",
        "     def tweet(self):\n",
        "\n",
        "        print(\"birds sounds22\")\n",
        "        super().tweet()\n",
        "\n",
        "class Sparrow(Bird,c):\n",
        "    def twee(self):\n",
        "        super().tweet()\n",
        "\n",
        "d = Sparrow()\n",
        "d.twee()\n"
      ]
    },
    {
      "cell_type": "code",
      "execution_count": null,
      "metadata": {
        "id": "dNQH7fGdqmSB"
      },
      "outputs": [],
      "source": [
        "# method overriding\n",
        "class Parent:\n",
        "  def __init__(self):\n",
        "    print(\"Function of Parent class.\")\n",
        "\n",
        "class Child(Parent):\n",
        "  def __init__(self):\n",
        "    print(\"Function of Child class.\")\n",
        "    super().__init__()\n",
        "\n",
        "class Child2(Child):\n",
        "  def __init__(self):\n",
        "    print(\"Function of Child 2 class.\")\n",
        "    super().__init__()\n",
        "obj = Child2()"
      ]
    },
    {
      "cell_type": "code",
      "execution_count": null,
      "metadata": {
        "id": "cgF6ykNXrcYQ"
      },
      "outputs": [],
      "source": [
        "class Calculator:\n",
        "    def __init__(self, num1, num2):\n",
        "        self.num1 = num1\n",
        "        self.num2 = num2\n",
        "\n",
        "class Addition(Calculator):\n",
        "    def __init__(self, num1, num2):\n",
        "        super().__init__(num1, num2)\n",
        "        self.add = self.num1 + self.num2\n",
        "\n",
        "class Multiplication(Calculator):\n",
        "    def __init__(self, num1, num2):\n",
        "        super().__init__(num1, num2)\n",
        "        self.mul = self.num1 * self.num2\n",
        "\n",
        "class Subtraction(Calculator):\n",
        "    def __init__(self, num1, num2):\n",
        "        super().__init__(num1, num2)\n",
        "        self.sub = self.num1 - self.num2\n",
        "\n",
        "class Operations(Addition, Multiplication, Subtraction):\n",
        "    def __init__(self, num1, num2):\n",
        "        super().__init__(num1, num2)\n",
        "        print(\"Addition:\", self.add)\n",
        "        print(\"Subtraction:\", self.sub)\n",
        "        print(\"Multiplication:\", self.mul)\n",
        "\n",
        "# Create an instance of Operations\n",
        "op = Operations(50, 20)\n"
      ]
    },
    {
      "cell_type": "markdown",
      "source": [
        "# Encapsulation\n",
        "\n",
        "✅ Simple Definition of Encapsulation in Python:\n",
        "Encapsulation means hiding the internal details of a class and only showing what’s necessary.\n",
        "\n",
        "🔹 In Very Simple Words:\n",
        "Encapsulation is like putting data and functions inside a box (class) and protecting it from outside access.\n",
        "\n",
        "It helps to keep the data safe and secure."
      ],
      "metadata": {
        "id": "K2LPERAIUcK8"
      }
    },
    {
      "cell_type": "code",
      "source": [
        "class B:\n",
        "    def __init__(self):\n",
        "        self.public_variable = \"I'm public!\"\n",
        "        print(self.public_variable)\n",
        "\n",
        "\n",
        "b=B()\n",
        "b.public_variable\n"
      ],
      "metadata": {
        "id": "jOGs7JwtgC8H"
      },
      "execution_count": null,
      "outputs": []
    },
    {
      "cell_type": "code",
      "source": [
        "class MyClass:\n",
        "    def __init__(self):\n",
        "        self._protected_variable = \"I'm protected by convention.\"\n",
        "\n",
        "obj = MyClass()\n",
        "print(obj._protected_variable)  # Still accessible from outside, but should be avoided"
      ],
      "metadata": {
        "id": "ZjtRwKgCgXOT"
      },
      "execution_count": null,
      "outputs": []
    },
    {
      "cell_type": "code",
      "source": [
        "class MyClass:\n",
        "    def __init__(self):\n",
        "        self.__private_variable = \"I'm private!\"\n",
        "        print(self.__private_variable)\n",
        "\n",
        "\n",
        "obj = MyClass()\n",
        "#print(obj.__private_variable)  # This would raise an AttributeError\n",
        "print(obj._MyClass__private_variable)  # Name-mangling can still access it\n"
      ],
      "metadata": {
        "id": "2Ipf0gYMgj3X"
      },
      "execution_count": null,
      "outputs": []
    },
    {
      "cell_type": "markdown",
      "source": [
        "###getter/setter\n",
        "✅ Simple Definition of Getter and Setter Methods in Python:<br>\n",
        "Getter: A method used to get (access) the value of a private variable.<br>\n",
        "\n",
        "Setter: A method used to set (update) the value of a private variable.\n",
        "\n",
        "🔹 In Very Simple Words:<br>\n",
        "Getter = To read a private variable<br>\n",
        "Setter = To change a private variable\n",
        "<br>\n",
        "They are used when variables are private (with __) and cannot be accessed directly."
      ],
      "metadata": {
        "id": "05IYtfEhPmor"
      }
    },
    {
      "cell_type": "code",
      "source": [
        "class Student:\n",
        "    def __init__(self):\n",
        "        self.__name = \"\"\n",
        "\n",
        "    # Setter method\n",
        "    def set_name(self, name):\n",
        "        self.__name = name\n",
        "\n",
        "    # Getter method (without return)\n",
        "    def get_name(self):\n",
        "        print(self.__name)\n",
        "\n",
        "s = Student()\n",
        "s.set_name(\"Ravi\")   # Using setter\n",
        "s.get_name()         # Using getter → Output: Ravi"
      ],
      "metadata": {
        "id": "tVuKjxxqP0bt"
      },
      "execution_count": null,
      "outputs": []
    },
    {
      "cell_type": "code",
      "source": [
        "class MyClass:\n",
        "    def __init__(self, value):\n",
        "        self._value = value  # Protected attribute\n",
        "\n",
        "    # Getter method\n",
        "    def get_value(self):\n",
        "        return self._value\n",
        "\n",
        "    # Setter method\n",
        "    def set_value(self, value):\n",
        "        if value > 0:  # You can include validation logic here\n",
        "            self._value = value\n",
        "        else:\n",
        "            print(\"Value must be positive!\")\n",
        "\n",
        "# Create an instance of MyClass\n",
        "obj = MyClass(10)\n",
        "\n",
        "# Use getter to access the value\n",
        "print(obj.get_value())  # Output: 10\n",
        "\n",
        "# Use setter to change the value\n",
        "obj.set_value(20)\n",
        "print(obj.get_value())  # Output: 20\n",
        "\n",
        "# # Attempt to set an invalid value\n",
        "# obj.set_value(-5)  # Output: Value must be positive!\n"
      ],
      "metadata": {
        "id": "5gvthj-ghCWW"
      },
      "execution_count": null,
      "outputs": []
    },
    {
      "cell_type": "code",
      "source": [],
      "metadata": {
        "id": "CNPcCW-oPuHM"
      },
      "execution_count": null,
      "outputs": []
    },
    {
      "cell_type": "code",
      "source": [
        "class BankAccount:\n",
        "    def __init__(self, account_holder, balance):\n",
        "        self.account_holder = account_holder #public variable\n",
        "        self.balance = balance              #public variable\n",
        "\n",
        "    def deposit(self, amount):\n",
        "        self.balance += amount\n",
        "        return f\"Deposited {amount}. New balance: {self.balance}\"\n",
        "\n",
        "    def withdraw(self, amount):\n",
        "        if amount <= self.balance:\n",
        "            self.balance -= amount\n",
        "            return f\"Withdrew {amount}. New balance: {self.balance}\"\n",
        "        else:\n",
        "            return \"Insufficient funds.\"\n",
        "\n",
        "account = BankAccount(\"Rajesh\", 10000)\n",
        "print(account.deposit(2000))\n",
        "print(account.withdraw(3000))\n",
        "print(account.balance)\n",
        "print(account.account_holder)\n"
      ],
      "metadata": {
        "id": "gwT8lxoLUZOL"
      },
      "execution_count": null,
      "outputs": []
    },
    {
      "cell_type": "code",
      "source": [
        "class BankAccount:\n",
        "    def __init__(self, account_holder, balance):\n",
        "        # Private variables for account holder name and balance\n",
        "        self.__account_holder = account_holder\n",
        "        self.__balance = balance\n",
        "\n",
        "    def deposit(self, amount):\n",
        "        # Adds the deposit amount to the balance\n",
        "        self.__balance += amount\n",
        "        return f\"Deposited ₹{amount}. New balance: ₹{self.__balance}\"\n",
        "\n",
        "    def withdraw(self, amount):\n",
        "        # Withdraws the specified amount if sufficient funds are available\n",
        "        if amount <= self.__balance:\n",
        "            self.__balance -= amount\n",
        "            return f\"Withdrew ₹{amount}. New balance: ₹{self.__balance}\"\n",
        "        else:\n",
        "            return \"Insufficient funds.\"\n",
        "\n",
        "    # Getter method to access the private balance variable\n",
        "    def get_balance(self):\n",
        "        return self.__balance\n",
        "\n",
        "    # Getter method to access the private account holder variable\n",
        "    def get_account_holder(self):\n",
        "        return self.__account_holder\n",
        "\n",
        "# Creating an instance of BankAccount\n",
        "account = BankAccount(\"Rajesh\", 10000)\n",
        "\n",
        "# Depositing money\n",
        "print(account.deposit(2000))\n",
        "\n",
        "# Withdrawing money\n",
        "print(account.withdraw(3000))\n",
        "\n",
        "# Accessing private variables via getter methods\n",
        "print(account.get_balance())\n",
        "print(account.get_account_holder())\n"
      ],
      "metadata": {
        "id": "Ud3pNoaKVz8j"
      },
      "execution_count": null,
      "outputs": []
    },
    {
      "cell_type": "markdown",
      "source": [
        "#abstraction\n",
        "\n",
        "✅ Simple Definition of Abstraction in Python:\n",
        "Abstraction means hiding unnecessary details and showing only the important parts of something.\n",
        "\n",
        "🔹 In Very Simple Words:\n",
        "Abstraction is like using a phone – you press buttons, but you don’t need to know how it works inside.\n",
        "\n",
        "In Python, we use abstraction to hide the complex code and only show what is needed to the user.\n",
        "\n"
      ],
      "metadata": {
        "id": "N8il_XZiQ4vN"
      }
    },
    {
      "cell_type": "markdown",
      "source": [],
      "metadata": {
        "id": "BPxY8xOROZCX"
      }
    },
    {
      "cell_type": "code",
      "source": [],
      "metadata": {
        "id": "Nk9OxLwCOaIx"
      },
      "execution_count": null,
      "outputs": []
    },
    {
      "cell_type": "code",
      "source": [
        "from abc import ABC, abstractmethod\n",
        "\n",
        "# Abstract base class for arithmetic operations\n",
        "class ArithmeticOperation(ABC):\n",
        "\n",
        "    @abstractmethod\n",
        "    def calculate(self, a, b):\n",
        "        pass\n",
        "#\n",
        "# Concrete class for Addition\n",
        "class Addition(ArithmeticOperation):\n",
        "    def calculate(self, a, b):\n",
        "        return a + b\n",
        "\n",
        "# Concrete class for Subtraction\n",
        "class Subtraction(ArithmeticOperation):\n",
        "    def calculate(self, a, b):\n",
        "        return a - b\n",
        "\n",
        "# Concrete class for Multiplication\n",
        "class Multiplication(ArithmeticOperation):\n",
        "    def calculate(self, a, b):\n",
        "        return a * b\n",
        "\n",
        "# Concrete class for Division\n",
        "class Division(ArithmeticOperation):\n",
        "    def calculate(self, a, b):\n",
        "        if b != 0:\n",
        "            return a / b\n",
        "        else:\n",
        "            return \"Cannot divide by zero\"\n",
        "\n",
        "# Example usage\n",
        "add = Addition()\n",
        "subtract = Subtraction()\n",
        "multiply = Multiplication()\n",
        "divide = Division()\n",
        "\n",
        "# Performing arithmetic operations\n",
        "print(\"Addition:\", add.calculate(10, 5))         # Output: 15\n",
        "print(\"Subtraction:\", subtract.calculate(10, 5)) # Output: 5\n",
        "print(\"Multiplication:\", multiply.calculate(10, 5)) # Output: 50\n",
        "print(\"Division:\", divide.calculate(10, 5))      # Output: 2.0\n",
        "print(\"Division by zero:\", divide.calculate(10, 0)) # Output: Cannot divide by zero\n"
      ],
      "metadata": {
        "id": "JlvbAvqBKPF3"
      },
      "execution_count": null,
      "outputs": []
    },
    {
      "cell_type": "markdown",
      "source": [
        "#banking system project"
      ],
      "metadata": {
        "id": "P1qz0x-hOWQM"
      }
    },
    {
      "cell_type": "code",
      "source": [
        "\n",
        "---\n",
        "\n",
        "# 📄 **Banking System Project – Class & Method Structure**\n",
        "\n",
        "## 🔹 **Class: `BankAccount`**\n",
        "\n",
        "* `__init__(self, account_number, account_holder, balance=0)`\n",
        "* `deposit(self, amount)`\n",
        "* `withdraw(self, amount)`\n",
        "* `display_balance(self)`\n",
        "\n",
        "---\n",
        "\n",
        "## 🔹 **Class: `SavingsAccount`** *(Inherits from `BankAccount`)*\n",
        "\n",
        "* `__init__(self, account_number, account_holder, balance=0)`\n",
        "* `withdraw(self, amount)` *(Overrides base class method)*\n",
        "\n",
        "---\n",
        "\n",
        "## 🔹 **Class: `CurrentAccount`** *(Inherits from `BankAccount`)*\n",
        "\n",
        "* `__init__(self, account_number, account_holder, balance=0)`\n",
        "* `withdraw(self, amount)` *(Overrides base class method)*\n",
        "\n",
        "---\n",
        "\n",
        "Let me know if you want this in a **tabular form**, **Word file**, or **PDF** format.\n"
      ],
      "metadata": {
        "id": "ZtLH3IE-Ocvp"
      },
      "execution_count": null,
      "outputs": []
    },
    {
      "cell_type": "markdown",
      "source": [
        "#Sliding windows:"
      ],
      "metadata": {
        "id": "gMV2G-9lXjBS"
      }
    },
    {
      "cell_type": "code",
      "source": [
        "def max_sum_subarray(arr, k):\n",
        "    n = len(arr)\n",
        "    if n < k:\n",
        "        return \"Invalid: Window size is greater than array length\"\n",
        "\n",
        "    # Calculate sum of first window\n",
        "    window_sum = sum(arr[:k])\n",
        "    max_sum = window_sum\n",
        "\n",
        "    # Slide the window\n",
        "    for i in range(n - k):\n",
        "        window_sum = window_sum - arr[i] + arr[i + k]\n",
        "        max_sum = max(max_sum, window_sum)\n",
        "\n",
        "    return max_sum\n",
        "\n",
        "# Example\n",
        "arr = [1, 4, 2, 10, 23, 3, 1, 0, 20]\n",
        "k = 4\n",
        "print(\"Maximum sum of a subarray of size\", k, \"is:\", max_sum_subarray(arr, k))"
      ],
      "metadata": {
        "id": "PSzaxtEUX0qQ"
      },
      "execution_count": null,
      "outputs": []
    },
    {
      "cell_type": "markdown",
      "source": [
        "#File Handling"
      ],
      "metadata": {
        "id": "75IwmxLXXbA3"
      }
    },
    {
      "cell_type": "code",
      "source": [],
      "metadata": {
        "id": "jT9JQ41rKN4W"
      },
      "execution_count": null,
      "outputs": []
    },
    {
      "cell_type": "markdown",
      "source": [
        "File handling is the process of creating, reading, writing, and managing files in a program to store and retrieve data"
      ],
      "metadata": {
        "id": "n_ea4c4nJqfJ"
      }
    },
    {
      "cell_type": "code",
      "execution_count": null,
      "metadata": {
        "id": "MJS5NZYVYeTk"
      },
      "outputs": [],
      "source": [
        "# Basic writing to a file\n",
        "with open(\"/content/sample_data/simple.txt\", \"w\") as file:\n",
        "    file.write(\"Hello, World!\")\n",
        "\n",
        "\n"
      ]
    },
    {
      "cell_type": "code",
      "source": [
        "# Proper way to read a file\n",
        "with open(\"/content/sample_data/simple.txt\", \"r\") as file:\n",
        "    content = file.read()\n",
        "    print(content)\n"
      ],
      "metadata": {
        "id": "aYFPmUbiKMt6"
      },
      "execution_count": null,
      "outputs": []
    },
    {
      "cell_type": "code",
      "source": [
        "file=open(\"/content/sample_data/simple.txt\", \"w\")\n",
        "file.write(\"This is an example line 2.\\n\")\n",
        "file.writelines([\"Line 2\\n\", \"Line 4\\n\"])\n"
      ],
      "metadata": {
        "id": "PuUObe-bLzcy"
      },
      "execution_count": null,
      "outputs": []
    },
    {
      "cell_type": "code",
      "source": [
        "file=open(\"/content/sample_data/simple.txt\", \"r\")\n",
        "file.read()\n"
      ],
      "metadata": {
        "id": "_wzxiN3CSluL"
      },
      "execution_count": null,
      "outputs": []
    },
    {
      "cell_type": "code",
      "source": [
        "file=open(\"/content/sample_data/simple.txt\", \"r\")\n",
        "file.readlines()"
      ],
      "metadata": {
        "id": "13wvj5sCTEeo"
      },
      "execution_count": null,
      "outputs": []
    },
    {
      "cell_type": "code",
      "source": [
        "print(content)"
      ],
      "metadata": {
        "id": "ePKJOb1bS6Fn"
      },
      "execution_count": null,
      "outputs": []
    },
    {
      "cell_type": "markdown",
      "source": [
        "#lamda function"
      ],
      "metadata": {
        "id": "RgPknz8KGM0x"
      }
    },
    {
      "cell_type": "code",
      "source": [
        "# A lambda function that adds two numbers\n",
        "add = lambda a, b: a + b\n",
        "\n",
        "print(f\"Addition of 5 and 3: {add(5, 3)}\") # Output: Addition of 5 and 3: 8"
      ],
      "metadata": {
        "id": "MFcUwBW_GPQg"
      },
      "execution_count": null,
      "outputs": []
    },
    {
      "cell_type": "code",
      "source": [
        "# A lambda function to square a number\n",
        "square = lambda x: x * x\n",
        "\n",
        "print(f\"Square of 7: {square(7)}\") # Output: Square of 7: 49"
      ],
      "metadata": {
        "id": "W1xzfln9GWHF"
      },
      "execution_count": null,
      "outputs": []
    },
    {
      "cell_type": "code",
      "source": [
        "# A lambda function to find the maximum of two numbers\n",
        "maximum = lambda a, b: a if a > b else b\n",
        "\n",
        "print(f\"Maximum of 10 and 20: {maximum(10, 20)}\") # Output: Maximum of 10 and 20: 20"
      ],
      "metadata": {
        "id": "jNIXHhsuGbis"
      },
      "execution_count": null,
      "outputs": []
    },
    {
      "cell_type": "markdown",
      "source": [
        "#Exception Handling"
      ],
      "metadata": {
        "id": "NYpk1ZdyE7V8"
      }
    },
    {
      "cell_type": "code",
      "source": [
        "a  =int(input(\"Enter any one value :\"))\n",
        "b = int(input(\"Enter the second value: \"))\n",
        "\n",
        "print(a/b)\n",
        "\n",
        "print('continue')"
      ],
      "metadata": {
        "id": "0fX0DjkIE8yz"
      },
      "execution_count": null,
      "outputs": []
    },
    {
      "cell_type": "code",
      "source": [
        "a  = int(input(\"Enter first number\"))\n",
        "b  = int(input(\"Enter second number\"))\n",
        "try:\n",
        "    print(a/b)\n",
        "except:\n",
        "    print(\"can't devide by zero\")\n"
      ],
      "metadata": {
        "id": "WuqNo7UCFZ1O"
      },
      "execution_count": null,
      "outputs": []
    },
    {
      "cell_type": "code",
      "source": [
        "\n",
        "try:\n",
        "    a = int(input(\"Enter first  no\"))\n",
        "    b = int(input(\"Enter second number\"))\n",
        "    print(a+b)\n",
        "except:\n",
        "    print(\" Enter only decim value\")\n",
        "\n",
        "print(\" Welcome to programming\")"
      ],
      "metadata": {
        "id": "NVeSap0TFqVC"
      },
      "execution_count": null,
      "outputs": []
    },
    {
      "cell_type": "code",
      "source": [
        "try:\n",
        "    a=int(input(\"enter first integer no\"))\n",
        "    b=int(input(\"enter second integer no\"))\n",
        "    print(a/b)\n",
        "except:\n",
        "    print(\"plz ensure that you can't divide any no by zero\")\n",
        "\n"
      ],
      "metadata": {
        "id": "0DqpI77pGHbg"
      },
      "execution_count": null,
      "outputs": []
    },
    {
      "cell_type": "markdown",
      "source": [
        "## Types of error"
      ],
      "metadata": {
        "id": "TwvvmXcWGs4y"
      }
    },
    {
      "cell_type": "code",
      "source": [
        "#syntax error\n",
        "if True\n",
        "    print(\"Hello\")\n",
        "\n",
        "#Missing colon (:) after if True causes a syntax error."
      ],
      "metadata": {
        "id": "WCak9JbRGzvg"
      },
      "execution_count": null,
      "outputs": []
    },
    {
      "cell_type": "code",
      "source": [
        "#Indentation Error\n",
        "def greet():\n",
        "\n",
        "print(\"Hello\")\n",
        "\n",
        "\n",
        "#The print statement is not indented correctly under the greet function."
      ],
      "metadata": {
        "id": "2k_SoLfpHIMN"
      },
      "execution_count": null,
      "outputs": []
    },
    {
      "cell_type": "code",
      "source": [
        "# Name Error\n",
        "\n",
        "print(nam)\n",
        "\n",
        "\n",
        "# If name hasn’t been defined, it will raise a NameError.\n",
        "\n"
      ],
      "metadata": {
        "id": "VYSIIZ25HX1r"
      },
      "execution_count": null,
      "outputs": []
    },
    {
      "cell_type": "code",
      "source": [
        "# Type Error\n",
        "\n",
        "result = \"Hello\" + 5\n",
        "\n",
        "# Occurs when an operation is performed on an incompatible data type.\n"
      ],
      "metadata": {
        "id": "92x41xPgH1fu"
      },
      "execution_count": null,
      "outputs": []
    },
    {
      "cell_type": "code",
      "source": [
        "#  Index Error\n",
        "\n",
        "numbers = [1, 2, 3]\n",
        "print(numbers[5])\n",
        "\n",
        "# Raised when trying to access an index that is out of the range of a list or string."
      ],
      "metadata": {
        "id": "B5qy-9eSIDE2"
      },
      "execution_count": null,
      "outputs": []
    },
    {
      "cell_type": "code",
      "source": [
        "# Key Error\n",
        "\n",
        "my_dict = {\"name\": \"rafik\"}\n",
        "print(my_dict[\"age\"])\n",
        "\n",
        "# Occurs when trying to access a key that doesn’t exist in a dictionary"
      ],
      "metadata": {
        "id": "gJeO25M-IKKI"
      },
      "execution_count": null,
      "outputs": []
    },
    {
      "cell_type": "code",
      "source": [
        "# Value Error\n",
        "number = int(\"1.5\")\n",
        "# Raised when a function receives an argument of the correct type but an inappropriate value."
      ],
      "metadata": {
        "id": "MjYZpIO6IYA9"
      },
      "execution_count": null,
      "outputs": []
    },
    {
      "cell_type": "code",
      "source": [
        "# Attribute Error\n",
        "\n",
        "my_list = [1, 2, 3]\n",
        "my_list.append(4)\n",
        "my_list.push(5)  # Invalid method\n",
        "\n",
        "# Occurs when an invalid attribute is accessed for a given object.\n",
        "# Lists in Python don’t have a push method, so it raises an AttributeError."
      ],
      "metadata": {
        "id": "Wg24bvAxIytH"
      },
      "execution_count": null,
      "outputs": []
    },
    {
      "cell_type": "code",
      "source": [
        "#  ZeroDivision Error\n",
        "result = 10 / 0\n",
        "\n"
      ],
      "metadata": {
        "id": "Ta_0ERakJHt7"
      },
      "execution_count": null,
      "outputs": []
    },
    {
      "cell_type": "code",
      "source": [
        "# FileNotFound Error\n",
        "with open(\"non_existent_file.txt\", \"r\") as file:\n",
        "    content = file.read()\n"
      ],
      "metadata": {
        "id": "gVitzAbxJRes"
      },
      "execution_count": null,
      "outputs": []
    },
    {
      "cell_type": "code",
      "source": [
        "# Sample code demonstrating exception handling for various error types.\n",
        "\n",
        "def handle_errors():\n",
        "    try:\n",
        "        # 1. Syntax Error (Caught at runtime in specific cases)\n",
        "        exec(\"if True print('Hello')\")  # Deliberate syntax error\n",
        "\n",
        "    except SyntaxError:\n",
        "        print(\"Caught a SyntaxError: Check your code syntax.\")\n",
        "\n",
        "    try:\n",
        "        # 2. Indentation Error (Handled only if it appears in a dynamically executed code)\n",
        "        exec(\"def my_func():\\nprint('Hello')\")  # Improper indentation\n",
        "\n",
        "    except IndentationError:\n",
        "        print(\"Caught an IndentationError: Check code indentation.\")\n",
        "\n",
        "    try:\n",
        "        # 3. Name Error\n",
        "        print(value)  # 'value' is not defined\n",
        "\n",
        "    except NameError:\n",
        "        print(\"Caught a NameError: The variable is not defined.\")\n",
        "\n",
        "    try:\n",
        "        # 4. Type Error\n",
        "        result = \"hello\" + 5  # Cannot add string and integer\n",
        "\n",
        "    except TypeError:\n",
        "        print(\"Caught a TypeError: Mismatched data types in operation.\")\n",
        "\n",
        "    try:\n",
        "        # 5. Index Error\n",
        "        numbers = [1, 2, 3]\n",
        "        print(numbers[5])  # Index 5 is out of range\n",
        "\n",
        "    except IndexError:\n",
        "        print(\"Caught an IndexError: List index is out of range.\")\n",
        "\n",
        "    try:\n",
        "        # 6. Key Error\n",
        "        my_dict = {\"name\": \"Alice\"}\n",
        "        print(my_dict[\"age\"])  # 'age' key does not exist\n",
        "\n",
        "    except KeyError:\n",
        "        print(\"Caught a KeyError: The dictionary key does not exist.\")\n",
        "\n",
        "    try:\n",
        "        # 7. Value Error\n",
        "        number = int(\"hello\")  # Cannot convert non-numeric string to integer\n",
        "\n",
        "    except ValueError:\n",
        "        print(\"Caught a ValueError: Invalid literal for integer conversion.\")\n",
        "\n",
        "    try:\n",
        "        # 8. Attribute Error\n",
        "        my_list = [1, 2, 3]\n",
        "        my_list.push(4)  # 'push' is not a method for list\n",
        "\n",
        "    except AttributeError:\n",
        "        print(\"Caught an AttributeError: Invalid attribute for the object.\")\n",
        "\n",
        "    try:\n",
        "        # 9. ZeroDivision Error\n",
        "        result = 10 / 0  # Division by zero\n",
        "\n",
        "    except ZeroDivisionError:\n",
        "        print(\"Caught a ZeroDivisionError: Cannot divide by zero.\")\n",
        "\n",
        "    try:\n",
        "        # 10. FileNotFound Error\n",
        "        with open(\"nonexistent_file.txt\", \"r\") as file:\n",
        "            content = file.read()\n",
        "\n",
        "    except FileNotFoundError:\n",
        "        print(\"Caught a FileNotFoundError: File does not exist.\")\n",
        "\n",
        "# Execute the function to see error handling in action.\n",
        "handle_errors()\n"
      ],
      "metadata": {
        "id": "KRu3-ZkGKc0k"
      },
      "execution_count": null,
      "outputs": []
    },
    {
      "cell_type": "code",
      "source": [
        "try:\n",
        "    result = 10 / 0\n",
        "except ZeroDivisionError:\n",
        "    print(\"Division by zero error!\")\n",
        "else:\n",
        "    print(\"Division successful:\", result)\n"
      ],
      "metadata": {
        "id": "bb889NbNL5rx"
      },
      "execution_count": null,
      "outputs": []
    },
    {
      "cell_type": "code",
      "source": [
        "try:\n",
        "    result = 10 / 0\n",
        "except ZeroDivisionError:\n",
        "    print(\"Division by zero error!\")\n",
        "finally:\n",
        "    print(\"This will execute no matter what.\")\n"
      ],
      "metadata": {
        "id": "IPerXwZwL-eC"
      },
      "execution_count": null,
      "outputs": []
    },
    {
      "cell_type": "code",
      "source": [
        "def check_age(age):\n",
        "    if age < 0:\n",
        "        raise ValueError(\"Age cannot be negative\")\n",
        "    return age\n",
        "\n",
        "try:\n",
        "    check_age(-5)\n",
        "except ValueError as e:\n",
        "    print(\"Caught an error:\", e)\n"
      ],
      "metadata": {
        "id": "qVPKvBRgMPcX"
      },
      "execution_count": null,
      "outputs": []
    },
    {
      "cell_type": "code",
      "source": [
        "try:\n",
        "    with open(\"example.txt\", \"r\") as file:\n",
        "        content = file.read()\n",
        "except FileNotFoundError:\n",
        "    print(\"File not found.\")\n"
      ],
      "metadata": {
        "id": "Zj1P-npCMeeD"
      },
      "execution_count": null,
      "outputs": []
    },
    {
      "cell_type": "markdown",
      "metadata": {
        "id": "4l37c1LMoSO6"
      },
      "source": [
        "#**Data Structure Algorithms:**\n",
        "Data Structures are a way of organizing data so that it can be accessed more efficiently depending upon the situation.<br>\n",
        "Data Structures are fundamentals of any programming language around which a program is built\n"
      ]
    },
    {
      "cell_type": "markdown",
      "source": [
        "### **How to Write an Algorithm?**  \n",
        "\n",
        "An **algorithm** is a step-by-step process or set of rules to solve a specific problem. Writing an algorithm involves breaking down a problem into logical steps that a computer can execute.  \n",
        "\n",
        "---\n",
        "\n",
        "## **📌 Steps to Write an Algorithm**\n",
        "### **1️⃣ Understand the Problem**  \n",
        "- Read the problem statement carefully.  \n",
        "- Identify inputs and expected outputs.  \n",
        "- Consider edge cases and constraints.\n",
        "\n",
        "### **2️⃣ Define Inputs and Outputs**  \n",
        "- **Input:** What data do you need to solve the problem?  \n",
        "- **Output:** What should be the final result?  \n",
        "\n",
        "### **3️⃣ Break the Solution into Steps**  \n",
        "- Write steps in simple, clear, and logical order.  \n",
        "- Ensure each step is unambiguous.  \n",
        "\n",
        "### **4️⃣ Write the Algorithm in Pseudocode**  \n",
        "- Pseudocode is a structured way to write an algorithm using simple English-like statements.\n",
        "\n",
        "### **5️⃣ Analyze the Algorithm**  \n",
        "- Check **time complexity** and **space complexity** (Big-O notation).  \n",
        "- Optimize if needed.\n",
        "\n",
        "---\n",
        "\n",
        "## **📌 Example 1: Algorithm for Finding the Maximum Number in an Array**\n",
        "### **Step-by-Step Algorithm**\n",
        "1. Start  \n",
        "2. Take an array `arr` of size `n` as input  \n",
        "3. Set `max = arr[0]`  \n",
        "4. Loop from `i = 1` to `n-1`  \n",
        "   - If `arr[i] > max`, set `max = arr[i]`  \n",
        "5. Print `max` (largest number)  \n",
        "6. Stop  \n",
        "\n",
        "### **Pseudocode**\n",
        "```\n",
        "Algorithm FindMax(arr, n):\n",
        "    Step 1: Set max = arr[0]\n",
        "    Step 2: For i = 1 to n-1:\n",
        "        If arr[i] > max:\n",
        "            max = arr[i]\n",
        "    Step 3: Print max\n",
        "```\n",
        "\n",
        "---\n"
      ],
      "metadata": {
        "id": "fsKThq40pXGD"
      }
    },
    {
      "cell_type": "markdown",
      "metadata": {
        "id": "pGlRp0Hc6T2x"
      },
      "source": [
        "\n",
        "# **📌 Asymptotic Notation in Algorithm Analysis**  \n",
        "\n",
        "### **🚀 What is Asymptotic Notation?**  \n",
        "Asymptotic notation is a mathematical way to describe the **time complexity** and **efficiency** of an algorithm as the input size **(n)** grows towards infinity. It helps compare algorithms without focusing on hardware or implementation details.  \n",
        "\n",
        "---\n",
        "\n",
        "## **📌 Types of Asymptotic Notations**  \n",
        "\n",
        "### **1️⃣ Big-O Notation (O) → Worst Case Complexity**\n",
        "✅ **Definition:** Describes the upper bound (maximum time) an algorithm takes in the worst case.  \n",
        "✅ **Use Case:** Helps determine the worst-case performance.  \n",
        "✅ **Example:**  \n",
        "- **Linear Search**: `O(n)`, because in the worst case, it checks all `n` elements.  \n",
        "- **Bubble Sort**: `O(n²)`, because in the worst case, it performs `n(n-1)/2` comparisons.  \n",
        "\n",
        "📌 **Example Code:**\n",
        "```python\n",
        "def linear_search(arr, target):\n",
        "    for i in range(len(arr)):  # O(n)\n",
        "        if arr[i] == target:\n",
        "            return i\n",
        "    return -1\n",
        "```\n",
        "\n",
        "🔹 **Graph Representation**  \n",
        "📈 **Big-O defines the worst growth rate of an algorithm.**  \n",
        "\n",
        "---\n",
        "\n",
        "### **2️⃣ Omega Notation (Ω) → Best Case Complexity**\n",
        "✅ **Definition:** Describes the lower bound (minimum time) an algorithm takes in the best case.  \n",
        "✅ **Use Case:** Helps determine the best-case performance.  \n",
        "✅ **Example:**  \n",
        "- **Linear Search**: `Ω(1)`, because if the target is the first element, it takes only **one** comparison.  \n",
        "- **Insertion Sort**: `Ω(n)`, when the array is already sorted.  \n",
        "\n",
        "📌 **Example Code:**\n",
        "```python\n",
        "def best_case_linear_search(arr, target):\n",
        "    if arr[0] == target:  # Ω(1)\n",
        "        return 0\n",
        "    return linear_search(arr, target)  # O(n)\n",
        "```\n",
        "\n",
        "🔹 **Graph Representation**  \n",
        "📉 **Omega defines the best possible runtime scenario.**  \n",
        "\n",
        "---\n",
        "\n",
        "### **3️⃣ Theta Notation (Θ) → Average Case Complexity**\n",
        "✅ **Definition:** Describes both the **upper and lower bound** when the best and worst cases grow at the same rate.  \n",
        "✅ **Use Case:** Used when the best and worst cases are **proportional** (tight bound).  \n",
        "✅ **Example:**  \n",
        "- **Merge Sort**: `Θ(n log n)`, because it always takes the same time regardless of input order.  \n",
        "- **Binary Search**: `Θ(log n)`, since it always divides the problem into halves.  \n",
        "\n",
        "📌 **Example Code:**\n",
        "```python\n",
        "def merge_sort(arr):\n",
        "    if len(arr) > 1:\n",
        "        mid = len(arr) // 2\n",
        "        left = arr[:mid]\n",
        "        right = arr[mid:]\n",
        "        merge_sort(left)\n",
        "        merge_sort(right)\n",
        "        # Merge step: Θ(n)\n",
        "```\n",
        "\n",
        "🔹 **Graph Representation**  \n",
        "📊 **Theta represents an exact growth rate of an algorithm.**  \n",
        "\n",
        "---\n",
        "\n",
        "## **📌 Comparing Asymptotic Notations**\n",
        "| **Notation** | **Definition** | **Use Case** | **Example** |\n",
        "|-------------|--------------|--------------|-------------|\n",
        "| **O (Big-O)** | Worst-case complexity | Max time taken | Bubble Sort: O(n²) |\n",
        "| **Ω (Omega)** | Best-case complexity | Min time taken | Insertion Sort: Ω(n) |\n",
        "| **Θ (Theta)** | Tight bound complexity | Avg. case performance | Merge Sort: Θ(n log n) |\n",
        "\n",
        "---\n",
        "\n",
        "\n"
      ]
    },
    {
      "cell_type": "markdown",
      "metadata": {
        "id": "ciD1JK2J7-D5"
      },
      "source": [
        "###**Calculating Time Complexity**\n"
      ]
    },
    {
      "cell_type": "code",
      "execution_count": null,
      "metadata": {
        "id": "3qvkUAeV8EkX"
      },
      "outputs": [],
      "source": [
        "print(\"hello all\")  #O(1)"
      ]
    },
    {
      "cell_type": "code",
      "execution_count": null,
      "metadata": {
        "id": "u3ewsGwZ8XYI"
      },
      "outputs": [],
      "source": [
        "# O(1)\n",
        "def multiply(n):\n",
        "    return n*n            #  ----- only 1   operation\n",
        "\n",
        "print(multiply(5))"
      ]
    },
    {
      "cell_type": "code",
      "execution_count": null,
      "metadata": {
        "id": "SwWDeK9HIkoo"
      },
      "outputs": [],
      "source": [
        "# O(n) time with increase in proportion to input data\n",
        "\n",
        "def print_items(n):\n",
        "    for i in range(n):   #  ----- operation depends on input 'n'\n",
        "        print(i)\n",
        "\n",
        "print_items(6)"
      ]
    },
    {
      "cell_type": "code",
      "execution_count": null,
      "metadata": {
        "id": "b6LKaj0GJOgJ"
      },
      "outputs": [],
      "source": [
        "# Drop Constants\n",
        "\n",
        "def print_items(n):\n",
        "    for i in range(n):      # X n times O(n)\n",
        "        print(i)\n",
        "\n",
        "    for j in range(n):      # X n times  O(n) -> O(2n)\n",
        "        print(j)\n",
        "print(print_items(5))\n",
        "\n",
        "# here if n is 5 or 100 it doesnt matter so drop 2 -> O(n"
      ]
    },
    {
      "cell_type": "code",
      "execution_count": null,
      "metadata": {
        "id": "GEL01-djJctk"
      },
      "outputs": [],
      "source": [
        "# O(n^2)\n",
        "\n",
        "def print_items(n):\n",
        "    for i in range(n):      # X n times O(n)\n",
        "        for j in range(n):\n",
        "            print(i,j)      # X n times  O(n) -> O(n*n) -> O(n^2)\n",
        "\n",
        "print_items(5)"
      ]
    },
    {
      "cell_type": "code",
      "execution_count": null,
      "metadata": {
        "id": "TtFWMuSeJtw0"
      },
      "outputs": [],
      "source": [
        "# Drop non dominant terms\n",
        "def print_items(n):\n",
        "    for i in range(n):      # X n times O(n)\n",
        "       for j in range(n):\n",
        "          print(i,j)      # X n times   O(n) -> O(n*n) -> O(n^2)\n",
        "\n",
        "    for k in range(n):\n",
        "        print(k)            # X n times O(n) ->O(n^2 + n) -> O(n^2)\n",
        "\n",
        "print(print_items(5))\n"
      ]
    },
    {
      "cell_type": "code",
      "execution_count": null,
      "metadata": {
        "id": "nLfPVoVPJ4jb"
      },
      "outputs": [],
      "source": []
    },
    {
      "cell_type": "markdown",
      "source": [],
      "metadata": {
        "id": "vJE5-mlhUXr4"
      }
    },
    {
      "cell_type": "code",
      "execution_count": null,
      "metadata": {
        "id": "W5I-zEvtKDqv"
      },
      "outputs": [],
      "source": [
        "# # different terms for input - add vs multiply\n",
        "\n",
        "# Time complexity:- Big O\n",
        "# 5 Rules:-\n",
        "# NO. |                    DESCRIPTION                              | COMPLEXITY\n",
        "# 1 - Any assignment statements and if statements that are executed      O(1)\n",
        "#     once regardless of the size of the problem\n",
        "\n",
        "# 2 - A simple “for” loop from 0 to n ( with no internal loops)          O(n)\n",
        "\n",
        "# 3 - A nested loop of the same type takes quadratic time complexity     O(n**2)\n",
        "\n",
        "# 4 - A loop, in which the controlling parameter is divided by two at     O(log n)\n",
        "#     each step\n",
        "\n",
        "# 5 - When dealing with multiple statements, just add them up\n",
        "\n",
        "\n",
        "def print_items(m,n):\n",
        "    for i in range(m):      # X m times O(m)\n",
        "        print(i)\n",
        "\n",
        "    for j in range(n):      # X n times  O(n) -> O(m+n)\n",
        "        print(j)\n",
        "\n",
        "\n",
        "print(print_items(5,100))"
      ]
    },
    {
      "cell_type": "code",
      "execution_count": null,
      "metadata": {
        "id": "37odVpnfKJF5"
      },
      "outputs": [],
      "source": [
        "def print_items(m,n):\n",
        "    for i in range(m):      # X m times O(m)\n",
        "        for j in range(n):      # X n times  O(n) -> O(m*n)\n",
        "            print(i,j)\n",
        "\n",
        "print(print_items(5,100))"
      ]
    },
    {
      "cell_type": "code",
      "source": [
        "# Example 1\n",
        "arr = [10, 25, 36, 50, 75]\n",
        "target = 36\n",
        "Output: 2\n",
        "\n",
        "# Example 2\n",
        "arr = [5, -3, 12, 0, 8]\n",
        "target = 0\n",
        "Output: 3\n",
        "\n",
        "# Example 3\n",
        "arr = [1, 2, 3, 4, 5]\n",
        "target = 10\n",
        "Output: -1\n"
      ],
      "metadata": {
        "id": "EVeFJIrUb4oN"
      },
      "execution_count": null,
      "outputs": []
    },
    {
      "cell_type": "markdown",
      "metadata": {
        "id": "zrVmr7X5P71L"
      },
      "source": [
        "##**Searching**"
      ]
    },
    {
      "cell_type": "markdown",
      "metadata": {
        "id": "KZYtgNr0qXhu"
      },
      "source": [
        "###**linear search**"
      ]
    },
    {
      "cell_type": "markdown",
      "metadata": {
        "id": "z9KF4H5pz5n2"
      },
      "source": [
        "Linear search is a basic searching algorithm used to find a target value within a list or array.\n",
        "\n",
        "Sequential Search: Linear search is also known as sequential search. It starts at the beginning of the list and checks each element one by one until either the target value is found or the end of the list is reached.\n",
        "\n",
        "Unordered List: Linear search can be used on both ordered and unordered lists. However, it's most commonly used for unordered lists where there is no specific arrangement of elements.\n",
        "\n",
        "---\n",
        "\n",
        "\n",
        "\n",
        "Basic Algorithm: <br>\n",
        "LinearSearch(array, key)<br>\n",
        "  for each item in the array<br>\n",
        "    if item == key<br>\n",
        "      return its index\n",
        "\n",
        "\n",
        "---\n",
        "\n",
        "\n",
        "\n",
        "Time Complexity: In terms of time complexity, linear search has an average and worst-case time complexity of O(n), where n is the number of elements in the list. This means the time taken for the search increases linearly with the size of the list."
      ]
    },
    {
      "cell_type": "code",
      "execution_count": null,
      "metadata": {
        "id": "AblDCM6UzNos",
        "colab": {
          "base_uri": "https://localhost:8080/"
        },
        "outputId": "eb2e288f-08c9-4d87-f3ca-94c1d844cd4d"
      },
      "outputs": [
        {
          "output_type": "stream",
          "name": "stdout",
          "text": [
            "element  found at index 2\n"
          ]
        }
      ],
      "source": [
        "# Linear Search in Python\n",
        "#O(n) worst -time/average\n",
        "#o(1) best case\n",
        "def linearSearch(array, n, x):\n",
        "    # Going through array sequencially\n",
        "    for i in range(0, n):\n",
        "        if (array[i] == x):\n",
        "            print(f\"element  found at index {i}\")\n",
        "            break\n",
        "\n",
        "array = [1, 6, 9, 7, 8]\n",
        "x = 9\n",
        "n = len(array)\n",
        "linearSearch(array, n, x)"
      ]
    },
    {
      "cell_type": "code",
      "source": [
        "arr = [10, 20, 30, 40, 50]\n",
        "key = 44\n",
        "\n",
        "for i in arr:\n",
        "    if i == key:\n",
        "        print(\"Element found\")\n",
        "        break\n",
        "else:\n",
        "    print(\"Element not found\")\n"
      ],
      "metadata": {
        "id": "sg3S0-JcwliD"
      },
      "execution_count": null,
      "outputs": []
    },
    {
      "cell_type": "code",
      "source": [
        "def linearSearch():\n",
        "  arr=[1,12,33,44,11,77,90]\n",
        "  key=33\n",
        "  for i in range(len(arr)):\n",
        "    if arr[i]==key:\n",
        "      return f\"element found at index {i}\"\n",
        "\n",
        "  return \"element not found\"\n",
        "r=linearSearch()\n",
        "print(r)\n"
      ],
      "metadata": {
        "id": "7ShiS6LYt8sr"
      },
      "execution_count": null,
      "outputs": []
    },
    {
      "cell_type": "code",
      "execution_count": null,
      "metadata": {
        "id": "l-ZHZtLv2_P8"
      },
      "outputs": [],
      "source": [
        "# Linear Search in Python\n",
        "\n",
        "def linearSearch(array,key):\n",
        "    # Going through array sequencially\n",
        "    for i in range(0, len(array)):\n",
        "        if (array[i] == key):\n",
        "            return i\n",
        "    return -1\n",
        "\n",
        "array = [1, 6, 9, 7, 8]\n",
        "key=int(input(\"enter the any key\"))\n",
        "result = linearSearch(array,key)\n",
        "if(result == -1):\n",
        "    print(\"Element not found\")\n",
        "else:\n",
        "    print(\"Element found at index: \", result)"
      ]
    },
    {
      "cell_type": "code",
      "source": [
        "#linear search using recursion:\n",
        "def linearsearch_rec(arr,index=0):\n",
        "  key=16\n",
        "  if index==len(arr):\n",
        "    return -1\n",
        "  if arr[index]==key:\n",
        "    return index\n",
        "  return linearsearch_rec(arr,index+1)\n",
        "\n",
        "arr=[13,12,44,16,17,90]\n",
        "print(linearsearch_rec(arr))"
      ],
      "metadata": {
        "colab": {
          "base_uri": "https://localhost:8080/"
        },
        "id": "sFdLWK4OsD8H",
        "outputId": "ba947345-fc1d-47c4-d231-0aef5ffd9331"
      },
      "execution_count": null,
      "outputs": [
        {
          "output_type": "stream",
          "name": "stdout",
          "text": [
            "3\n"
          ]
        }
      ]
    },
    {
      "cell_type": "markdown",
      "metadata": {
        "id": "uwe7n0VXNXxx"
      },
      "source": [
        "###**Binary Search Algorithm**\n",
        "Binary Search is a searching algorithm for finding an element's position in a sorted array.\n",
        "<br>\n",
        "In this approach, the element is always searched in the middle of a portion of an array.\n",
        "<br>\n",
        "Binary search can be implemented only on a sorted list of items. If the elements are not sorted already, we need to sort them first."
      ]
    },
    {
      "cell_type": "code",
      "source": [],
      "metadata": {
        "id": "SfvrESTtRPZd"
      },
      "execution_count": null,
      "outputs": []
    },
    {
      "cell_type": "code",
      "execution_count": null,
      "metadata": {
        "id": "4BywoJxnNp4Y"
      },
      "outputs": [],
      "source": [
        "# mid = (low + high)/2\n",
        "#     if (x == arr[mid])\n",
        "#         return mid\n",
        "#     else if ( arr[mid] < x )   // x is on the right side\n",
        "#         low = mid + 1\n",
        "#     else                       // x is on the left side\n",
        "#         high = mid - 1"
      ]
    },
    {
      "cell_type": "code",
      "execution_count": null,
      "metadata": {
        "id": "JBhmhjXuOSQ7"
      },
      "outputs": [],
      "source": [
        "# Binary Search in python\n",
        "def binarySearch(array, x, low, high):\n",
        "\n",
        "    # Repeat until the pointers low and high meet each other\n",
        "    while low <= high:\n",
        "\n",
        "        mid = low + (high - low)//2\n",
        "\n",
        "        if array[mid] == x:\n",
        "            return mid\n",
        "\n",
        "        elif array[mid] < x:\n",
        "\n",
        "            low = mid + 1\n",
        "\n",
        "        else:\n",
        "            high = mid - 1\n",
        "\n",
        "    return -1\n",
        "\n",
        "\n",
        "array = [3, 4, 5, 6, 7, 8, 9]\n",
        "x = 4\n",
        "\n",
        "result = binarySearch(array, x, 0, len(array)-1)\n",
        "\n",
        "if result != -1:\n",
        "    print(\"Element is present at index \" + str(result))\n",
        "else:\n",
        "    print(\"Not found\")"
      ]
    },
    {
      "cell_type": "markdown",
      "metadata": {
        "id": "W9PT2YJcT5Rj"
      },
      "source": [
        "Best-case time complexity:\n",
        "�\n",
        "(\n",
        "1\n",
        ")\n",
        "O(1) - This occurs when the target element is at the middle of the array, resulting in just one comparison to find it.\n",
        "\n",
        "Average-case time complexity:\n",
        "�\n",
        "(\n",
        "log\n",
        "⁡\n",
        "�\n",
        ")\n",
        "O(logn) - In most cases, binary search requires\n",
        "log\n",
        "⁡\n",
        "�\n",
        "logn comparisons to find the target element, where\n",
        "�\n",
        "n is the number of elements in the array.\n",
        "\n",
        "Worst-case time complexity:\n",
        "�\n",
        "(\n",
        "log\n",
        "⁡\n",
        "�\n",
        ")\n",
        "O(logn) - Even in the worst-case scenario, binary search's time complexity remains logarithmic, which makes it a highly efficient search algorithm for sorted arrays."
      ]
    },
    {
      "cell_type": "code",
      "source": [
        "stack = []\n",
        "stack.append('a')  # append() function to push\n",
        "stack.append('b')\n",
        "stack.append('c')\n",
        "\n",
        "print('Initial stack')\n",
        "print(stack)\n",
        "\n",
        "# LIFO order\n",
        "print('\\nElements popped from stack:') # pop() function to pop\n",
        "print(stack.pop())\n",
        "print(stack.pop())\n",
        "print(stack.pop())\n",
        "\n",
        "print('\\nStack after elements are popped:')\n",
        "print(stack)\n",
        "\n"
      ],
      "metadata": {
        "id": "ztNHrZ_ARSU_"
      },
      "execution_count": null,
      "outputs": []
    },
    {
      "cell_type": "code",
      "source": [
        "class Stack:\n",
        "    def __init__(self):\n",
        "        # Initialize an empty stack\n",
        "        self.stack = []\n",
        "\n",
        "    def is_empty(self):\n",
        "        # Check if the stack is empty and print the result\n",
        "        if len(self.stack) == 0:\n",
        "            print(\"The stack is empty.\")\n",
        "        else:\n",
        "            print(\"The stack is not empty.\")\n",
        "\n",
        "    def push(self, item):\n",
        "        # Add an item to the top of the stack and print confirmation\n",
        "        self.stack.append(item)\n",
        "        print(f\"Pushed item: {item}\")\n",
        "\n",
        "    def pop(self):\n",
        "        # Remove and print the top item from the stack, or print if the stack is empty\n",
        "        if len(self.stack) == 0:\n",
        "            print(\"Stack is empty, nothing to pop.\")\n",
        "        else:\n",
        "            popped_item = self.stack.pop()\n",
        "            print(f\"Popped item: {popped_item}\")\n",
        "\n",
        "    def display(self):\n",
        "        # Print the current stack\n",
        "        if len(self.stack) == 0:\n",
        "            print(\"The stack is empty.\")\n",
        "        else:\n",
        "            print(f\"Current stack: {self.stack}\")\n",
        "\n",
        "\n",
        "\n",
        "stack = Stack()\n",
        "\n",
        "    # Push items into the stack\n",
        "stack.push(str(1))\n",
        "stack.push(str(2))\n",
        "stack.push(str(3))\n",
        "stack.push(str(4))\n",
        "\n",
        "    # Display stack\n",
        "stack.display()\n",
        "\n",
        "    # Pop an item from the stack\n",
        "stack.pop()\n",
        "stack.display\n",
        " ()\n",
        "stack.is_empty()\n",
        "\n",
        "    # Pop all items\n",
        "stack.pop()\n",
        "stack.pop()\n",
        "stack.pop()\n",
        "\n",
        "    # Try popping from an empty stack\n",
        "stack.pop()\n",
        "\n",
        "    # Final check if stack is empty\n",
        "stack.is_empty()\n"
      ],
      "metadata": {
        "id": "3a8nImnpTLuc"
      },
      "execution_count": null,
      "outputs": []
    },
    {
      "cell_type": "code",
      "source": [
        "class Queue:\n",
        "    def __init__(self):\n",
        "        # Initialize an empty queue\n",
        "        self.queue = []\n",
        "\n",
        "    def is_empty(self):\n",
        "        # Check if the queue is empty and print the result\n",
        "        if len(self.queue) == 0:\n",
        "            print(\"The queue is empty.\")\n",
        "        else:\n",
        "            print(\"The queue is not empty.\")\n",
        "\n",
        "    def enqueue(self, item):\n",
        "        # Add an item to the end of the queue and print confirmation\n",
        "        self.queue.append(item)\n",
        "        print(f\"Enqueued item: {item}\")\n",
        "\n",
        "    def dequeue(self):\n",
        "        # Remove and print the front item from the queue, or print if the queue is empty\n",
        "        if len(self.queue) == 0:\n",
        "            print(\"Queue is empty, nothing to dequeue.\")\n",
        "        else:\n",
        "            dequeued_item = self.queue.pop(0)\n",
        "            print(f\"Dequeued item: {dequeued_item}\")\n",
        "\n",
        "    def display(self):\n",
        "        # Print the current queue\n",
        "        if len(self.queue) == 0:\n",
        "            print(\"The queue is empty.\")\n",
        "        else:\n",
        "            print(f\"Current queue: {self.queue}\")\n",
        "\n",
        "\n",
        "# Example usage of the Queue class\n",
        "if __name__ == \"__main__\":\n",
        "    queue = Queue()\n",
        "\n",
        "    # Enqueue items into the queue\n",
        "    queue.enqueue(str(1))\n",
        "    queue.enqueue(str(2))\n",
        "    queue.enqueue(str(3))\n",
        "    queue.enqueue(str(4))\n",
        "\n",
        "    # Display the queue\n",
        "    queue.display()\n",
        "\n",
        "    # Dequeue an item from the queue\n",
        "    queue.dequeue()\n",
        "\n",
        "    # Display queue after dequeuing\n",
        "    queue.display()\n",
        "\n",
        "    # Check if queue is empty\n",
        "    queue.is_empty()\n",
        "\n",
        "    # Dequeue all items\n",
        "    queue.dequeue()\n",
        "    queue.dequeue()\n",
        "    queue.dequeue()\n",
        "\n",
        "    # Try dequeuing from an empty queue\n",
        "    queue.dequeue()\n",
        "\n",
        "    # Final check if queue is empty\n",
        "    queue.is_empty()\n"
      ],
      "metadata": {
        "id": "W_xvp3ipTh-e"
      },
      "execution_count": null,
      "outputs": []
    },
    {
      "cell_type": "markdown",
      "metadata": {
        "id": "2hBU0Dk0G3rR"
      },
      "source": [
        "#**Recursion**"
      ]
    },
    {
      "cell_type": "markdown",
      "metadata": {
        "id": "EaG2p9MMHZZC"
      },
      "source": [
        "\n",
        "Recursion is a programming technique in which a function calls itself to solve a problem <br>\n",
        "by breaking it down into smaller, similar subproblems until reaching a base case"
      ]
    },
    {
      "cell_type": "code",
      "source": [
        "def print_numbers(n):\n",
        "    if n > 5:\n",
        "        return\n",
        "    print(n)\n",
        "    print_numbers(n + 1)\n",
        "\n",
        "# Call the function\n",
        "print_numbers(1)"
      ],
      "metadata": {
        "id": "gqAFaXN3cqeK"
      },
      "execution_count": null,
      "outputs": []
    },
    {
      "cell_type": "code",
      "source": [
        "def show(n):\n",
        "  if  n==0:\n",
        "    return\n",
        "  show(n-1)\n",
        "  print(n)\n",
        "print1(5)\n"
      ],
      "metadata": {
        "id": "1GB7V9U1Zx2E"
      },
      "execution_count": null,
      "outputs": []
    },
    {
      "cell_type": "code",
      "source": [
        "def print_reverse(n):\n",
        "    if n == 0:\n",
        "        return\n",
        "    print(n)\n",
        "    print_reverse(n- 1)  #(4)\n",
        "print_reverse(5)"
      ],
      "metadata": {
        "id": "eL5tEw53c1TP"
      },
      "execution_count": null,
      "outputs": []
    },
    {
      "cell_type": "markdown",
      "source": [
        "#print 1 to N :\n",
        "https://www.geeksforgeeks.org/problems/print-1-to-n-without-using-loops-1587115620/1?page=1&category=Recursion,python&sortBy=submissions"
      ],
      "metadata": {
        "id": "GM6azTlaYgpS"
      }
    },
    {
      "cell_type": "code",
      "source": [
        "class Solution:\n",
        "    def printNos(self, n):\n",
        "        if n == 0:\n",
        "            return\n",
        "        self.printNos(n - 1)  # Recursive call first\n",
        "        print(n)              # Print after recursion\n",
        "\n",
        "o = Solution()\n",
        "o.printNos(5)\n"
      ],
      "metadata": {
        "id": "tLnBq_pPYDfm"
      },
      "execution_count": null,
      "outputs": []
    },
    {
      "cell_type": "markdown",
      "source": [
        "##print n times Gfg :\n",
        " https://www.geeksforgeeks.org/problems/print-gfg-n-times/1?page=1&category=Recursion,python&sortBy=submissions"
      ],
      "metadata": {
        "id": "dBGMC6FaZea8"
      }
    },
    {
      "cell_type": "code",
      "source": [
        "class Solution:\n",
        "    def printGfg(self, n):\n",
        "        if n==0:\n",
        "            return\n",
        "        self.printGfg(n-1)\n",
        "        print(\"GFG\",end=\" \")\n",
        "\n"
      ],
      "metadata": {
        "id": "ubrsnQ2LZ0rE"
      },
      "execution_count": null,
      "outputs": []
    },
    {
      "cell_type": "code",
      "source": [
        "import sys\n",
        "sys.setrecursionlimit(1000)\n",
        "def countdown(n):\n",
        "    if n == 0:\n",
        "        print(\"Done!\")\n",
        "        return\n",
        "    print(n)\n",
        "    countdown(n - 1)\n",
        "\n",
        "r=countdown(200)  # will work now\n",
        "print(r)\n"
      ],
      "metadata": {
        "id": "x-41RqzqUrHG"
      },
      "execution_count": null,
      "outputs": []
    },
    {
      "cell_type": "code",
      "source": [
        "def sum_n(n):\n",
        "    if n == 0:\n",
        "        return 0\n",
        "    return n + sum_n(n - 1)\n",
        "\n",
        "print(sum_n(5))  # Output: 15 (5+4+3+2+1)\n"
      ],
      "metadata": {
        "id": "7uv0Xmspc4i0"
      },
      "execution_count": null,
      "outputs": []
    },
    {
      "cell_type": "code",
      "source": [
        " def power(a, b):\n",
        "    if b == 0:\n",
        "        return 1\n",
        "    return a * power(a, b - 1)\n",
        "\n",
        "print(power(2, 3))  # Output: 8\n"
      ],
      "metadata": {
        "id": "0HDraIPUdAcK"
      },
      "execution_count": null,
      "outputs": []
    },
    {
      "cell_type": "markdown",
      "source": [],
      "metadata": {
        "id": "S6M1mI0J1Trd"
      }
    },
    {
      "cell_type": "markdown",
      "source": [],
      "metadata": {
        "id": "rj6PgXGV1PDq"
      }
    },
    {
      "cell_type": "code",
      "source": [
        "def count_digits(n):\n",
        "    if n == 0:\n",
        "        return 0\n",
        "    return 1 + count_digits(n // 10)\n",
        "\n",
        "print(count_digits(1234))\n"
      ],
      "metadata": {
        "id": "7dBJFkZfdFEa"
      },
      "execution_count": null,
      "outputs": []
    },
    {
      "cell_type": "code",
      "source": [
        "def fib(n):\n",
        "  if n == 0:\n",
        "    return 0\n",
        "  elif n == 1:\n",
        "    return 1\n",
        "  else:\n",
        "    return fib(n-1) + fib(n-2)\n",
        "n=int(input(\"Enter a number: \"))\n",
        "fib(n)"
      ],
      "metadata": {
        "id": "ZZPbJ4i31UCr",
        "colab": {
          "base_uri": "https://localhost:8080/"
        },
        "outputId": "d8ceb264-4461-4505-b9d0-c36a0926b8fc"
      },
      "execution_count": null,
      "outputs": [
        {
          "name": "stdout",
          "output_type": "stream",
          "text": [
            "Enter a number: 7\n"
          ]
        },
        {
          "output_type": "execute_result",
          "data": {
            "text/plain": [
              "13"
            ]
          },
          "metadata": {},
          "execution_count": 15
        }
      ]
    },
    {
      "cell_type": "code",
      "source": [
        "def fibonacci(n):\n",
        "  if n==0:\n",
        "    return 0\n",
        "  if n==1:\n",
        "    return 1\n",
        "  return fibonacci(n-1)+fibonacci(n-2)\n",
        "\n",
        "print(5)"
      ],
      "metadata": {
        "id": "RlK4sjc9MNZc"
      },
      "execution_count": null,
      "outputs": []
    },
    {
      "cell_type": "code",
      "source": [
        "def fibonacci(n):\n",
        "  if n == 0:\n",
        "    return 0\n",
        "  if n == 1:\n",
        "    return 1\n",
        "  return fibonacci(n - 1) + fibonacci(n - 2)\n",
        "\n",
        "for i in range(6):  # to print from 0 to 5\n",
        "  print(fibonacci(i), end=\" \")"
      ],
      "metadata": {
        "id": "3wuhLpIf0UUh"
      },
      "execution_count": null,
      "outputs": []
    },
    {
      "cell_type": "code",
      "source": [
        "def sum_digits(n):\n",
        "    if n == 0:\n",
        "        return 0\n",
        "    return (n % 10) + sum_digits(n // 10)\n",
        "\n",
        "print(sum_digits(123))  # Output: 6\n"
      ],
      "metadata": {
        "id": "_dQ0Q6a5dJO7"
      },
      "execution_count": null,
      "outputs": []
    },
    {
      "cell_type": "code",
      "execution_count": null,
      "metadata": {
        "id": "vHADclYLPsSt"
      },
      "outputs": [],
      "source": [
        "def factorial(n):\n",
        "    result = 1\n",
        "    for i in range(1, n + 1):\n",
        "        result *= i\n",
        "    print(f\"The factorial of {n} is {result}\")\n",
        "\n",
        "# Example usage\n",
        "number = 5\n",
        "factorial(number)\n"
      ]
    },
    {
      "cell_type": "code",
      "source": [
        "f(2,3) = 2 * f(2,2)\n",
        "= 2 * 2 * f(2,1)\n",
        "= 2 * 2 * 2 * f(2,0)"
      ],
      "metadata": {
        "id": "Jw3njeLwOj2F"
      },
      "execution_count": null,
      "outputs": []
    },
    {
      "cell_type": "code",
      "execution_count": null,
      "metadata": {
        "id": "obAKt03DIDaC"
      },
      "outputs": [],
      "source": [
        "def factorial(n):\n",
        "  if n==1:\n",
        "    return 1\n",
        "\n",
        "  return n * factorial(n-1)\n",
        "\n",
        "\n",
        "r=factorial(5)\n",
        "print(r)"
      ]
    },
    {
      "cell_type": "code",
      "execution_count": null,
      "metadata": {
        "id": "kLl8JJr-K-F_"
      },
      "outputs": [],
      "source": [
        "#iterative method\n",
        "def fibonacci(n):\n",
        "    if n <= 1:\n",
        "        print(n)\n",
        "    prev, current = 0, 1   #\n",
        "    print(prev)\n",
        "    print(current)\n",
        "    for i in range(2, n + 1):\n",
        "        prev, current = current, prev + current\n",
        "        print(current)\n",
        "\n",
        "# Example usage\n",
        "number = 7\n",
        "fibonacci(number)"
      ]
    },
    {
      "cell_type": "code",
      "execution_count": null,
      "metadata": {
        "id": "G3t_XcmLMe0U"
      },
      "outputs": [],
      "source": [
        "#recursion\n",
        "def fibonacci(n, prev=0, current=1):\n",
        "    print(prev)\n",
        "    if n <= 1:\n",
        "        print(current)\n",
        "    else:\n",
        "        fibonacci(n - 1, current, prev + current)\n",
        "# Example usage\n",
        "number = 7\n",
        "fibonacci(number)"
      ]
    },
    {
      "cell_type": "code",
      "source": [
        "def reverse_string(s):\n",
        "    if len(s) == 0:\n",
        "        return \"\"\n",
        "    return reverse_string(s[1:]) + s[0]     # (234) +1   --> (34)+ 2 --> (4)+3 --> \"\"+4\n",
        "                                             # 4321       <--- 432     <--- 4+3     <--\n",
        "\n",
        "\n",
        "reverse_string(\"1234\")"
      ],
      "metadata": {
        "id": "_bIAQdftLVP3"
      },
      "execution_count": null,
      "outputs": []
    },
    {
      "cell_type": "code",
      "source": [
        "def reverse_string(s):\n",
        "    if len(s) == 1:\n",
        "        return s\n",
        "    return s[-1] + reverse_string(s[0:-1])      # (234) +1   --> (34)+ 2 --> (4)+3 --> \"\"+4\n",
        "                                             # 4321       <--- 432     <--- 4+3     <--\n",
        "\n",
        "\n",
        "reverse_string(\"1234\")"
      ],
      "metadata": {
        "id": "scXooYs8RZ_1"
      },
      "execution_count": null,
      "outputs": []
    },
    {
      "cell_type": "code",
      "source": [
        "def is_palindrome(s):\n",
        "    if len(s) <= 1:\n",
        "        return True\n",
        "    if s[0] != s[-1]:\n",
        "        return False\n",
        "    return is_palindrome(s[1:-1])\n",
        "r=is_palindrome(\"nitine\")\n",
        "print(r)\n"
      ],
      "metadata": {
        "id": "mKfeQaKGTkz9"
      },
      "execution_count": null,
      "outputs": []
    },
    {
      "cell_type": "code",
      "source": [
        "reverse_string(\"\")     → \"\"\n",
        "reverse_string(\"4\")    → \"\" + \"4\" = \"4\"\n",
        "reverse_string(\"34\")   → \"4\" + \"3\" = \"43\"\n",
        "reverse_string(\"234\")  → \"43\" + \"2\" = \"432\"\n",
        "reverse_string(\"1234\") → \"432\" + \"1\" = \"4321\"\n"
      ],
      "metadata": {
        "id": "lndli1iAOWbf"
      },
      "execution_count": null,
      "outputs": []
    },
    {
      "cell_type": "code",
      "source": [
        "s=\"\"\n",
        "s[1:]"
      ],
      "metadata": {
        "id": "x8O5pmdAM421"
      },
      "execution_count": null,
      "outputs": []
    },
    {
      "cell_type": "markdown",
      "source": [
        "#BackTracking"
      ],
      "metadata": {
        "id": "MW575zA1UKOJ"
      }
    },
    {
      "cell_type": "code",
      "source": [
        "a=-1234\n",
        "abs(a)"
      ],
      "metadata": {
        "id": "tcnp2YZQQuVA"
      },
      "execution_count": null,
      "outputs": []
    },
    {
      "cell_type": "markdown",
      "source": [
        "##Subset: Bruteforce approach"
      ],
      "metadata": {
        "id": "P2bTKbccURO-"
      }
    },
    {
      "cell_type": "code",
      "source": [
        "def subsets(arr):\n",
        "    r = [[]]  # start with the empty subset\n",
        "    for n in arr:\n",
        "        new_subsets = []\n",
        "        for s in r:\n",
        "            new_subsets.append(s + [n])  # add current number to each existing subset\n",
        "        r.extend(new_subsets)  # add new subsets to the result\n",
        "    return r\n",
        "\n",
        "# Example usage\n",
        "arr = [1, 2, 3]\n",
        "all_subsets = subsets(arr)\n",
        "print(all_subsets)\n",
        "\n",
        "# # Print all subsets\n",
        "# for subset in all_subsets:\n",
        "#     print(subset)\n"
      ],
      "metadata": {
        "id": "acsJMHmNUQNm"
      },
      "execution_count": null,
      "outputs": []
    },
    {
      "cell_type": "code",
      "source": [
        "[[]]+[1]"
      ],
      "metadata": {
        "id": "0tMHH3BobgDd"
      },
      "execution_count": null,
      "outputs": []
    },
    {
      "cell_type": "code",
      "source": [
        "def subsets(nums):\n",
        "    result = []\n",
        "\n",
        "    def backtrack(start, path):\n",
        "        result.append(path[:])  # Add current subset to result\n",
        "\n",
        "        for i in range(start, len(nums)):\n",
        "            path.append(nums[i])         # Choose\n",
        "            backtrack(i + 1, path)       # Explore\n",
        "            path.pop()                   # Un-choose (Backtrack)\n",
        "\n",
        "    backtrack(0, [])\n",
        "    return result\n",
        "\n",
        "# Example usage\n",
        "arr = [1, 2, 3]\n",
        "all_subsets = subsets(arr)\n",
        "print(all_subsets)\n",
        "\n",
        "# # If you want to print each subset line by line\n",
        "# for subset in all_subsets:\n",
        "#     print(subset)\n"
      ],
      "metadata": {
        "id": "tAvO8lvRHpGZ"
      },
      "execution_count": null,
      "outputs": []
    },
    {
      "cell_type": "code",
      "source": [
        "r=[]\n",
        "path=[]\n",
        "r.append(path[:])\n",
        "print(r)"
      ],
      "metadata": {
        "id": "yHebkImtf6fu"
      },
      "execution_count": null,
      "outputs": []
    },
    {
      "cell_type": "code",
      "source": [
        "r=[[]]\n",
        "\n",
        "for i in r:\n",
        "  print(i)"
      ],
      "metadata": {
        "id": "Ix74j_BJWsRJ"
      },
      "execution_count": null,
      "outputs": []
    },
    {
      "cell_type": "code",
      "source": [
        "r=[[]]\n",
        "a=[[1]+[2]]\n",
        "r.extend(a)\n",
        "print(r)"
      ],
      "metadata": {
        "id": "KT_vA3p-XCMA"
      },
      "execution_count": null,
      "outputs": []
    },
    {
      "cell_type": "markdown",
      "source": [
        "##permutation"
      ],
      "metadata": {
        "id": "_UTHbf8Ppjj8"
      }
    },
    {
      "cell_type": "code",
      "source": [
        "import itertools\n",
        "\n",
        "data = [1, 2, 3]\n",
        "perms = list(itertools.permutations(data))\n",
        "for p in perms:\n",
        "    print(p)"
      ],
      "metadata": {
        "id": "WfnoR-d1pl7s"
      },
      "execution_count": null,
      "outputs": []
    },
    {
      "cell_type": "code",
      "source": [
        "import itertools\n",
        "data = [1, 2, 3]\n",
        "perms = list(itertools.permutations(data))\n",
        "result = []  # to store list of lists\n",
        "for p in perms:\n",
        "    result.append(list(p))  # convert each tuple to list and add to result\n",
        "print(result)\n"
      ],
      "metadata": {
        "id": "qxmqVG2MqNzk"
      },
      "execution_count": null,
      "outputs": []
    },
    {
      "cell_type": "code",
      "source": [
        "import itertools\n",
        "data = [1, 2, 3]\n",
        "# Generate permutations and convert each to a list\n",
        "perms = [list(p) for p in itertools.permutations(data)]\n",
        "print(perms)\n"
      ],
      "metadata": {
        "id": "ylXo6b7gqZfl"
      },
      "execution_count": null,
      "outputs": []
    },
    {
      "cell_type": "code",
      "source": [
        "def permute(arr, left, right, res):\n",
        "    if left == right:\n",
        "        res.append(arr.copy())  # store current permutation\n",
        "    else:\n",
        "        for i in range(left, right):\n",
        "            arr[left], arr[i] = arr[i], arr[left]  # swap\n",
        "            permute(arr, left + 1, right, res)     # recurse\n",
        "            arr[left], arr[i] = arr[i], arr[left]  # backtrack\n",
        "\n",
        "# Example usage\n",
        "nums = [1, 2, 3]\n",
        "output = []\n",
        "\n",
        "permute(nums, 0, len(nums), output)\n",
        "print(output)\n"
      ],
      "metadata": {
        "id": "d1ZyPd_4q7R2"
      },
      "execution_count": null,
      "outputs": []
    },
    {
      "cell_type": "code",
      "source": [],
      "metadata": {
        "id": "DDzvwAyD9l9L"
      },
      "execution_count": null,
      "outputs": []
    },
    {
      "cell_type": "code",
      "source": [
        "#leetcode46\n",
        "def permute(nums):\n",
        "    result=[]\n",
        "\n",
        "    def backtrack(path):\n",
        "        if len(path)==len(nums):\n",
        "            result.append(path[:])\n",
        "            return\n",
        "        for i in nums:\n",
        "            if i not in path:\n",
        "                path.append(i)\n",
        "                backtrack(path)\n",
        "                path.pop()\n",
        "    backtrack([])\n",
        "    return result\n",
        "arr=[1,2,3]\n",
        "print(permute(arr))"
      ],
      "metadata": {
        "id": "Tvv4mh2N7F9y"
      },
      "execution_count": null,
      "outputs": []
    },
    {
      "cell_type": "code",
      "source": [],
      "metadata": {
        "id": "xgkkLg98-1e6"
      },
      "execution_count": null,
      "outputs": []
    },
    {
      "cell_type": "markdown",
      "source": [
        "\n",
        "#### Step-by-Step Execution:\n",
        "\n",
        "1. **Start** with empty `path = []`\n",
        "2. For loop  `i in nums`:\n",
        "\n",
        "   * i = 1 → not in path → `path = [1]` → recursive call\n",
        "\n",
        "     * i = 2 → not in path → `path = [1, 2]` → recursive call\n",
        "\n",
        "       * i = 3 → not in path → `path = [1, 2, 3]` → ✅ length == 3 → add to result\n",
        "       * Backtrack → `path = [1, 2]` → pop 3\n",
        "     * i = 3 → try again → `path = [1, 3]` → → get \\[1, 3, 2]\n",
        "   * Backtrack → `path = [1]` → pop\n",
        "3. Try i = 2 → `path = [2]` → generate \\[2, 1, 3], \\[2, 3, 1]\n",
        "4. Try i = 3 → `path = [3]` → generate \\[3, 1, 2], \\[3, 2, 1]\n",
        "\n",
        "---\n",
        "\n",
        "### 🔸 Final Output:\n",
        "\n",
        "```\n",
        "[[1, 2, 3], [1, 3, 2],\n",
        " [2, 1, 3], [2, 3, 1],\n",
        " [3, 1, 2], [3, 2, 1]]\n",
        "```\n",
        "\n"
      ],
      "metadata": {
        "id": "ZudSAHGu77yL"
      }
    },
    {
      "cell_type": "code",
      "source": [],
      "metadata": {
        "id": "WsoU9Z9V-5b1"
      },
      "execution_count": null,
      "outputs": []
    },
    {
      "cell_type": "markdown",
      "source": [
        "![image.png](data:image/png;base64,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)"
      ],
      "metadata": {
        "id": "BXrm3h5L-5wN"
      }
    },
    {
      "cell_type": "markdown",
      "metadata": {
        "id": "VEYZdCe4PwAL"
      },
      "source": [
        "#**Sorting**\n"
      ]
    },
    {
      "cell_type": "markdown",
      "metadata": {
        "id": "TqCPmfmdI-zy"
      },
      "source": [
        "###Selection Sort"
      ]
    },
    {
      "cell_type": "code",
      "execution_count": null,
      "metadata": {
        "id": "EhOoVLBu6NcN"
      },
      "outputs": [],
      "source": [
        "def selection_sort(arr):\n",
        "    n = len(arr)\n",
        "    for i in range(n-1):\n",
        "        min_idx = i\n",
        "        for j in range(i + 1, n):\n",
        "            if arr[j] < arr[min_idx]:\n",
        "                min_idx = j\n",
        "        arr[i],arr[min_idx] = arr[min_idx], arr[i]\n",
        "\n",
        "# Example usage\n",
        "data = [40, 30, 20,  10]\n",
        "selection_sort(data)\n",
        "print('Sorted Array in Ascending Order:')\n",
        "print(data)"
      ]
    },
    {
      "cell_type": "markdown",
      "source": [
        "The **time complexity** of **Selection Sort** is analyzed as follows:\n",
        "\n",
        "### **Best, Worst, and Average Case Complexity**\n",
        "1. **Best Case:** \\(O(n^2)\\)\n",
        "2. **Worst Case:** \\(O(n^2)\\)\n",
        "3. **Average Case:** \\(O(n^2)\\)\n",
        "\n"
      ],
      "metadata": {
        "id": "Url6oBrbKJZ1"
      }
    },
    {
      "cell_type": "markdown",
      "metadata": {
        "id": "Nkz9mSQbOHBJ"
      },
      "source": [
        "###**bubble sort**"
      ]
    },
    {
      "cell_type": "code",
      "execution_count": null,
      "metadata": {
        "id": "lj2dt179tC0C"
      },
      "outputs": [],
      "source": [
        "def bubble_sort(arr):\n",
        "    n = len(arr)\n",
        "    print(n)\n",
        "    # Traverse through all elements in the list\n",
        "    for i in range(n):\n",
        "        # Last i elements are already in place, so we don't need to check them\n",
        "        for j in range(0, n-1):\n",
        "            # Swap if the element found is greater than the next element\n",
        "            if arr[j] > arr[j+1]:\n",
        "                arr[j], arr[j+1] = arr[j+1], arr[j]\n",
        "# Example usage:\n",
        "numbers = [64, 34, 25, 12, 22, 11, 90]\n",
        "print(\"Original list:\", numbers)\n",
        "bubble_sort(numbers)\n",
        "print(\"Sorted list:\", numbers)"
      ]
    },
    {
      "cell_type": "markdown",
      "metadata": {
        "id": "3LGYIyaSO8Hx"
      },
      "source": [
        "Best-case time complexity:\n",
        "O(n) - This occurs when the input array is already sorted, and Bubble Sort only needs to make one pass through the array to confirm that it's sorted.\n",
        "\n",
        "Average-case time complexity:\n",
        "O(n\n",
        "2\n",
        " ) - This is the expected time complexity when the input array is randomly ordered.\n",
        "\n",
        "Worst-case time complexity:\n",
        "O(n\n",
        "2\n",
        " ) - This occurs when the input array is in reverse sorted order, and Bubble Sort requires the maximum number of comparisons and swaps."
      ]
    },
    {
      "cell_type": "code",
      "source": [
        "def bubble_sort():\n",
        "    arr = [12, 45, 22, 88, 42, 10]\n",
        "    n = len(arr)\n",
        "    for i in range(n):\n",
        "        for j in range(n - 1):\n",
        "            if arr[j] > arr[j + 1]:\n",
        "                arr[j], arr[j + 1] = arr[j + 1], arr[j]\n",
        "    print(arr)  # Print the array after every swap\n",
        "bubble_sort()\n",
        "\n"
      ],
      "metadata": {
        "id": "CgyUXGIWRMlk"
      },
      "execution_count": null,
      "outputs": []
    },
    {
      "cell_type": "code",
      "source": [
        "def insertion_sort(arr):\n",
        "    for i in range(1, len(arr)):\n",
        "        key = arr[i]\n",
        "        j = i - 1\n",
        "\n",
        "        while j >= 0 and key < arr[j]:\n",
        "            arr[j + 1] = arr[j]\n",
        "            j -= 1\n",
        "\n",
        "        arr[j + 1] = key\n",
        "\n",
        "insertion_sort(arr)\n",
        "print(\"Sorted array:\", arr)\n"
      ],
      "metadata": {
        "id": "8JMf-bbibsAE"
      },
      "execution_count": null,
      "outputs": []
    },
    {
      "cell_type": "code",
      "source": [
        "def quick_sort(arr, low, high):\n",
        "    if low < high:\n",
        "        pivot_index = partition(arr, low, high)\n",
        "        quick_sort(arr, low, pivot_index - 1)  # Sort left part\n",
        "        quick_sort(arr, pivot_index + 1, high)  # Sort right part\n",
        "\n",
        "def partition(arr, low, high):\n",
        "    pivot = arr[high]  # Choosing last element as pivot\n",
        "    i = low - 1  # Pointer for smaller elements\n",
        "\n",
        "    for j in range(low, high):\n",
        "        if arr[j] < pivot:  # If current element is smaller than pivot\n",
        "            i += 1\n",
        "            arr[i], arr[j] = arr[j], arr[i]  # Swap\n",
        "\n",
        "    arr[i + 1], arr[high] = arr[high], arr[i + 1]  # Swap pivot to correct position\n",
        "    return i + 1  # Return pivot index\n",
        "\n",
        "# Example usage\n",
        "arr = [10, 7, 8, 9, 1, 5]\n",
        "quick_sort(arr, 0, len(arr) - 1)\n",
        "print(\"Sorted array:\", arr)\n"
      ],
      "metadata": {
        "id": "Vf5keMXxK6mZ"
      },
      "execution_count": null,
      "outputs": []
    },
    {
      "cell_type": "markdown",
      "source": [
        "### **Time Complexity of QuickSort**  \n",
        "\n",
        "| **Case**         | **Time Complexity** |\n",
        "|-----------------|--------------------|\n",
        "| **Best Case**    | \\( O(n \\log n) \\)  |\n",
        "| **Average Case** | \\( O(n \\log n) \\)  |\n",
        "| **Worst Case**   | \\( O(n^2) \\)        |\n",
        "\n",
        "✅ **Best & Average Case**: When the pivot divides the array into two nearly equal halves.  \n",
        "✅ **Worst Case**: When the pivot is always the smallest or largest element, leading to unbalanced partitions."
      ],
      "metadata": {
        "id": "e0GACZWbLrt5"
      }
    },
    {
      "cell_type": "markdown",
      "source": [
        "#MergeSort"
      ],
      "metadata": {
        "id": "Kb_RFyn4E196"
      }
    },
    {
      "cell_type": "code",
      "source": [
        "#divide\n",
        "def merge_sort(arr):\n",
        "  if len(arr)<=1:\n",
        "    return arr\n",
        "\n",
        "  mid=len(arr)//2\n",
        "  left=merge_sort(arr[:mid])\n",
        "  right=merge_sort(arr[mid:])\n",
        "  return merge(left,right)\n",
        "\n",
        "\n",
        "#merge:\n",
        "def merge(left,right):\n",
        "  result=[]\n",
        "  i,j=0,0\n",
        "  n=len(left)\n",
        "  m=len(right)\n",
        "  while i < n and j<m:\n",
        "    if left[i]  < right[j]:\n",
        "      result.append(left[i])\n",
        "      i+=1\n",
        "    else:\n",
        "      result.append(right[j])\n",
        "      j+=1\n",
        "  if i < n:\n",
        "    while i<n:\n",
        "      result.append(left[i])\n",
        "      i+=1\n",
        "  if j< len(right):\n",
        "    while j<m:\n",
        "      result.append(right[j])\n",
        "      j+=1\n",
        "  return result\n",
        "\n",
        "arr=[3,1,4,2,5,7,8,10]\n",
        "r=merge_sort(arr)\n",
        "print(r)\n"
      ],
      "metadata": {
        "colab": {
          "base_uri": "https://localhost:8080/"
        },
        "id": "pgHzSTMin1yf",
        "outputId": "076e1cce-425c-4307-d94a-c37b5338178d"
      },
      "execution_count": null,
      "outputs": [
        {
          "output_type": "stream",
          "name": "stdout",
          "text": [
            "[1, 2, 3, 4, 5, 7, 8, 10]\n"
          ]
        }
      ]
    },
    {
      "cell_type": "code",
      "source": [
        "def merge_sort(arr):\n",
        "    if len(arr) <= 1:\n",
        "        return arr  # Base case\n",
        "\n",
        "    mid = len(arr) // 2\n",
        "    left = merge_sort(arr[:mid])   # Sort left half\n",
        "    right = merge_sort(arr[mid:])  # Sort right half\n",
        "\n",
        "    return merge(left, right)\n",
        "\n",
        "def merge(left, right):\n",
        "    result = []\n",
        "    i = j = 0\n",
        "\n",
        "    # Merge both halves\n",
        "    while i < len(left) and j < len(right):\n",
        "        if left[i] < right[j]:\n",
        "            result.append(left[i])\n",
        "            i += 1\n",
        "        else:\n",
        "            result.append(right[j])\n",
        "            j += 1\n",
        "\n",
        "    # Add remaining elements\n",
        "    result += left[i:]\n",
        "    result += right[j:]\n",
        "    return result\n",
        "\n",
        "# Example usage\n",
        "arr = [34, 12, 76, 23, 45, 10, 67, 89]\n",
        "sorted_arr = merge_sort(arr)\n",
        "print(\"Sorted Array:\", sorted_arr)"
      ],
      "metadata": {
        "id": "9ma7C44lLqHt",
        "colab": {
          "base_uri": "https://localhost:8080/"
        },
        "outputId": "bdb5b78e-618a-49cf-905e-62c29acea3ce"
      },
      "execution_count": null,
      "outputs": [
        {
          "output_type": "stream",
          "name": "stdout",
          "text": [
            "Sorted Array: [10, 12, 23, 34, 45, 67, 76, 89]\n"
          ]
        }
      ]
    },
    {
      "cell_type": "markdown",
      "source": [
        "#Hashing"
      ],
      "metadata": {
        "id": "IdsQWo6RkJBX"
      }
    },
    {
      "cell_type": "code",
      "source": [
        "\"\"\" Hashing is a technique to convert a key (like a string or number)\n",
        "into a fixed-size integer value, called a hash value or hash code \"\"\""
      ],
      "metadata": {
        "id": "PUEYXg8ZkOP0"
      },
      "execution_count": null,
      "outputs": []
    },
    {
      "cell_type": "markdown",
      "source": [
        "Collision Handling Mechanism\n",
        "Collision occurs when two keys hash to the same index.\n",
        "\n",
        "Common techniques to handle collisions:\n",
        "\n",
        "Chaining: Store multiple elements at the same index using a list/linked list.\n",
        "\n",
        "Open Addressing: Probe other slots (linear, quadratic, double hashing)."
      ],
      "metadata": {
        "id": "6OKNfG4SG8iA"
      }
    },
    {
      "cell_type": "code",
      "source": [
        "size = 10\n",
        "hash_table = [None] * size\n",
        "\n",
        "def hash_function(key):\n",
        "    return key % 10\n",
        "\n",
        "\n",
        "def insert(key, value):\n",
        "    index = hash_function(key)\n",
        "    hash_table[index] = value\n",
        "\n",
        "\n",
        "insert(21, \"Rafik\")\n",
        "insert(22,\"prathamesh\")\n",
        "insert(31,\"shubham\")\n",
        "print(hash_table)"
      ],
      "metadata": {
        "id": "QLVJ65D1mG6b",
        "colab": {
          "base_uri": "https://localhost:8080/"
        },
        "outputId": "fd77d5fb-9e41-4719-f871-bfbbc3725010"
      },
      "execution_count": null,
      "outputs": [
        {
          "output_type": "stream",
          "name": "stdout",
          "text": [
            "[None, 'shubham', 'prathamesh', None, None, None, None, None, None, None]\n"
          ]
        }
      ]
    },
    {
      "cell_type": "code",
      "source": [
        "size = 10\n",
        "n=2\n",
        "hash_table = [None] * size\n",
        "\n",
        "def hash_function(key):\n",
        "    return key % size\n",
        "\n",
        "def insert(key, value):\n",
        "    index = hash_function(key)\n",
        "    hash_table[index] = value\n",
        "\n",
        "def search(key):\n",
        "    index = hash_function(key)\n",
        "    if hash_table[index] is not None:\n",
        "        return f\"Value found at index {index}: {hash_table[index]}\"\n",
        "    else:\n",
        "        return \"Key not found\"\n",
        "insert(21, \"Rafik\")\n",
        "insert(5, \"Shah\")\n",
        "\n",
        "print(search(21))   # Output: Value found at index 1: Rafik\n",
        "print(search(5))\n",
        "print(search(30))   # Output: Key not found"
      ],
      "metadata": {
        "colab": {
          "base_uri": "https://localhost:8080/"
        },
        "id": "wnv1yuizIMBe",
        "outputId": "33270d0a-797f-4f01-a267-b6ecf300d87b"
      },
      "execution_count": null,
      "outputs": [
        {
          "output_type": "stream",
          "name": "stdout",
          "text": [
            "Value found at index 1: Rafik\n",
            "Value found at index 5: Shah\n",
            "Key not found\n"
          ]
        }
      ]
    },
    {
      "cell_type": "markdown",
      "source": [
        "##mid sqaure method"
      ],
      "metadata": {
        "id": "nfxvZFwTOHwZ"
      }
    },
    {
      "cell_type": "code",
      "source": [
        "# Hash table size\n",
        "size = 10\n",
        "hash_table = [None] * size\n",
        "\n",
        "# Mid Square Hash Function\n",
        "def mid_square_hash(key):\n",
        "    square = key * key\n",
        "    square_str = str(square)\n",
        "\n",
        "    mid = len(square_str) // 2\n",
        "    mid_digits = square_str[mid - 1 : mid + 1]  # Take 2 middle digits\n",
        "\n",
        "    return int(mid_digits) % size\n",
        "\n",
        "# Insert function\n",
        "def insert(key, value):\n",
        "    index = mid_square_hash(key)\n",
        "    hash_table[index] = value\n",
        "    print(f\"Inserted '{value}' at index {index}\")\n",
        "\n",
        "# Search function\n",
        "def search(key):\n",
        "    index = mid_square_hash(key)\n",
        "    if hash_table[index] is not None:\n",
        "        return f\"Found at index {index}: {hash_table[index]}\"\n",
        "    else:\n",
        "        return \"Not found\"\n",
        "\n",
        "insert(123, \"Rafik\")\n",
        "insert(456, \"Shah\")\n",
        "insert(789, \"Python\")\n",
        "\n",
        "print(search(123))   # Should return Rafik\n",
        "print(search(789))   # Should return Python\n",
        "print(search(999))   # Not found\n"
      ],
      "metadata": {
        "colab": {
          "base_uri": "https://localhost:8080/"
        },
        "id": "USrqSzc5KLkO",
        "outputId": "b1302dc4-b653-4ec2-f95a-2c6d67a60049"
      },
      "execution_count": null,
      "outputs": [
        {
          "output_type": "stream",
          "name": "stdout",
          "text": [
            "Inserted 'Rafik' at index 1\n",
            "Inserted 'Shah' at index 9\n",
            "Inserted 'Python' at index 5\n",
            "Found at index 1: Rafik\n",
            "Found at index 5: Python\n",
            "Not found\n"
          ]
        }
      ]
    },
    {
      "cell_type": "markdown",
      "source": [
        "##Collision Handling (Chaining)"
      ],
      "metadata": {
        "id": "N3h0oKaVN9-z"
      }
    },
    {
      "cell_type": "code",
      "source": [
        "# Hash table size\n",
        "size = 10\n",
        "hash_table = [None] * size\n",
        "\n",
        "# Simple Folding Hash Function\n",
        "def folding_hash(key):\n",
        "    key_str = str(key)\n",
        "    total = 0\n",
        "\n",
        "    # Split key into parts of 2 digits\n",
        "    for i in range(0, len(key_str), 2):\n",
        "        part = key_str[i:i+2]\n",
        "        total += int(part)\n",
        "\n",
        "    return total % size\n",
        "\n",
        "# Insert Function\n",
        "def insert(key, value):\n",
        "    index = folding_hash(key)\n",
        "    hash_table[index] = value\n",
        "    print(f\"Inserted '{value}' at index {index}\")\n",
        "\n",
        "# Search Function\n",
        "def search(key):\n",
        "    index = folding_hash(key)\n",
        "    if hash_table[index] is not None:\n",
        "        return f\"Found at index {index}: {hash_table[index]}\"\n",
        "    else:\n",
        "        return \"Not found\"\n",
        "insert(123456, \"Rafik\")\n",
        "insert(987654, \"Shah\")\n",
        "insert(101112, \"Data\")\n",
        "\n",
        "print(search(123456))   # Should print Rafik\n",
        "print(search(999999))   # Not found\n"
      ],
      "metadata": {
        "colab": {
          "base_uri": "https://localhost:8080/"
        },
        "id": "Lpvtj59_Lbds",
        "outputId": "fc5aa756-82f9-424b-b8b5-a9edf37eb1ca"
      },
      "execution_count": null,
      "outputs": [
        {
          "output_type": "stream",
          "name": "stdout",
          "text": [
            "Inserted 'Rafik' at index 2\n",
            "Inserted 'Shah' at index 8\n",
            "Inserted 'Data' at index 3\n",
            "Found at index 2: Rafik\n",
            "Not found\n"
          ]
        }
      ]
    },
    {
      "cell_type": "markdown",
      "source": [
        "##collision tech 2: Linear Probing Logic"
      ],
      "metadata": {
        "id": "io6If9kyNvru"
      }
    },
    {
      "cell_type": "code",
      "source": [
        "# Hash table size\n",
        "size = 10\n",
        "hash_table = [None] * size\n",
        "\n",
        "# Simple hash function\n",
        "def hash_function(key):\n",
        "    return key % size\n",
        "\n",
        "# Insert with linear probing\n",
        "def insert(key, value):\n",
        "    index = hash_function(key)\n",
        "\n",
        "    # Check next slots if collision occurs\n",
        "    for i in range(size):\n",
        "        new_index = (index + i) % size\n",
        "        if hash_table[new_index] is None:\n",
        "            hash_table[new_index] = (key, value)\n",
        "            print(f\"Inserted '{value}' at index {new_index}\")\n",
        "            return\n",
        "    print(\"Hash table is full!\")\n",
        "\n",
        "# Search with linear probing\n",
        "def search(key):\n",
        "    index = hash_function(key)\n",
        "\n",
        "    for i in range(size):\n",
        "        new_index = (index + i) % size\n",
        "        if hash_table[new_index] is None:\n",
        "            return \"Not found\"\n",
        "        if hash_table[new_index][0] == key:\n",
        "            return f\"Found at index {new_index}: {hash_table[new_index][1]}\"\n",
        "    return \"Not found\"\n"
      ],
      "metadata": {
        "id": "UFPw0I2WNtG8"
      },
      "execution_count": null,
      "outputs": []
    },
    {
      "cell_type": "code",
      "source": [],
      "metadata": {
        "id": "w-ZaRq1azvVi"
      },
      "execution_count": null,
      "outputs": []
    },
    {
      "cell_type": "code",
      "source": [],
      "metadata": {
        "id": "i1GYz7EHZ1ZT"
      },
      "execution_count": null,
      "outputs": []
    },
    {
      "cell_type": "code",
      "source": [
        "# Hash table size\n",
        "size = 10\n",
        "hash_table = [None] * size\n",
        "\n",
        "# Hash function: simple modulo\n",
        "def hash_function(key):\n",
        "    return key % size\n",
        "\n",
        "# Insert using Quadratic Probing\n",
        "def insert(key, value):\n",
        "    index = hash_function(key)\n",
        "\n",
        "    for i in range(size):\n",
        "        new_index = (index + i * i) % size\n",
        "        if hash_table[new_index] is None:\n",
        "            hash_table[new_index] = (key, value)\n",
        "            print(f\"✅ Inserted '{value}' at index {new_index}\")\n",
        "            return\n",
        "        elif hash_table[new_index][0] == key:\n",
        "            print(f\"🔁 Key {key} already exists at index {new_index}\")\n",
        "            return\n",
        "    print(\"❌ Hash table is full! Could not insert.\")\n",
        "\n",
        "# Search using Quadratic Probing\n",
        "def search(key):\n",
        "    index = hash_function(key)\n",
        "\n",
        "    for i in range(size):\n",
        "        new_index = (index + i * i) % size\n",
        "        if hash_table[new_index] is None:\n",
        "            return f\"❌ Key {key} not found\"\n",
        "        if hash_table[new_index][0] == key:\n",
        "            return f\"✅ Found at index {new_index}: {hash_table[new_index][1]}\"\n",
        "    return f\"❌ Key {key} not found\"\n",
        "\n",
        "# =============================\n",
        "# 🔍 Testing the Hash Table\n",
        "# =============================\n",
        "\n",
        "insert(10, \"Apple\")      # index = 0\n",
        "insert(20, \"Banana\")     # index = 0 → collision → i=1 → index 1\n",
        "insert(30, \"Cherry\")     # index = 0 → i=1 (1), i=2 (4)\n",
        "insert(40, \"Date\")       # index = 0 → i=1 (1), i=2 (4), i=3 (9)\n",
        "insert(25, \"Elderberry\") # new index\n",
        "insert(35, \"Fig\")        # may find next spot\n",
        "\n",
        "print(\"\\n--- SEARCH RESULTS ---\")\n",
        "print(search(10))  # Should find \"Apple\"\n",
        "print(search(30))  # Should find \"Cherry\"\n",
        "print(search(45))  # Not inserted → Not found\n"
      ],
      "metadata": {
        "id": "1PDgSnakaBpp"
      },
      "execution_count": null,
      "outputs": []
    },
    {
      "cell_type": "code",
      "source": [
        "# Hash table size\n",
        "size = 10\n",
        "hash_table = [[] for _ in range(size)]  # Initialize with empty lists\n",
        "\n",
        "# Simple hash function using modulo\n",
        "def hash_function(key):\n",
        "    return key % size\n",
        "\n",
        "# Insert function with collision handling (chaining)\n",
        "def insert(key, value):\n",
        "    index = hash_function(key)\n",
        "    hash_table[index].append((key, value))  # store as (key, value)\n",
        "    print(f\"Inserted '{value}' at index {index}\")\n",
        "\n",
        "# Search function\n",
        "def search(key):\n",
        "    index = hash_function(key)\n",
        "    for k, v in hash_table[index]:\n",
        "        if k == key:\n",
        "            return f\"Found at index {index}: {v}\"\n",
        "    return \"Not found\"\n",
        "\n",
        "insert(10, \"Apple\")\n",
        "insert(20, \"Banana\")  # 10 and 20 will collide (both % 10 = 0)\n",
        "insert(15, \"Mango\")\n",
        "\n",
        "print(search(20))     # Found\n",
        "print(search(15))     # Found\n",
        "print(search(30))     # found\n",
        "print(hash_table)"
      ],
      "metadata": {
        "colab": {
          "base_uri": "https://localhost:8080/"
        },
        "id": "Jmh05cy1MzZF",
        "outputId": "23a371e9-ffce-4304-d9f6-20a253a9ff85"
      },
      "execution_count": null,
      "outputs": [
        {
          "output_type": "stream",
          "name": "stdout",
          "text": [
            "Inserted 'Apple' at index 0\n",
            "Inserted 'Banana' at index 0\n",
            "Inserted 'Mango' at index 5\n",
            "Found at index 0: Banana\n",
            "Found at index 5: Mango\n",
            "Not found\n",
            "[[(10, 'Apple'), (20, 'Banana')], [], [], [], [], [(15, 'Mango')], [], [], [], []]\n"
          ]
        }
      ]
    },
    {
      "cell_type": "code",
      "source": [
        "arr=[[] for i in range(10)]\n",
        "print(arr)"
      ],
      "metadata": {
        "colab": {
          "base_uri": "https://localhost:8080/"
        },
        "id": "E34pFmYCvSUx",
        "outputId": "1aaef5d6-7afb-45d6-d40d-ad454048177a"
      },
      "execution_count": null,
      "outputs": [
        {
          "output_type": "stream",
          "name": "stdout",
          "text": [
            "[[], [], [], [], [], [], [], [], [], []]\n"
          ]
        }
      ]
    },
    {
      "cell_type": "code",
      "source": [],
      "metadata": {
        "id": "B3i1kbaAMxy7"
      },
      "execution_count": null,
      "outputs": []
    },
    {
      "cell_type": "code",
      "source": [
        "# Initial Array: [34, 12, 76, 23]\n",
        "# merge_sort([34, 12, 76, 23])\n",
        "#   merge_sort([34, 12])\n",
        "#     merge_sort([34])\n",
        "#     Returning [34]\n",
        "#     merge_sort([12])\n",
        "#     Returning [12]\n",
        "#     Merging [34] and [12]\n",
        "#     Added 12 from right\n",
        "#     Added remaining 34 from left\n",
        "#     Result: [12, 34]\n",
        "#   Merged [34] and [12] into [12, 34]\n",
        "#   merge_sort([76, 23])\n",
        "#     merge_sort([76])\n",
        "#     Returning [76]\n",
        "#     merge_sort([23])\n",
        "#     Returning [23]\n",
        "#     Merging [76] and [23]\n",
        "#     Added 23 from right\n",
        "#     Added remaining 76 from left\n",
        "#     Result: [23, 76]\n",
        "#   Merged [76] and [23] into [23, 76]\n",
        "#   Merging [12, 34] and [23, 76]\n",
        "#   Added 12 from left\n",
        "#   Added 23 from right\n",
        "#   Added 34 from left\n",
        "#   Added remaining 76 from right\n",
        "#   Result: [12, 23, 34, 76]\n",
        "# Merged [12, 34] and [23, 76] into [12, 23, 34, 76]\n",
        "# Sorted Array: [12, 23, 34, 76]"
      ],
      "metadata": {
        "id": "fdL78Q1xFpGO"
      },
      "execution_count": null,
      "outputs": []
    },
    {
      "cell_type": "markdown",
      "metadata": {
        "id": "aDH0FEggQYur"
      },
      "source": [
        "#**Numpy**:\n",
        "working with numerical data in Python\n",
        "\n",
        "\n",
        "---\n",
        "\n"
      ]
    },
    {
      "cell_type": "markdown",
      "metadata": {
        "id": "hC5KlaMzagA3"
      },
      "source": [
        "\n",
        "\n",
        "---\n",
        "\n",
        "\n",
        "####**0-D Arrays**\n",
        "\n",
        "\n",
        "---\n",
        "\n"
      ]
    },
    {
      "cell_type": "markdown",
      "metadata": {
        "id": "-L1mNhEVZ4Fd"
      },
      "source": [
        "\n",
        "\n",
        "---\n",
        "\n",
        "\n",
        "###**Types of arrays**\n",
        "A dimension in arrays is one level of array depth (nested arrays)\n",
        "\n",
        "\n",
        "---\n",
        "\n"
      ]
    },
    {
      "cell_type": "markdown",
      "metadata": {
        "id": "dQgAPo3RbGol"
      },
      "source": [
        "\n",
        "\n",
        "---\n",
        "\n",
        "\n",
        "####**1-D Arrays**\n",
        "An array that has 0-D arrays as its elements is called uni-dimensional or 1-D array.\n",
        "\n",
        "These are the most common and basic arrays.\n",
        "\n",
        "\n",
        "---\n",
        "\n",
        "\n"
      ]
    },
    {
      "cell_type": "code",
      "execution_count": null,
      "metadata": {
        "id": "oHlgRuZvbczA"
      },
      "outputs": [],
      "source": [
        "arr=np.array([12,13,14,15,16])\n",
        "print(arr)"
      ]
    },
    {
      "cell_type": "markdown",
      "metadata": {
        "id": "AeGSDEKkb26R"
      },
      "source": [
        "\n",
        "\n",
        "---\n",
        "\n",
        "\n",
        "####**2-D Arrays**\n",
        "An array that has 1-D arrays as its elements is called a 2-D array.\n",
        "\n",
        "These are often used to represent matrix or 2nd order tensors.\n",
        "\n",
        "\n",
        "---\n",
        "\n"
      ]
    },
    {
      "cell_type": "code",
      "execution_count": null,
      "metadata": {
        "id": "FfnDy1wVcKF4"
      },
      "outputs": [],
      "source": [
        "arr=np.array([[1,2,3,4,5],[7,8,9,10,11]])\n",
        "print(arr)\n",
        "print(\"index of arr 1: \",arr[1])"
      ]
    },
    {
      "cell_type": "markdown",
      "metadata": {
        "id": "w37P6NOmdMpi"
      },
      "source": [
        "\n",
        "\n",
        "---\n",
        "\n",
        "\n",
        "####**3-D Array**\n",
        "\n",
        "\n",
        "---\n",
        "\n",
        "\n"
      ]
    },
    {
      "cell_type": "markdown",
      "metadata": {
        "id": "pYUuIXwJVvof"
      },
      "source": [
        "##**Installing NumPy**\n",
        "\n",
        "\n",
        "---\n",
        "\n"
      ]
    },
    {
      "cell_type": "code",
      "execution_count": null,
      "metadata": {
        "id": "w08orTrfVzCs"
      },
      "outputs": [],
      "source": [
        "pip install numpy"
      ]
    },
    {
      "cell_type": "markdown",
      "metadata": {
        "id": "-Y1FIwaVUC6n"
      },
      "source": [
        "\n",
        "\n",
        "---\n",
        "\n",
        "\n",
        "##**How to import NumPy**\n",
        "\n",
        "\n",
        "---\n",
        "\n",
        "\n",
        ">\n",
        "\n",
        "\n",
        "\n",
        "\n",
        "\n",
        "\n",
        "\n",
        "\n",
        "\n",
        "\n",
        "\n",
        "\n",
        "\n"
      ]
    },
    {
      "cell_type": "code",
      "execution_count": null,
      "metadata": {
        "id": "243UsKOaVESZ"
      },
      "outputs": [],
      "source": [
        "import numpy as np"
      ]
    },
    {
      "cell_type": "markdown",
      "metadata": {
        "id": "dkw9eXr6W69M"
      },
      "source": [
        "\n",
        "\n",
        "---\n",
        "\n",
        "\n",
        "##**What is an array?**\n",
        "- An array is a fundamental data structure in the NumPy library.\n",
        "- It represents a grid of values and includes information about raw data, element location, and interpretation.\n",
        "- Arrays consist of elements arranged in a grid format that can be accessed through various indexing methods.\n",
        "- All elements in an array are of the same type, which is known as the array dtype (data type).\n",
        "\n",
        "\n",
        "---\n",
        "\n"
      ]
    },
    {
      "cell_type": "code",
      "execution_count": null,
      "metadata": {
        "id": "ojTHilpKXRZO"
      },
      "outputs": [],
      "source": [
        "a = np.array([1, 2, 3, 4, 5, 6])\n",
        "print(a[0])"
      ]
    },
    {
      "cell_type": "code",
      "execution_count": null,
      "metadata": {
        "id": "kcxl3ZnrYHGS"
      },
      "outputs": [],
      "source": [
        "a = np.array([[1, 2, 3],[7,8,9]])\n",
        "print(a[0])"
      ]
    },
    {
      "cell_type": "code",
      "execution_count": null,
      "metadata": {
        "id": "ZyHuau4NlBEC"
      },
      "outputs": [],
      "source": [
        "print(len(\"Rafik Shah\"))"
      ]
    },
    {
      "cell_type": "code",
      "execution_count": null,
      "metadata": {
        "id": "j05QlxM3m2kz"
      },
      "outputs": [],
      "source": [
        "ls=[12,23,4,2,13,6]\n",
        "print(len(ls))"
      ]
    },
    {
      "cell_type": "code",
      "execution_count": null,
      "metadata": {
        "id": "vShqclbBdwA4"
      },
      "outputs": [],
      "source": [
        "arr = np.array([[[1, 2, 3], [4, 5, 6]], [[1, 2, 3], [4, 5, 6]]])"
      ]
    },
    {
      "cell_type": "markdown",
      "metadata": {
        "id": "13sjVwgnfBFJ"
      },
      "source": [
        "\n",
        "\n",
        "---\n",
        "\n",
        "\n",
        "####**Check Number of Dimensions?**\n",
        "\n",
        "The full form of \"ndim\" is \"number of dimensions\n",
        "\n",
        "\n",
        "---\n",
        "\n"
      ]
    },
    {
      "cell_type": "code",
      "execution_count": null,
      "metadata": {
        "id": "QCi0eLUAe_Eh"
      },
      "outputs": [],
      "source": [
        "a = np.array(42)\n",
        "b = np.array([1, 2, 3, 4, 5])\n",
        "c = np.array([[1, 2, 3], [4, 5, 6]])\n",
        "d = np.array([[[1, 2, 3], [4, 5, 6]], [[1, 2, 3], [4, 5, 6]]])\n",
        "\n",
        "print(a.ndim)\n",
        "print(b.ndim)\n",
        "print(c.ndim)\n",
        "print(d.ndim)"
      ]
    },
    {
      "cell_type": "markdown",
      "metadata": {
        "id": "sK8FYzIXhx-y"
      },
      "source": [
        "\n",
        "\n",
        "---\n",
        "\n",
        "\n",
        "####**Higher Dimensional Arrays**\n"
      ]
    },
    {
      "cell_type": "code",
      "execution_count": null,
      "metadata": {
        "id": "kGQt0BLAhyT1"
      },
      "outputs": [],
      "source": [
        "arr = np.array([1, 2, 3, 4], ndmin=6)\n",
        "\n",
        "print(arr)\n",
        "print('number of dimensions :', arr.ndim)"
      ]
    },
    {
      "cell_type": "markdown",
      "metadata": {
        "id": "kTbH5hYFlhs4"
      },
      "source": [
        "\n",
        "\n",
        "---\n",
        "\n",
        "\n",
        "####**Array using user**"
      ]
    },
    {
      "cell_type": "code",
      "execution_count": null,
      "metadata": {
        "id": "Tz90dIVIjm8R"
      },
      "outputs": [],
      "source": [
        "import numpy as np\n",
        "a=list(map(int,input().split()))\n",
        "b=list(map(int,input().split()))\n",
        "\n",
        "arr=np.array([a,b])\n",
        "print(arr)\n",
        "print(\"Dimensions\",arr.ndim)"
      ]
    },
    {
      "cell_type": "code",
      "source": [
        "a=list(map(int,input().split()))\n",
        "b=list(map(int,input().split()))\n",
        "\n",
        "arr=np.array([[a,b]])\n",
        "print(arr)\n",
        "print(\"Dimensions\",arr.ndim)"
      ],
      "metadata": {
        "id": "ztFUm7x5ScJt"
      },
      "execution_count": null,
      "outputs": []
    },
    {
      "cell_type": "markdown",
      "metadata": {
        "id": "4oyQBfjFneGb"
      },
      "source": [
        "##**NumPy Array Indexing**"
      ]
    },
    {
      "cell_type": "markdown",
      "metadata": {
        "id": "aFZIqEHnnqvD"
      },
      "source": [
        "##**Accessing elements**\n",
        " -In a NumPy array is similar to retrieving an element from a list or array in other programming languages.<br>\n",
        "-Each element in a NumPy array can be accessed by referring to its index number.\n",
        "<br>\n",
        "The index of the first element in a NumPy array is 0, followed by 1 for the second element, and so on.\n",
        "\n",
        "<br>NumPy arrays use zero-based indexing, meaning the first element is at index 0, the second element at index 1, and so forth.\n",
        "<br>To access a specific element in a NumPy array, you use square brackets [] along with the index of the element you want to retrieve.\n",
        "<br> For example, array_name[index] will access the element at the specified index in the array.\n",
        "\n",
        "\n",
        "\n"
      ]
    },
    {
      "cell_type": "code",
      "execution_count": null,
      "metadata": {
        "id": "aPPbG_agotFo"
      },
      "outputs": [],
      "source": [
        "arr = np.array([1, 2, 3, 4])\n",
        "\n",
        "print(arr[1])"
      ]
    },
    {
      "cell_type": "code",
      "execution_count": null,
      "metadata": {
        "id": "CSD9ikbio0KO"
      },
      "outputs": [],
      "source": [
        "arr = np.array([1, 2, 3, 4])\n",
        "\n",
        "print(arr[2] + arr[3])"
      ]
    },
    {
      "cell_type": "code",
      "execution_count": null,
      "metadata": {
        "id": "-zGA29J6pAPc"
      },
      "outputs": [],
      "source": [
        "arr = np.array([[1,2,3,4,5], [6,7,8,9,10]])\n",
        "\n",
        "print('2nd element on 1st row: ', arr[0, 1])"
      ]
    },
    {
      "cell_type": "code",
      "execution_count": null,
      "metadata": {
        "id": "Qk97uE4YpJYZ"
      },
      "outputs": [],
      "source": [
        "arr = np.array([[1,2,3,4,5], [6,7,8,9,10]])\n",
        "\n",
        "print('5th element on 2nd row: ', arr[1, 4])"
      ]
    },
    {
      "cell_type": "code",
      "execution_count": null,
      "metadata": {
        "id": "vhQR9Tj2pTMl"
      },
      "outputs": [],
      "source": [
        "arr = np.array([[[1, 2, 3], [4, 5, 6]], [[7, 8, 9], [10, 11, 12]]])\n",
        "print(arr[0, 1, 2])"
      ]
    },
    {
      "cell_type": "code",
      "execution_count": null,
      "metadata": {
        "id": "BtlX9azCqeAw"
      },
      "outputs": [],
      "source": [
        "arr = np.array([[1,2,3,4,5], [6,7,8,9,10]])\n",
        "print('Last element from 2nd dim: ', arr[1, -1])"
      ]
    },
    {
      "cell_type": "markdown",
      "metadata": {
        "id": "2wkPhZsarusA"
      },
      "source": [
        "##**Numpy array Slicing **\n",
        "\n",
        "[start:end]: This syntax selects elements starting from the start index up to, but not including, the end index. If start is not provided, it defaults to 0 (the beginning of the array). If end is not provided, it defaults to the length of the array in that dimension (the end of the array).\n",
        "\n",
        "[start:end:step]: In addition to start and end, you can also specify a step value. This determines the increment between each index selected. If step is not provided, it defaults to 1 (selecting consecutive elements)."
      ]
    },
    {
      "cell_type": "code",
      "execution_count": null,
      "metadata": {
        "id": "XSF17gT-sUP1"
      },
      "outputs": [],
      "source": [
        "arr = np.array([1, 2, 3, 4, 5, 6, 7])\n",
        "print(arr[1:5])"
      ]
    },
    {
      "cell_type": "code",
      "execution_count": null,
      "metadata": {
        "id": "-UbJ6ZpTsZI0"
      },
      "outputs": [],
      "source": [
        "arr = np.array([1, 2, 3, 4, 5, 6, 7])\n",
        "print(arr[4:])"
      ]
    },
    {
      "cell_type": "code",
      "execution_count": null,
      "metadata": {
        "id": "jgXBVMwhshaS"
      },
      "outputs": [],
      "source": [
        "arr = np.array([1, 2, 3, 4, 5, 6, 7])\n",
        "print(arr[4:])"
      ]
    },
    {
      "cell_type": "code",
      "execution_count": null,
      "metadata": {
        "id": "-kCx1kE2slXa"
      },
      "outputs": [],
      "source": [
        "arr = np.array([1, 2, 3, 4, 5, 6, 7])\n",
        "print(arr[:4])"
      ]
    },
    {
      "cell_type": "code",
      "execution_count": null,
      "metadata": {
        "id": "6dBUMCS-sthX"
      },
      "outputs": [],
      "source": [
        "arr = np.array([1, 2, 3, 4, 5, 6, 7])\n",
        "print(arr[-3:-1])"
      ]
    },
    {
      "cell_type": "code",
      "execution_count": null,
      "metadata": {
        "id": "2ZLetJiUsxtE"
      },
      "outputs": [],
      "source": [
        "arr = np.array([1, 2, 3, 4, 5, 6, 7])\n",
        "print(arr[1:5:2])"
      ]
    },
    {
      "cell_type": "code",
      "execution_count": null,
      "metadata": {
        "id": "KpUwECHjs2wh"
      },
      "outputs": [],
      "source": [
        "arr = np.array([[1, 2, 3, 4, 5], [6, 7, 8, 9, 10]])\n",
        "print(arr[1, 1:4])"
      ]
    },
    {
      "cell_type": "code",
      "execution_count": null,
      "metadata": {
        "id": "9DShbpqJs897"
      },
      "outputs": [],
      "source": [
        "arr = np.array([[1, 2, 3, 4, 5], [6, 7, 8, 9, 10]])\n",
        "\n",
        "print(arr[0:2, 2])"
      ]
    },
    {
      "cell_type": "code",
      "execution_count": null,
      "metadata": {
        "id": "6ZKeNID6tPrs"
      },
      "outputs": [],
      "source": [
        "arr = np.array([[1, 2, 3, 4, 5], [6, 7, 8, 9, 10]])\n",
        "\n",
        "print(arr[0:2, 1:4])"
      ]
    },
    {
      "cell_type": "markdown",
      "metadata": {
        "id": "TJUcecgQTbXX"
      },
      "source": [
        "##Data Types in NumPy\n",
        "\n",
        "i - integer<br>\n",
        "b - boolean<br>\n",
        "u - unsigned integer<br>\n",
        "f - float<br>\n",
        "c - complex float<br>\n",
        "m - timedelta<br>\n",
        "M - datetime<br>\n",
        "O - object<br>\n",
        "S - string<br>\n",
        "U - unicode string<br>\n",
        "V - fixed chunk of memory for other type ( void )"
      ]
    },
    {
      "cell_type": "markdown",
      "metadata": {
        "id": "EEXAgF07Ume8"
      },
      "source": [
        "### Checking the Data Type of an Array"
      ]
    },
    {
      "cell_type": "code",
      "execution_count": null,
      "metadata": {
        "id": "s-mjg1WzS5z0"
      },
      "outputs": [],
      "source": [
        "arr = np.array([1, 2, 3, 4])\n",
        "print(arr.dtype)"
      ]
    },
    {
      "cell_type": "code",
      "execution_count": null,
      "metadata": {
        "id": "NFhyTtZqVX1s"
      },
      "outputs": [],
      "source": [
        "arr = np.array([1, 2, 3, 4], dtype='i')\n",
        "print(arr)\n",
        "print(arr.dtype)"
      ]
    },
    {
      "cell_type": "code",
      "execution_count": null,
      "metadata": {
        "id": "vWgzKkjkVMzl"
      },
      "outputs": [],
      "source": [
        "arr = np.array([1, 2, 3, 4], dtype='S')\n",
        "print(arr)\n",
        "print(arr.dtype)\n",
        "print(type(arr))"
      ]
    },
    {
      "cell_type": "code",
      "execution_count": null,
      "metadata": {
        "id": "386Jh1OuXMyQ"
      },
      "outputs": [],
      "source": [
        "# A non integer string like 'a' can not be converted to integer (will raise an error):\n",
        "arr = np.array(['s', 'r', 'k'], dtype='S')\n",
        "print(arr)\n",
        "print(arr.dtype)"
      ]
    },
    {
      "cell_type": "code",
      "execution_count": null,
      "metadata": {
        "id": "BgQrddagXwRf"
      },
      "outputs": [],
      "source": [
        "# Change data type from float to integer by using int as parameter value:\n",
        "arr = np.array([10.1, 20.1, 30.1])\n",
        "print(arr.dtype)\n",
        "newarr = arr.astype('i')\n",
        "print(newarr)\n",
        "print(newarr.dtype)"
      ]
    },
    {
      "cell_type": "code",
      "execution_count": null,
      "metadata": {
        "id": "iGnPM2sXZKn5"
      },
      "outputs": [],
      "source": [
        "arr = np.array([1, 0, 3])\n",
        "newarr = arr.astype(bool)\n",
        "print(newarr)\n",
        "print(newarr.dtype)"
      ]
    },
    {
      "cell_type": "markdown",
      "metadata": {
        "id": "9fv7GVMWnbmL"
      },
      "source": [
        "#**🌳Tree**"
      ]
    },
    {
      "cell_type": "markdown",
      "source": [
        "A Binary Tree is a data structure where each node has at most two children, called the left child and the right child."
      ],
      "metadata": {
        "id": "FN_XVwEXkbiD"
      }
    },
    {
      "cell_type": "markdown",
      "source": [
        "##📌Node Types<br>\n",
        "Root Node: The first (top) node in the tree.\n",
        "\n",
        "Leaf Node: A node with no children.\n",
        "\n",
        "Internal Node: A node with at least one child.\n",
        "\n"
      ],
      "metadata": {
        "id": "j0A74csukoyl"
      }
    },
    {
      "cell_type": "markdown",
      "source": [
        "##Variations of Binary Tree"
      ],
      "metadata": {
        "id": "4SElWWqElI2Y"
      }
    },
    {
      "cell_type": "markdown",
      "source": [
        "\n",
        "\n",
        "---\n",
        "\n",
        "### 🌳 **Full Binary Tree**\n",
        "\n",
        "---\n",
        "\n",
        "### ✅ **Definition**\n",
        "\n",
        "A **Full Binary Tree** is a binary tree in which:\n",
        "\n",
        "> Every node has either **0 or 2 children** — never exactly one child.\n",
        "\n",
        "---\n",
        "\n",
        "### 📘 **Diagram Representation**\n",
        "\n",
        "```\n",
        "        1\n",
        "       / \\\n",
        "      2   3\n",
        "     / \\   \\\n",
        "    4   5   X   \n",
        "    ❌ Not full (node 3 has only one child)\n",
        "\n",
        "        Correct Example:\n",
        "        \n",
        "        1\n",
        "       / \\\n",
        "      2   3\n",
        "     / \\ / \\\n",
        "    4  5 6  7\n",
        "\n",
        "```"
      ],
      "metadata": {
        "id": "hQm-I97RmAnY"
      }
    },
    {
      "cell_type": "markdown",
      "source": [
        "---\n",
        "\n",
        "### 🌳 **Complete Binary Tree (CBT)**\n",
        "\n",
        "---\n",
        "\n",
        "### ✅ **Definition:**\n",
        "\n",
        "A binary tree in which **all levels are completely filled except possibly the last level**,\n",
        "and the **last level is filled from left to right without gaps**.\n",
        "\n",
        "---\n",
        "\n",
        "### 📘 **Diagram:**\n",
        "\n",
        "```\n",
        "        1\n",
        "       / \\\n",
        "      2   3\n",
        "     / \\  /\n",
        "    4  5 6\n",
        "```\n",
        "\n",
        "\n"
      ],
      "metadata": {
        "id": "qyv7CS2Hn2qL"
      }
    },
    {
      "cell_type": "code",
      "source": [],
      "metadata": {
        "id": "J740u6W_otKs"
      },
      "execution_count": null,
      "outputs": []
    },
    {
      "cell_type": "markdown",
      "source": [
        "Here’s a **simple explanation** and **key points** of **Almost Complete Binary Tree (ACBT)** along with a diagram — quick and clear:\n",
        "\n",
        "---\n",
        "\n",
        "###🌳 **Almost Complete Binary Tree (ACBT)**\n",
        "\n",
        "---\n",
        "\n",
        "### ✅ **Definition:**\n",
        "\n",
        "* A binary tree where **all levels except the last are completely filled**,\n",
        "* But in the **last level, nodes may not be filled strictly from left to right** (some gaps allowed).\n",
        "\n",
        "---\n",
        "\n",
        "### 📘 **Diagram:**\n",
        "\n",
        "```\n",
        "Complete Binary Tree:\n",
        "\n",
        "        1\n",
        "       / \\\n",
        "      2   3\n",
        "     / \\  /\n",
        "    4  5 6\n",
        "\n",
        "Almost Complete Binary Tree:\n",
        "\n",
        "        1\n",
        "       / \\\n",
        "      2   3\n",
        "     /     \\\n",
        "    4       6\n",
        "```\n",
        "\n",
        "*Note:*\n",
        "In ACBT, node 5 is missing while node 6 is present on the right — so not strictly left to right.\n",
        "\n"
      ],
      "metadata": {
        "id": "z74DBcITot5B"
      }
    },
    {
      "cell_type": "code",
      "source": [
        "class TreeNode:\n",
        "    def __init__(self, value):\n",
        "        self.val = value\n",
        "        self.left = None\n",
        "        self.right = None\n",
        "        print(self.val)\n",
        "        print(self.left)\n",
        "        print(self.right)\n",
        "\n",
        "root=TreeNode(1)\n",
        "root.left=TreeNode(100)\n"
      ],
      "metadata": {
        "id": "c-uFsGCa3iWp"
      },
      "execution_count": null,
      "outputs": []
    },
    {
      "cell_type": "code",
      "execution_count": null,
      "metadata": {
        "id": "T6Zpq7aIqixp"
      },
      "outputs": [],
      "source": [
        "class TreeNode:\n",
        "    def __init__(self, value):\n",
        "        self.val = value\n",
        "        self.left = None\n",
        "        self.right = None\n",
        "\n",
        "def print_tree(root):\n",
        "    if root is not None:\n",
        "        print_tree(root.left)\n",
        "        print(root.val)\n",
        "        print_tree(root.right)\n",
        "\n",
        "# Creating the binary tree\n",
        "root = TreeNode(1)\n",
        "root.left = TreeNode(2)\n",
        "root.right = TreeNode(3)\n",
        "root.left.left = TreeNode(4)\n",
        "root.left.right = TreeNode(5)\n",
        "root.right.left = TreeNode(6)\n",
        "root.right.right = TreeNode(7)\n",
        "\n",
        "# Printing the binary tree\n",
        "print(\"Binary Tree Structure:\")\n",
        "print_tree(root)\n"
      ]
    },
    {
      "cell_type": "markdown",
      "metadata": {
        "id": "8GQ2A3Q_rNSU"
      },
      "source": [
        "##Inorder\n",
        "( Left → Root→ Right )"
      ]
    },
    {
      "cell_type": "code",
      "execution_count": null,
      "metadata": {
        "id": "cWLhIaERqucB",
        "colab": {
          "base_uri": "https://localhost:8080/"
        },
        "outputId": "1ff988c8-087b-4852-f32b-97a0a6e06add"
      },
      "outputs": [
        {
          "output_type": "stream",
          "name": "stdout",
          "text": [
            "Binary Tree Structure:\n",
            "4 2 5 1 6 3 7 "
          ]
        }
      ],
      "source": [
        "class TreeNode:\n",
        "    def __init__(self, value):\n",
        "        self.val = value\n",
        "        self.left = None\n",
        "        self.right = None\n",
        "\n",
        "def print_tree(root):\n",
        "    if root :\n",
        "        print_tree(root.left)\n",
        "        print(root.val,end=\" \")\n",
        "        print_tree(root.right)\n",
        "\n",
        "# Creating the binary tree\n",
        "root = TreeNode(1)\n",
        "root.left = TreeNode(2)\n",
        "root.right = TreeNode(3)\n",
        "root.left.left = TreeNode(4)\n",
        "root.left.right = TreeNode(5)\n",
        "root.right.left = TreeNode(6)\n",
        "root.right.right = TreeNode(7)\n",
        "\n",
        "# Printing the binary tree\n",
        "print(\"Binary Tree Structure:\")\n",
        "print_tree(root)"
      ]
    },
    {
      "cell_type": "markdown",
      "source": [
        "\n",
        "###✅ Tree Structure\n",
        "\n",
        "```\n",
        "        1\n",
        "       / \\\n",
        "      2   3\n",
        "     / \\ / \\\n",
        "    4  5 6  7\n",
        "```\n",
        "\n",
        "---\n",
        "\n",
        "## 🧠 Inorder Traversal Logic\n",
        "\n",
        "> **Left → Root → Right**\n",
        "\n",
        "\n",
        "```text\n",
        "print_tree(1)\n",
        "├── print_tree(2)\n",
        "│   ├── print_tree(4)\n",
        "│   │   ├── print_tree(None) → return\n",
        "│   │   ├── print(4)\n",
        "│   │   └── print_tree(None) → return\n",
        "│   ├── print(2)\n",
        "│   ├── print_tree(5)\n",
        "│   │   ├── print_tree(None) → return\n",
        "│   │   ├── print(5)\n",
        "│   │   └── print_tree(None) → return\n",
        "├── print(1)\n",
        "├── print_tree(3)\n",
        "│   ├── print_tree(6)\n",
        "│   │   ├── print_tree(None) → return\n",
        "│   │   ├── print(6)\n",
        "│   │   └── print_tree(None) → return\n",
        "│   ├── print(3)\n",
        "│   ├── print_tree(7)\n",
        "│   │   ├── print_tree(None) → return\n",
        "│   │   ├── print(7)\n",
        "│   │   └── print_tree(None) → return\n",
        "```\n"
      ],
      "metadata": {
        "id": "nct2vdIAGliQ"
      }
    },
    {
      "cell_type": "markdown",
      "metadata": {
        "id": "6vlvbxnjo3B-"
      },
      "source": [
        "##preorder\n",
        " (Root → Left → Right)"
      ]
    },
    {
      "cell_type": "code",
      "execution_count": null,
      "metadata": {
        "id": "tr8HvVGxpv-u",
        "colab": {
          "base_uri": "https://localhost:8080/"
        },
        "outputId": "29c2c667-06d1-47c2-8afc-b3263dffa06a"
      },
      "outputs": [
        {
          "output_type": "stream",
          "name": "stdout",
          "text": [
            "Preorder Traversal of Binary Tree:\n",
            "1\n",
            "2\n",
            "4\n",
            "5\n",
            "3\n",
            "6\n",
            "7\n"
          ]
        }
      ],
      "source": [
        "class TreeNode:\n",
        "    def __init__(self, value):\n",
        "        self.val = value\n",
        "        self.left = None\n",
        "        self.right = None\n",
        "\n",
        "def print_tree_preorder(node):\n",
        "    if node is not None:\n",
        "        print(node.val)                  # Step 1: Print root\n",
        "        print_tree_preorder(node.left)  # Step 2: Traverse left subtree\n",
        "        print_tree_preorder(node.right) # Step 3: Traverse right subtree\n",
        "\n",
        "# Creating the binary tree\n",
        "root = TreeNode(1)\n",
        "root.left = TreeNode(2)\n",
        "root.right = TreeNode(3)\n",
        "root.left.left = TreeNode(4)\n",
        "root.left.right = TreeNode(5)\n",
        "root.right.left = TreeNode(6)\n",
        "root.right.right = TreeNode(7)\n",
        "\n",
        "# Printing the binary tree using Preorder Traversal\n",
        "print(\"Preorder Traversal of Binary Tree:\")\n",
        "print_tree_preorder(root)\n"
      ]
    },
    {
      "cell_type": "markdown",
      "source": [
        "####call flow tree\n",
        "```\n",
        "print_tree_preorder(1)\n",
        "├── print(1)\n",
        "├── print_tree_preorder(2)\n",
        "│   ├── print(2)\n",
        "│   ├── print_tree_preorder(4)\n",
        "│   │   ├── print(4)\n",
        "│   │   ├── print_tree_preorder(None)  → return\n",
        "│   │   └── print_tree_preorder(None)  → return\n",
        "│   ├── return from 4\n",
        "│   ├── print_tree_preorder(5)\n",
        "│   │   ├── print(5)\n",
        "│   │   ├── print_tree_preorder(None)  → return\n",
        "│   │   └── print_tree_preorder(None)  → return\n",
        "│   └── return from 5\n",
        "├── return from 2\n",
        "├── print_tree_preorder(3)\n",
        "│   ├── print(3)\n",
        "│   ├── print_tree_preorder(6)\n",
        "│   │   ├── print(6)\n",
        "│   │   ├── print_tree_preorder(None)  → return\n",
        "│   │   └── print_tree_preorder(None)  → return\n",
        "│   ├── return from 6\n",
        "│   ├── print_tree_preorder(7)\n",
        "│   │   ├── print(7)\n",
        "│   │   ├── print_tree_preorder(None)  → return\n",
        "│   │   └── print_tree_preorder(None)  → return\n",
        "│   └── return from 7\n",
        "└── return from 3\n",
        "```\n",
        "\n"
      ],
      "metadata": {
        "id": "shtUm1MIEvEO"
      }
    },
    {
      "cell_type": "markdown",
      "source": [
        "##postorder :\n",
        "(Left → Right → Root)"
      ],
      "metadata": {
        "id": "Cc61JmEQ-lGH"
      }
    },
    {
      "cell_type": "code",
      "source": [
        "class TreeNode:\n",
        "    def __init__(self, value):\n",
        "        self.val = value\n",
        "        self.left = None\n",
        "        self.right = None\n",
        "\n",
        "def print_tree_postorder(node):\n",
        "    if node is not None:\n",
        "        print_tree_postorder(node.left)    # Step 1: Visit Left Subtree\n",
        "        print_tree_postorder(node.right)   # Step 2: Visit Right Subtree\n",
        "        print(node.val)                    # Step 3: Visit Root Node\n",
        "\n",
        "# Creating the binary tree\n",
        "root = TreeNode(1)\n",
        "root.left = TreeNode(2)\n",
        "root.right = TreeNode(3)\n",
        "root.left.left = TreeNode(4)\n",
        "root.left.right = TreeNode(5)\n",
        "root.right.left = TreeNode(6)\n",
        "root.right.right = TreeNode(7)\n",
        "\n",
        "# Printing the binary tree using Postorder Traversal\n",
        "print(\"Postorder Traversal of Binary Tree:\")\n",
        "print_tree_postorder(root)"
      ],
      "metadata": {
        "id": "dLGd4KLs-nZX",
        "colab": {
          "base_uri": "https://localhost:8080/"
        },
        "outputId": "44d7d52d-d2ea-4347-ed21-9eec1d7a7b45"
      },
      "execution_count": null,
      "outputs": [
        {
          "output_type": "stream",
          "name": "stdout",
          "text": [
            "Postorder Traversal of Binary Tree:\n",
            "4\n",
            "5\n",
            "2\n",
            "6\n",
            "7\n",
            "3\n",
            "1\n"
          ]
        }
      ]
    },
    {
      "cell_type": "code",
      "execution_count": null,
      "metadata": {
        "id": "4gf6aIBfngsi"
      },
      "outputs": [],
      "source": []
    },
    {
      "cell_type": "code",
      "execution_count": null,
      "metadata": {
        "id": "aTneSzRitAIj"
      },
      "outputs": [],
      "source": [
        "class BinarySearchTree:\n",
        "    def __init__(self, value):\n",
        "        self.left = None\n",
        "        self.right = None\n",
        "        self.val = value\n",
        "\n",
        "    def __del__(self):\n",
        "        print(f\"Deleting node with value {self.val}\")\n",
        "\n",
        "def preorder(tree, array):\n",
        "    if tree is not None:\n",
        "        array.append(tree.val)  # Visit the current node (root) first\n",
        "        preorder(tree.left, array)  # Traverse left subtree\n",
        "        preorder(tree.right, array)  # Traverse right subtree\n",
        "    return array\n",
        "\n",
        "# Creating nodes for the binary tree\n",
        "root = BinarySearchTree(1)\n",
        "root.left = BinarySearchTree(2)\n",
        "root.right = BinarySearchTree(3)\n",
        "root.left.left = BinarySearchTree(4)\n",
        "root.left.right = BinarySearchTree(5)\n",
        "root.right.left = BinarySearchTree(6)\n",
        "root.right.right = BinarySearchTree(7)\n",
        "\n",
        "# Performing Preorder Traversal\n",
        "result_preorder = preorder(root, [])\n",
        "print(result_preorder)  # Output: [1, 2, 4, 5, 3, 6, 7]\n",
        "\n",
        "# Deleting the root node (triggering __del__ method)\n",
        "# del root\n"
      ]
    },
    {
      "cell_type": "markdown",
      "source": [
        "#Graph"
      ],
      "metadata": {
        "id": "4u59tS2aWfea"
      }
    },
    {
      "cell_type": "markdown",
      "source": [
        "##BFS[FIFO]"
      ],
      "metadata": {
        "id": "QOuIo2FdWimQ"
      }
    },
    {
      "cell_type": "code",
      "source": [
        "# This is slow\n",
        "queue = [1, 2, 3]\n",
        "queue.pop(0)   # removes first element → O(n) time"
      ],
      "metadata": {
        "id": "OAs1J_UFcXMx"
      },
      "execution_count": null,
      "outputs": []
    },
    {
      "cell_type": "code",
      "source": [
        "from collections import deque\n",
        "\n",
        "queue = deque([1, 2, 3])\n",
        "queue.popleft()  # Fast → O(1)\n"
      ],
      "metadata": {
        "id": "7UXx_Wdncahu"
      },
      "execution_count": null,
      "outputs": []
    },
    {
      "cell_type": "code",
      "source": [
        "from collections import deque\n",
        "\n",
        "def bfs(graph, start):\n",
        "    visited = set()\n",
        "    queue = deque([start])\n",
        "\n",
        "    while queue:\n",
        "        node = queue.popleft()\n",
        "        if node not in visited:\n",
        "            print(node, end=\" \")\n",
        "            visited.add(node)\n",
        "            for neighbor in graph[node]:\n",
        "                if neighbor not in visited:\n",
        "                    queue.append(neighbor)\n",
        "\n",
        "graph = {\n",
        "    'A': ['B', 'C'],\n",
        "    'B': ['D'],\n",
        "    'C': ['E'],\n",
        "    'D': [],\n",
        "    'E': []\n",
        "}\n",
        "\n",
        "print(\"BFS Traversal:\")\n",
        "bfs(graph, 'A')\n"
      ],
      "metadata": {
        "colab": {
          "base_uri": "https://localhost:8080/"
        },
        "id": "T7iIuK9gcmEF",
        "outputId": "bbffd0a0-7b2c-4117-94f8-f68fbdcb091e"
      },
      "execution_count": null,
      "outputs": [
        {
          "output_type": "stream",
          "name": "stdout",
          "text": [
            "BFS Traversal:\n",
            "A B C D E "
          ]
        }
      ]
    },
    {
      "cell_type": "markdown",
      "source": [
        "##DFS(LIFO)"
      ],
      "metadata": {
        "id": "rjL82qkXdxg2"
      }
    },
    {
      "cell_type": "code",
      "source": [
        "def dfs(graph, node, visited=None):\n",
        "    if visited is None:\n",
        "        visited = set()\n",
        "\n",
        "    if node not in visited:\n",
        "        print(node, end=\" \")\n",
        "        visited.add(node)\n",
        "\n",
        "        for neighbor in graph[node]:\n",
        "            dfs(graph, neighbor, visited)\n",
        "\n",
        "graph = {\n",
        "    'A': ['B', 'C'],\n",
        "    'B': ['D'],\n",
        "    'C': ['E'],\n",
        "    'D': [],\n",
        "    'E': []\n",
        "}\n",
        "\n",
        "print(\"DFS Traversal:\")\n",
        "dfs(graph, 'A')\n"
      ],
      "metadata": {
        "colab": {
          "base_uri": "https://localhost:8080/"
        },
        "id": "xfeJqDkSdzpA",
        "outputId": "f27b6128-7720-4877-835b-7323778a56ac"
      },
      "execution_count": null,
      "outputs": [
        {
          "output_type": "stream",
          "name": "stdout",
          "text": [
            "DFS Traversal:\n",
            "A B D C E "
          ]
        }
      ]
    },
    {
      "cell_type": "markdown",
      "source": [
        "| Step | `queue`     | `visited`                 | `node` | Action                          |\n",
        "| ---- | ----------- | ------------------------- | ------ | ------------------------------- |\n",
        "| 1    | \\['A']      | {}                        | A      | Print A, visit A, enqueue B & C |\n",
        "| 2    | \\['B', 'C'] | {'A'}                     | B      | Print B, visit B, enqueue D     |\n",
        "| 3    | \\['C', 'D'] | {'A', 'B'}                | C      | Print C, visit C, enqueue E     |\n",
        "| 4    | \\['D', 'E'] | {'A', 'B', 'C'}           | D      | Print D, visit D (no neighbors) |\n",
        "| 5    | \\['E']      | {'A', 'B', 'C', 'D'}      | E      | Print E, visit E (no neighbors) |\n",
        "| 6    | \\[]         | {'A', 'B', 'C', 'D', 'E'} | -      | Queue empty → BFS ends          |\n"
      ],
      "metadata": {
        "id": "tSpsOdj6c9_8"
      }
    },
    {
      "cell_type": "code",
      "source": [
        "def dfs_iterative(graph, start):\n",
        "    visited = set()\n",
        "    stack = [start]\n",
        "\n",
        "    while stack:\n",
        "        node = stack.pop()\n",
        "        if node not in visited:\n",
        "            print(node, end=\" \")\n",
        "            visited.add(node)\n",
        "\n",
        "            # Push neighbors in reverse order for left-to-right DFS\n",
        "            for neighbor in reversed(graph[node]):\n",
        "                if neighbor not in visited:\n",
        "                    stack.append(neighbor)\n",
        "\n",
        "graph = {\n",
        "    'A': ['B', 'C'],\n",
        "    'B': ['D'],\n",
        "    'C': ['E'],\n",
        "    'D': [],\n",
        "    'E': []\n",
        "}\n",
        "\n",
        "print(\"DFS Traversal (Iterative):\")\n",
        "dfs_iterative(graph, 'A')\n"
      ],
      "metadata": {
        "colab": {
          "base_uri": "https://localhost:8080/"
        },
        "id": "v99UQE1BeO2R",
        "outputId": "1692973c-5047-475b-feeb-26cc30410fa5"
      },
      "execution_count": null,
      "outputs": [
        {
          "output_type": "stream",
          "name": "stdout",
          "text": [
            "DFS Traversal (Iterative):\n",
            "A B D C E "
          ]
        }
      ]
    },
    {
      "cell_type": "markdown",
      "source": [
        "| Step | Operation                | Stack Before | Stack After  | Visited                     | Printed |\n",
        "| ---- | ------------------------ | ------------ | ------------ | --------------------------- | ------- |\n",
        "| 1    | Start → push A           | `[]`         | `['A']`      | `{}`                        |         |\n",
        "| 2    | pop A, print A           | `['A']`      | `[]`         | `{'A'}`                     | A       |\n",
        "|      | push C, push B (reverse) | `[]`         | `['C', 'B']` | `{'A'}`                     |         |\n",
        "| 3    | pop B, print B           | `['C', 'B']` | `['C']`      | `{'A', 'B'}`                | B       |\n",
        "|      | push D                   | `['C']`      | `['C', 'D']` | `{'A', 'B'}`                |         |\n",
        "| 4    | pop D, print D           | `['C', 'D']` | `['C']`      | `{'A', 'B', 'D'}`           | D       |\n",
        "|      | (D has no neighbors)     | `['C']`      | `['C']`      | `{'A', 'B', 'D'}`           |         |\n",
        "| 5    | pop C, print C           | `['C']`      | `[]`         | `{'A', 'B', 'C', 'D'}`      | C       |\n",
        "|      | push E                   | `[]`         | `['E']`      | `{'A', 'B', 'C', 'D'}`      |         |\n",
        "| 6    | pop E, print E           | `['E']`      | `[]`         | `{'A', 'B', 'C', 'D', 'E'}` | E       |\n",
        "|      | (E has no neighbors)     | `[]`         | `[]`         | `{'A', 'B', 'C', 'D', 'E'}` |         |\n",
        "| 7    | Stack empty → End        | `[]`         | `[]`         | All visited                 |         |\n"
      ],
      "metadata": {
        "id": "kiIHwEreediy"
      }
    },
    {
      "cell_type": "markdown",
      "source": [
        "#Greedy algorithm"
      ],
      "metadata": {
        "id": "GWxkDVV-IVQ7"
      }
    },
    {
      "cell_type": "markdown",
      "source": [
        "\n",
        "---\n",
        "\n",
        "### ✅ What is a Greedy Algorithm?\n",
        "\n",
        "A **Greedy Algorithm** builds up a solution piece by piece, always choosing the next piece that offers the **most immediate benefit** (i.e., looks best at the moment).\n",
        "It **does not reconsider** its choices, even if a future choice would have been better.\n",
        "That’s why greedy algorithms **don't always give optimal solutions**, but they work well for problems like:\n",
        "\n",
        "* Activity selection\n",
        "* Coin Change Problem\n",
        "* Huffman encoding\n",
        "* Fractional knapsack\n",
        "* Prim’s and Kruskal’s algorithms (for MST)\n",
        "* Dijkstra’s shortest path (greedy variation)\n",
        "\n",
        "---\n"
      ],
      "metadata": {
        "id": "exnJgCOoI9_1"
      }
    },
    {
      "cell_type": "markdown",
      "source": [
        "##Coin change problem"
      ],
      "metadata": {
        "id": "Awig01hGJ4j0"
      }
    },
    {
      "cell_type": "code",
      "source": [
        "def greedy_coin_change(coins, amount):\n",
        "    coins.sort(reverse=True)\n",
        "    result = []\n",
        "    for coin in coins:\n",
        "        while amount >= coin:\n",
        "            amount -= coin\n",
        "            result.append(coin)\n",
        "    return result\n",
        "\n",
        "coins = [1,3,4]\n",
        "amount = 6\n",
        "solution = greedy_coin_change(coins, amount)\n",
        "print(\"Coins used:\", solution)\n",
        "print(\"Total coins:\",len(solution))"
      ],
      "metadata": {
        "id": "HnfsQ1bMIcXb",
        "colab": {
          "base_uri": "https://localhost:8080/"
        },
        "outputId": "ba2b7b87-d7fa-4b5c-80ae-551ad8b7fc37"
      },
      "execution_count": null,
      "outputs": [
        {
          "output_type": "stream",
          "name": "stdout",
          "text": [
            "Coins used: [4, 1, 1]\n",
            "Total coins: 3\n"
          ]
        }
      ]
    },
    {
      "cell_type": "markdown",
      "source": [
        "## Activity selection problem"
      ],
      "metadata": {
        "id": "t6mYossvKaLn"
      }
    },
    {
      "cell_type": "code",
      "source": [
        "start = [1, 3, 0, 5, 8, 5]\n",
        "finish = [10, 4, 6, 7, 11, 9]\n",
        "activities = list(zip(finish,start))\n",
        "activities.sort()\n",
        "print(activities)\n",
        "activities[i][1] >= activities[last_selected][0]:"
      ],
      "metadata": {
        "id": "sY2Zo0x1NJuB",
        "colab": {
          "base_uri": "https://localhost:8080/"
        },
        "outputId": "05362c21-de23-40ad-f7e6-9afdd1caedc1"
      },
      "execution_count": null,
      "outputs": [
        {
          "output_type": "stream",
          "name": "stdout",
          "text": [
            "[(4, 3), (6, 0), (7, 5), (9, 5), (10, 1), (11, 8)]\n"
          ]
        }
      ]
    },
    {
      "cell_type": "code",
      "source": [
        "print(activities[1][1])\n",
        "print(activities[0][0])"
      ],
      "metadata": {
        "id": "bGZ5kUW9PKrg",
        "colab": {
          "base_uri": "https://localhost:8080/"
        },
        "outputId": "619e9690-cd9e-45d9-f4c2-939bf7a1f5e9"
      },
      "execution_count": null,
      "outputs": [
        {
          "output_type": "stream",
          "name": "stdout",
          "text": [
            "0\n",
            "4\n"
          ]
        }
      ]
    },
    {
      "cell_type": "code",
      "source": [
        "def activitySelection(start, finish):\n",
        "    n = len(start)\n",
        "    activities = list(zip(finish,start))\n",
        "    activities.sort()\n",
        "    count = 1\n",
        "    last_selected = 0\n",
        "    for i in range(1, n):\n",
        "        if activities[i][1] >= activities[last_selected][0]:\n",
        "            count += 1\n",
        "            last_selected = i\n",
        "    return count\n",
        "\n",
        "start = [1, 3, 5, 7, 12, 17]\n",
        "finish = [2, 4, 6, 11, 15, 18]\n",
        "print(\"Maximum number of activities:\", activitySelection(start, finish))"
      ],
      "metadata": {
        "id": "5npdUwMZKfEr",
        "colab": {
          "base_uri": "https://localhost:8080/"
        },
        "outputId": "69885449-e301-4f38-9829-0464d1bd86a3"
      },
      "execution_count": null,
      "outputs": [
        {
          "output_type": "stream",
          "name": "stdout",
          "text": [
            "Maximum number of activities: 6\n"
          ]
        }
      ]
    },
    {
      "cell_type": "code",
      "source": [
        "def activitySelection(start, finish):\n",
        "    n = len(start)\n",
        "    activities = list(zip(finish, start))  # (end, start)\n",
        "    activities.sort()\n",
        "\n",
        "    selected = [activities[0]]\n",
        "    last_selected = 0\n",
        "\n",
        "    for i in range(1, n):\n",
        "        if activities[i][1] >= activities[last_selected][0]:\n",
        "            selected.append(activities[i])\n",
        "            last_selected = i\n",
        "\n",
        "    count = len(selected)\n",
        "\n",
        "    selected_activities = [(s, f) for f, s in selected]\n",
        "    return count, selected_activities\n",
        "\n",
        "start = [1, 3, 0, 5, 8, 5]\n",
        "finish = [10, 4, 6, 7, 11, 9]\n",
        "\n",
        "count, selected_activities = activitySelection(start, finish)\n",
        "\n",
        "print(\"Maximum number of activities:\", count)\n",
        "print(\"Selected activities (start, finish):\")\n",
        "for s, f in selected_activities:\n",
        "    print(f\"({s}, {f})\")\n"
      ],
      "metadata": {
        "id": "r50fR4kzS3Gt"
      },
      "execution_count": null,
      "outputs": []
    },
    {
      "cell_type": "markdown",
      "source": [
        "##fractional knapsack"
      ],
      "metadata": {
        "id": "EagvvfgG0R6S"
      }
    },
    {
      "cell_type": "code",
      "source": [
        "def fractional_knapsack(values, weights, capacity):\n",
        "    # Step 1: Create list of (value, weight, value/weight) tuples\n",
        "    items = []\n",
        "    for i in range(len(values)):\n",
        "        ratio = values[i] / weights[i]\n",
        "        items.append((values[i], weights[i], ratio))\n",
        "\n",
        "    # Step 2: Sort items by value/weight ratio in descending order\n",
        "    items.sort(key=lambda x: x[2], reverse=True)\n",
        "\n",
        "    total_value = 0.0\n",
        "\n",
        "    # Step 3: Take items greedily\n",
        "    for value, weight, ratio in items:\n",
        "        if capacity == 0:\n",
        "            break\n",
        "        if weight <= capacity:\n",
        "            total_value += value\n",
        "            capacity -= weight\n",
        "        else:\n",
        "            total_value += ratio * capacity\n",
        "            break\n",
        "\n",
        "    return total_value\n"
      ],
      "metadata": {
        "id": "-6gOSbk6PJal"
      },
      "execution_count": null,
      "outputs": []
    },
    {
      "cell_type": "code",
      "source": [
        "values = [60, 100, 120]\n",
        "weights = [10, 20, 30]\n",
        "capacity = 50\n",
        "\n",
        "max_value = fractional_knapsack(values, weights, capacity)\n",
        "print(\"Maximum value in Knapsack =\", max_value)\n"
      ],
      "metadata": {
        "colab": {
          "base_uri": "https://localhost:8080/"
        },
        "id": "-AURrQzO0lNS",
        "outputId": "1bcfc9d1-4a40-44b0-f396-2da352cb83d6"
      },
      "execution_count": null,
      "outputs": [
        {
          "output_type": "stream",
          "name": "stdout",
          "text": [
            "Maximum value in Knapsack = 240.0\n"
          ]
        }
      ]
    },
    {
      "cell_type": "markdown",
      "source": [
        "#Dynamic Programming:\n",
        "What is Dynamic Programming?\n",
        "Dynamic Programming (DP) is a method to solve complex problems by breaking them into smaller subproblems, solving each subproblem only once, and storing their results.\n",
        "\n",
        "✅ Why use DP?<br>\n",
        "-To avoid repeated calculations (overlapping subproblems)\n",
        "\n",
        "-To optimize recursive solutions"
      ],
      "metadata": {
        "id": "YQBkriuhgf3V"
      }
    },
    {
      "cell_type": "markdown",
      "source": [
        "| Type                       | Description                                     |\n",
        "| -------------------------- | ----------------------------------------------- |\n",
        "| **Top-Down (Memoization)** | Recursion + caching using a dictionary or array |\n",
        "| **Bottom-Up (Tabulation)** | Iterative method, build solution from 0         |\n",
        "\n",
        "Caching = Remembering previous answers to speed up future operations."
      ],
      "metadata": {
        "id": "0hkdvxdjg92h"
      }
    },
    {
      "cell_type": "code",
      "source": [],
      "metadata": {
        "id": "iXQr87QDhraF"
      },
      "execution_count": null,
      "outputs": []
    },
    {
      "cell_type": "markdown",
      "source": [
        "##fib :recursion"
      ],
      "metadata": {
        "id": "mAdNVciohr7M"
      }
    },
    {
      "cell_type": "code",
      "source": [
        "def fib(n):\n",
        "    if n <= 1:\n",
        "        return n\n",
        "    return fib(n - 1) + fib(n - 2)\n",
        "\n",
        "n = 7\n",
        "print(f\"The {n}th Fibonacci number is:\", fib(n))\n"
      ],
      "metadata": {
        "colab": {
          "base_uri": "https://localhost:8080/"
        },
        "id": "nlkUQSpcgc63",
        "outputId": "9e91dcd1-d8d0-4418-f3f5-65e03d90e49b"
      },
      "execution_count": null,
      "outputs": [
        {
          "output_type": "stream",
          "name": "stdout",
          "text": [
            "The 7th Fibonacci number is: 13\n"
          ]
        }
      ]
    },
    {
      "cell_type": "markdown",
      "source": [
        "###Top Down(Memoization)"
      ],
      "metadata": {
        "id": "0KFUw64Bh20B"
      }
    },
    {
      "cell_type": "code",
      "source": [
        "def fib(n, memo={}):\n",
        "    if n in memo:\n",
        "        return memo[n]\n",
        "    if n <= 1:\n",
        "        return n\n",
        "    memo[n] = fib(n - 1, memo) + fib(n - 2, memo)\n",
        "    return memo[n]\n",
        "\n",
        "n = 7\n",
        "print(f\"The {n}th Fibonacci number is:\", fib(n))\n"
      ],
      "metadata": {
        "colab": {
          "base_uri": "https://localhost:8080/"
        },
        "id": "gLmUbKLIh7Yz",
        "outputId": "ed269890-b313-4f12-c165-61e0e81d6987"
      },
      "execution_count": null,
      "outputs": [
        {
          "output_type": "stream",
          "name": "stdout",
          "text": [
            "The 7th Fibonacci number is: 13\n"
          ]
        }
      ]
    },
    {
      "cell_type": "markdown",
      "source": [
        "###Bottom up(Tabulation)"
      ],
      "metadata": {
        "id": "eknrV11SlChs"
      }
    },
    {
      "cell_type": "code",
      "source": [
        "def fib(n):\n",
        "    if n <= 1:\n",
        "        return n\n",
        "    dp = [0, 1]\n",
        "    for i in range(2, n + 1):\n",
        "        dp.append(dp[i - 1] + dp[i - 2])\n",
        "    return dp[n]\n",
        "\n",
        "n = 7\n",
        "print(f\"The {n}th Fibonacci number is:\", fib(n))\n"
      ],
      "metadata": {
        "colab": {
          "base_uri": "https://localhost:8080/"
        },
        "id": "nQGwRlrolPit",
        "outputId": "4e78243d-71d3-4199-a5b5-617e7d2433c4"
      },
      "execution_count": null,
      "outputs": [
        {
          "output_type": "stream",
          "name": "stdout",
          "text": [
            "The 7th Fibonacci number is: 13\n"
          ]
        }
      ]
    },
    {
      "cell_type": "markdown",
      "source": [
        "##Climbing Stairs"
      ],
      "metadata": {
        "id": "04aKRL45A7Z1"
      }
    },
    {
      "cell_type": "code",
      "source": [
        "#iterative method\n",
        "\n",
        "def climbStairs(n):\n",
        "  a = 1\n",
        "  b= 0\n",
        "  for i in range(1, n+1):\n",
        "      c= a+ b\n",
        "      b = a\n",
        "      a = c\n",
        "  return c\n",
        "climbStairs(5)"
      ],
      "metadata": {
        "colab": {
          "base_uri": "https://localhost:8080/"
        },
        "id": "s-tTgQ5hE_B-",
        "outputId": "04496f2d-62d5-497e-8404-b14ca481dc2d"
      },
      "execution_count": null,
      "outputs": [
        {
          "output_type": "execute_result",
          "data": {
            "text/plain": [
              "8"
            ]
          },
          "metadata": {},
          "execution_count": 1
        }
      ]
    },
    {
      "cell_type": "code",
      "source": [
        "#recursion\n",
        "def climbStairs(n):\n",
        "    if n == 0 or n == 1:\n",
        "        return 1\n",
        "    return climbStairs(n - 1) + climbStairs(n - 2)\n",
        "\n",
        "\n",
        "print(climbStairs(4))\n"
      ],
      "metadata": {
        "colab": {
          "base_uri": "https://localhost:8080/"
        },
        "id": "8VvSOouzKK4T",
        "outputId": "0c38d21f-3c2c-40db-8e8f-bf0fde4ed1ba"
      },
      "execution_count": null,
      "outputs": [
        {
          "output_type": "stream",
          "name": "stdout",
          "text": [
            "5\n"
          ]
        }
      ]
    },
    {
      "cell_type": "code",
      "source": [
        "#DP Tabulation\n",
        "def climbStairs(n):\n",
        "    if n == 0 or n == 1:\n",
        "        return 1\n",
        "\n",
        "    dp = [0] * (n + 1)\n",
        "    dp[0] = 1\n",
        "    dp[1] = 1\n",
        "\n",
        "    for i in range(2, n + 1):\n",
        "        dp[i] = dp[i - 1] + dp[i - 2]\n",
        "\n",
        "    return dp[n]\n",
        "\n",
        "print(climbStairs(4))"
      ],
      "metadata": {
        "colab": {
          "base_uri": "https://localhost:8080/"
        },
        "id": "PyapJS9TJCOY",
        "outputId": "0e2d6dc8-12aa-4251-ce18-83c1516dff0f"
      },
      "execution_count": null,
      "outputs": [
        {
          "output_type": "stream",
          "name": "stdout",
          "text": [
            "5\n"
          ]
        }
      ]
    },
    {
      "cell_type": "code",
      "source": [
        "#Memoization\n",
        "def climbStairs(n, memo={}):\n",
        "    if n == 0 or n == 1:\n",
        "        return 1\n",
        "    if n in memo:\n",
        "        return memo[n]\n",
        "    memo[n] = climbStairs(n - 1, memo) + climbStairs(n - 2, memo)\n",
        "    return memo[n]\n",
        "\n",
        "print(climbStairs(5))\n"
      ],
      "metadata": {
        "colab": {
          "base_uri": "https://localhost:8080/"
        },
        "id": "4ZYQ4bKgJ2s0",
        "outputId": "4cc7abc7-7ba9-41da-e57b-1fabc2136903"
      },
      "execution_count": null,
      "outputs": [
        {
          "output_type": "stream",
          "name": "stdout",
          "text": [
            "8\n"
          ]
        }
      ]
    },
    {
      "cell_type": "markdown",
      "source": [
        "##Min Cost Climbing Stairs"
      ],
      "metadata": {
        "id": "8XVGgt9IMAgh"
      }
    },
    {
      "cell_type": "code",
      "source": [
        "def minCostClimbingStairs(cost):\n",
        "    n = len(cost)\n",
        "    a = cost[0]\n",
        "    b = cost[1]\n",
        "\n",
        "    for i in range(2, n):\n",
        "        c = cost[i] + min(a, b)\n",
        "        a = b\n",
        "        b = c\n",
        "\n",
        "    return min(a, b)\n",
        "cost=[10,15,25,35,45]\n",
        "print(minCostClimbingStairs(cost))"
      ],
      "metadata": {
        "colab": {
          "base_uri": "https://localhost:8080/"
        },
        "id": "4ufEtB8aQM6C",
        "outputId": "0d1b60df-64f3-44b6-929e-0492984ea924"
      },
      "execution_count": null,
      "outputs": [
        {
          "output_type": "stream",
          "name": "stdout",
          "text": [
            "50\n"
          ]
        }
      ]
    },
    {
      "cell_type": "code",
      "source": [
        "#tabulations\n",
        "def minCostClimbingStairs(cost):\n",
        "    n = len(cost)\n",
        "    dp = [0] * n\n",
        "    dp[0] = cost[0]\n",
        "    dp[1] = cost[1]\n",
        "\n",
        "    for i in range(2, n):\n",
        "        dp[i] = cost[i] + min(dp[i - 1], dp[i - 2])\n",
        "    return min(dp[n - 1], dp[n - 2])\n",
        "\n",
        "cost=[10,15,25]\n",
        "print(minCostClimbingStairs(cost))\n"
      ],
      "metadata": {
        "colab": {
          "base_uri": "https://localhost:8080/"
        },
        "id": "Vb38QHgUQriW",
        "outputId": "0ad87faa-4972-4228-8899-d000a6a1cdb8"
      },
      "execution_count": null,
      "outputs": [
        {
          "output_type": "stream",
          "name": "stdout",
          "text": [
            "15\n"
          ]
        }
      ]
    },
    {
      "cell_type": "code",
      "source": [
        "def minCostClimbingStairs(cost):\n",
        "    n = len(cost)\n",
        "    memo = {}\n",
        "\n",
        "    def dp(i):\n",
        "        if i < 0:\n",
        "            return 0\n",
        "        if i == 0 or i == 1:\n",
        "            return cost[i]\n",
        "        if i in memo:\n",
        "            return memo[i]\n",
        "        memo[i] = cost[i] + min(dp(i - 1), dp(i - 2))\n",
        "        return memo[i]\n",
        "\n",
        "    return min(dp(n - 1), dp(n - 2))\n",
        "\n",
        "cost = [10, 15, 20]\n",
        "print(minCostClimbingStairs(cost))  # Output: 15\n"
      ],
      "metadata": {
        "id": "48Ok3nUiS97L",
        "outputId": "cfae0528-0c90-4871-ac5a-dffb01150d51",
        "colab": {
          "base_uri": "https://localhost:8080/"
        }
      },
      "execution_count": null,
      "outputs": [
        {
          "output_type": "stream",
          "name": "stdout",
          "text": [
            "15\n"
          ]
        }
      ]
    },
    {
      "cell_type": "markdown",
      "source": [
        "##House Rober"
      ],
      "metadata": {
        "id": "6dHFq-VaUx_R"
      }
    },
    {
      "cell_type": "code",
      "source": [
        "def rob(nums):\n",
        "    memo = {}\n",
        "\n",
        "    def helper(i):\n",
        "        if i >= len(nums):\n",
        "            return 0\n",
        "        if i in memo:\n",
        "            return memo[i]\n",
        "\n",
        "        memo[i] = max(nums[i] + helper(i + 2), helper(i + 1))\n",
        "        return memo[i]\n",
        "\n",
        "    return helper(0)\n",
        "nums = [2,7,9,3,1]\n",
        "print(rob(nums))"
      ],
      "metadata": {
        "colab": {
          "base_uri": "https://localhost:8080/"
        },
        "id": "UaXBpPe1VbNN",
        "outputId": "7456b0f2-de95-45f0-9bbb-6f92b595dc9a"
      },
      "execution_count": null,
      "outputs": [
        {
          "output_type": "stream",
          "name": "stdout",
          "text": [
            "12\n"
          ]
        }
      ]
    },
    {
      "cell_type": "code",
      "source": [
        "def rob(nums):\n",
        "    if not nums:\n",
        "        return 0\n",
        "    n = len(nums)\n",
        "    if n == 1:\n",
        "        return nums[0]\n",
        "\n",
        "    dp = [0]*n\n",
        "    dp[0] = nums[0]\n",
        "    dp[1] = max(nums[0], nums[1])\n",
        "\n",
        "    for i in range(2, n):\n",
        "        dp[i] = max(dp[i-1], nums[i] + dp[i-2])\n",
        "    print(dp)\n",
        "    return dp[-1]\n",
        "nums=[2,7,9,3,1]\n",
        "print(rob(nums))"
      ],
      "metadata": {
        "colab": {
          "base_uri": "https://localhost:8080/"
        },
        "id": "xlVb8uKNVxD_",
        "outputId": "5a819c82-83a4-480e-f6a9-ea20187715f8"
      },
      "execution_count": null,
      "outputs": [
        {
          "output_type": "stream",
          "name": "stdout",
          "text": [
            "[2, 7, 11, 11, 12]\n",
            "12\n"
          ]
        }
      ]
    },
    {
      "cell_type": "code",
      "source": [
        "def rob(nums):\n",
        "    prev1 = 0  # dp[i - 1] #7\n",
        "    prev2 = 0  # dp[i - 2] #2\n",
        "\n",
        "    for num in nums:\n",
        "        temp = prev1\n",
        "        prev1 = max(prev1, prev2 + num)\n",
        "        prev2 = temp\n",
        "        print(prev1,end=\" \")\n",
        "\n",
        "    return prev1\n",
        "nums=[2,7,9,3,1]\n",
        "print(rob(nums))"
      ],
      "metadata": {
        "colab": {
          "base_uri": "https://localhost:8080/"
        },
        "id": "ddyVPXY0V90E",
        "outputId": "be22c324-bd65-4934-a0eb-2a6259bb64d4"
      },
      "execution_count": null,
      "outputs": [
        {
          "output_type": "stream",
          "name": "stdout",
          "text": [
            "2 7 11 11 12 12\n"
          ]
        }
      ]
    },
    {
      "cell_type": "markdown",
      "source": [
        "#Tries"
      ],
      "metadata": {
        "id": "_oTi3ZggnTnq"
      }
    },
    {
      "cell_type": "code",
      "source": [],
      "metadata": {
        "id": "OXnqzBg_VwOK"
      },
      "execution_count": null,
      "outputs": []
    },
    {
      "cell_type": "code",
      "source": [
        "class TrieNode:\n",
        "    def __init__(self):\n",
        "        self.children = {}\n",
        "        self.is_end = False\n",
        "\n",
        "root = TrieNode()\n",
        "\n",
        "def insert(word):\n",
        "    node = root\n",
        "    for ch in word:\n",
        "        if ch not in node.children:\n",
        "            node.children[ch] = TrieNode()\n",
        "        node = node.children[ch]\n",
        "    node.is_end = True\n",
        "\n",
        "def search(word):\n",
        "    node = root\n",
        "    for ch in word:\n",
        "        if ch not in node.children:\n",
        "            return False\n",
        "        node = node.children[ch]\n",
        "    return node.is_end\n",
        "\n",
        "\n",
        "insert(\"apple\")\n",
        "insert(\"app\")\n",
        "insert(\"bat\")\n",
        "\n",
        "print(search(\"apple\"))     # True\n",
        "print(search(\"appl\"))      # False\n"
      ],
      "metadata": {
        "colab": {
          "base_uri": "https://localhost:8080/"
        },
        "id": "OWrpWez1naaJ",
        "outputId": "8fe2790e-20f6-498c-90e7-7e051c2798cc"
      },
      "execution_count": null,
      "outputs": [
        {
          "output_type": "stream",
          "name": "stdout",
          "text": [
            "True\n",
            "False\n"
          ]
        }
      ]
    },
    {
      "cell_type": "code",
      "source": [
        "def startsWith(prefix):\n",
        "    node = root\n",
        "    for ch in prefix:\n",
        "        if ch not in node.children:\n",
        "            return False\n",
        "        node = node.children[ch]\n",
        "    return True"
      ],
      "metadata": {
        "id": "TwN80BwIXHw8"
      },
      "execution_count": null,
      "outputs": []
    },
    {
      "cell_type": "markdown",
      "source": [
        "#heap"
      ],
      "metadata": {
        "id": "6O5hsQr-TA6B"
      }
    },
    {
      "cell_type": "code",
      "source": [
        "\n",
        "# Heap is a special tree-based data structure that is mostly used for implementing priority queues"
      ],
      "metadata": {
        "id": "JulAQBDJTAA1"
      },
      "execution_count": null,
      "outputs": []
    },
    {
      "cell_type": "markdown",
      "source": [
        "| Function Name             | Purpose                                       |\n",
        "| ------------------------- | --------------------------------------------- |\n",
        "| `heapify(list)`           | Converts a list into a **Min Heap**           |\n",
        "| `heappush(heap, item)`    | Inserts a new item into the heap              |\n",
        "| `heappop(heap)`           | Removes and returns the **smallest** item     |\n",
        "| `heappushpop(heap, item)` | Pushes new item and pops smallest (efficient) |\n",
        "| `heapreplace(heap, item)` | Pops and pushes (no intermediate step)        |\n",
        "| `nlargest(k, iterable)`   | Returns **k largest** elements                |\n",
        "| `nsmallest(k, iterable)`  | Returns **k smallest** elements               |\n"
      ],
      "metadata": {
        "id": "o6L7_QYETgqt"
      }
    },
    {
      "cell_type": "markdown",
      "source": [
        "##min heap"
      ],
      "metadata": {
        "id": "ce2PAD0oUFZD"
      }
    },
    {
      "cell_type": "code",
      "source": [
        "# n Min Heap, the parent node is always smaller than its children.\n",
        "\n",
        "# The smallest element is always at the top (root).\n",
        "\n"
      ],
      "metadata": {
        "id": "EGhGSTxxUHzs"
      },
      "execution_count": null,
      "outputs": []
    },
    {
      "cell_type": "code",
      "source": [
        "import heapq\n",
        "\n",
        "nums = [5, 3, 8, 1, 9]\n",
        "heapq.heapify(nums)\n",
        "print(\"Min Heap:\", nums)\n",
        "print(\"Top (min):\", nums[0])\n"
      ],
      "metadata": {
        "id": "9uV1Zq7MUyE1",
        "colab": {
          "base_uri": "https://localhost:8080/"
        },
        "outputId": "ccee208a-8df4-45fb-a4c2-8c78dc2c4cd7"
      },
      "execution_count": null,
      "outputs": [
        {
          "output_type": "stream",
          "name": "stdout",
          "text": [
            "Min Heap: [1, 3, 8, 5, 9]\n",
            "Top (min): 1\n"
          ]
        }
      ]
    },
    {
      "cell_type": "markdown",
      "source": [
        "##max heap\n",
        "\n",
        "\n",
        "        9\n",
        "      /   \\\n",
        "     5     8\n",
        "    / \\\n",
        "   1    3\n"
      ],
      "metadata": {
        "id": "vNSvU6iHUYo0"
      }
    },
    {
      "cell_type": "code",
      "source": [
        "import heapq\n",
        "\n",
        "nums = [5, 3, 8, 1, 9]\n",
        "max_heap = [-x for x in nums]\n",
        "heapq.heapify(max_heap)\n",
        "print(\"Max Heap (negative):\", max_heap)\n",
        "print(\"Top (max):\", -max_heap[0])\n"
      ],
      "metadata": {
        "colab": {
          "base_uri": "https://localhost:8080/"
        },
        "id": "6Zd1c5CLU8XH",
        "outputId": "a1a2b450-9a80-4744-e3b8-d25a860c4832"
      },
      "execution_count": null,
      "outputs": [
        {
          "output_type": "stream",
          "name": "stdout",
          "text": [
            "Max Heap (negative): [-9, -5, -8, -1, -3]\n",
            "Top (max): 9\n"
          ]
        }
      ]
    },
    {
      "cell_type": "markdown",
      "source": [
        "##heap function"
      ],
      "metadata": {
        "id": "CWeOHhTjVMNx"
      }
    },
    {
      "cell_type": "code",
      "source": [
        "import heapq\n",
        "\n",
        "print(\"=== 1. heapify() ===\")\n",
        "nums = [5, 3, 8, 1, 9]\n",
        "heapq.heapify(nums)\n",
        "print(\"Min Heap:\", nums)  # [1, 3, 8, 5, 9]\n",
        "\n",
        "print(\"\\n=== 2. heappush() ===\")\n",
        "heapq.heappush(nums, 2)\n",
        "print(\"After pushing 2:\", nums)  # [1, 2, 8, 5, 9, 3]\n",
        "\n",
        "print(\"\\n=== 3. heappop() ===\")\n",
        "min_val = heapq.heappop(nums)\n",
        "print(\"Popped min value:\", min_val)  # 1\n",
        "print(\"Heap after pop:\", nums)       # [2, 3, 8, 5, 9]\n",
        "\n",
        "print(\"\\n=== 4. heappushpop() ===\")\n",
        "result = heapq.heappushpop(nums, 0)\n",
        "print(\"Push 0, then pop:\", result)   # 0\n",
        "print(\"Heap now:\", nums)             # [2, 3, 8, 5, 9]\n",
        "\n",
        "print(\"\\n=== 5. heapreplace() ===\")\n",
        "result = heapq.heapreplace(nums, 7)\n",
        "print(\"Pop then push 7:\", result)    # 2 (popped), 7 added\n",
        "print(\"Heap now:\", nums)             # [3, 5, 8, 9, 7]\n",
        "\n",
        "print(\"\\n=== 6. nlargest() ===\")\n",
        "largest = heapq.nlargest(3, nums)\n",
        "print(\"Top 3 largest:\", largest)     # [9, 8, 7]\n",
        "\n",
        "print(\"\\n=== 7. nsmallest() ===\")\n",
        "smallest = heapq.nsmallest(3, nums)\n",
        "print(\"Top 3 smallest:\", smallest)   # [3, 5, 7]"
      ],
      "metadata": {
        "colab": {
          "base_uri": "https://localhost:8080/"
        },
        "id": "9VyLajZeTwWo",
        "outputId": "7a3ddba5-269a-4c8b-d7d7-a73198f5cf7b"
      },
      "execution_count": null,
      "outputs": [
        {
          "output_type": "stream",
          "name": "stdout",
          "text": [
            "=== 1. heapify() ===\n",
            "Min Heap: [1, 3, 8, 5, 9]\n",
            "\n",
            "=== 2. heappush() ===\n",
            "After pushing 2: [1, 3, 2, 5, 9, 8]\n",
            "\n",
            "=== 3. heappop() ===\n",
            "Popped min value: 1\n",
            "Heap after pop: [2, 3, 8, 5, 9]\n",
            "\n",
            "=== 4. heappushpop() ===\n",
            "Push 0, then pop: 0\n",
            "Heap now: [2, 3, 8, 5, 9]\n",
            "\n",
            "=== 5. heapreplace() ===\n",
            "Pop then push 7: 2\n",
            "Heap now: [3, 5, 8, 7, 9]\n",
            "\n",
            "=== 6. nlargest() ===\n",
            "Top 3 largest: [9, 8, 7]\n",
            "\n",
            "=== 7. nsmallest() ===\n",
            "Top 3 smallest: [3, 5, 7]\n"
          ]
        }
      ]
    },
    {
      "cell_type": "markdown",
      "metadata": {
        "id": "ISwynuvzI5ta"
      },
      "source": [
        "#**Regular Expressions**"
      ]
    },
    {
      "cell_type": "markdown",
      "metadata": {
        "id": "3XlA66jbJhfF"
      },
      "source": [
        "A Regular Expression or RegEx is a special sequence of characters that uses a search pattern to find a string or set of strings.\n",
        "\n",
        "It can detect the presence or absence of a text by matching it with a particular pattern and also can split a pattern into one or more sub-patterns"
      ]
    },
    {
      "cell_type": "code",
      "execution_count": null,
      "metadata": {
        "id": "lNncupxxJj7W"
      },
      "outputs": [],
      "source": [
        "# importing re module\n",
        "import re"
      ]
    },
    {
      "cell_type": "markdown",
      "metadata": {
        "id": "1W-AiVi2Pe9H"
      },
      "source": [
        "![image.png](data:image/png;base64,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)"
      ]
    },
    {
      "cell_type": "code",
      "execution_count": null,
      "metadata": {
        "id": "v7DDd7n7QIU8"
      },
      "outputs": [],
      "source": [
        "a=\"charlie and chaplin chocolate factory\"\n",
        "b=\"rafikshah3262@gmail.com\"\n",
        "c=\"hello\"\n",
        "d=\"xyz,yxxy,zzxy,wsdx,lfd,jaskldf,sdfnj,dfj\"\n"
      ]
    },
    {
      "cell_type": "code",
      "execution_count": null,
      "metadata": {
        "id": "-TOgpFEZQ14a"
      },
      "outputs": [],
      "source": [
        "match=re.search(\"\\.\",b)\n",
        "print(match)"
      ]
    },
    {
      "cell_type": "code",
      "execution_count": null,
      "metadata": {
        "id": "tQGVhhTYSrpv"
      },
      "outputs": [],
      "source": [
        "match=re.search(\"[r]\",b)\n",
        "print(match)"
      ]
    },
    {
      "cell_type": "code",
      "execution_count": null,
      "metadata": {
        "id": "YGws9y1WTUG2"
      },
      "outputs": [],
      "source": [
        "match=re.search(\"^r\",b)\n",
        "print(match)"
      ]
    },
    {
      "cell_type": "code",
      "execution_count": null,
      "metadata": {
        "id": "7mOnsKVDTjaq"
      },
      "outputs": [],
      "source": [
        "match=re.search(\"m$\",b)\n",
        "print(match)"
      ]
    },
    {
      "cell_type": "code",
      "execution_count": null,
      "metadata": {
        "id": "eRL9juIrUl0N"
      },
      "outputs": [],
      "source": [
        "match=re.search(\"c.a\",a)\n",
        "print(match)"
      ]
    },
    {
      "cell_type": "code",
      "execution_count": null,
      "metadata": {
        "id": "1psrxcVIVmR_"
      },
      "outputs": [],
      "source": [
        "match= re.findall(\"he.*o\",c) #Search for a sequence that starts with \"he\", followed by 0 or more  (any) characters, and an \"o\":\n",
        "print(match)"
      ]
    },
    {
      "cell_type": "code",
      "execution_count": null,
      "metadata": {
        "id": "WtgYuKQgV4T9"
      },
      "outputs": [],
      "source": [
        "#Search for a sequence that starts with \"he\", followed by 1 or more  (any) characters, and an \"o\":\n",
        "match = re.findall(\"he.+o\", c)\n",
        "print(match)"
      ]
    },
    {
      "cell_type": "code",
      "execution_count": null,
      "metadata": {
        "id": "5ib18YQlWQ3F"
      },
      "outputs": [],
      "source": [
        "match = re.findall(\"he.?o\",c)\n",
        "print(match)"
      ]
    },
    {
      "cell_type": "code",
      "execution_count": null,
      "metadata": {
        "id": "97pnqVgzWoLq"
      },
      "outputs": [],
      "source": [
        "#Search for a sequence that starts with \"he\", followed excactly 2 (any) characters, and an \"o\":\n",
        "match= re.findall(\"he.{2}o\", c)\n",
        "print(match)"
      ]
    },
    {
      "cell_type": "code",
      "execution_count": null,
      "metadata": {
        "id": "CZD7rICbXCJj"
      },
      "outputs": [],
      "source": [
        "#Check if the string contains either \"falls\" or \"stays\":\n",
        "match = re.findall(\"cha|fac\",a)\n",
        "print(match)"
      ]
    },
    {
      "cell_type": "markdown",
      "metadata": {
        "id": "z4TnjXIfM0E0"
      },
      "source": [
        "#**linkedlist**"
      ]
    },
    {
      "cell_type": "code",
      "execution_count": null,
      "metadata": {
        "id": "LcGG61xXNFJm",
        "colab": {
          "base_uri": "https://localhost:8080/"
        },
        "outputId": "8d62ba3e-30ed-49b5-a63c-21f57525e59b"
      },
      "outputs": [
        {
          "output_type": "stream",
          "name": "stdout",
          "text": [
            "10->20->30->40->none\n"
          ]
        }
      ],
      "source": [
        "class Node:\n",
        "    def __init__(self, data):\n",
        "        self.data = data\n",
        "        self.next = None\n",
        "\n",
        "node1 = Node(10) #1000\n",
        "node2 = Node(20) #2000\n",
        "node3 = Node(30) #3000\n",
        "node4 = Node(40) #4000\n",
        "\n",
        "node1.next = node2 #2000\n",
        "node2.next = node3 #3000\n",
        "node3.next = node4 #4000\n",
        "\n",
        "current = node1 #1000\n",
        "\n",
        "while current:\n",
        "    print(current.data, end=\"->\")\n",
        "    current = current.next\n",
        "print(\"none\")"
      ]
    },
    {
      "cell_type": "code",
      "execution_count": null,
      "metadata": {
        "id": "5ut_ib6tPV8P"
      },
      "outputs": [],
      "source": [
        "class Node:\n",
        "    def __init__(self, data):\n",
        "        self.data = data\n",
        "        self.next = None\n",
        "\n",
        "def print_linked_list(node1):\n",
        "    current = node1 #1000\n",
        "    while current:\n",
        "        print(current.data, end=\"->\")\n",
        "        current = current.next\n",
        "    print(\"None\")\n",
        "\n",
        "node1 = Node(10)\n",
        "node2 = Node(20)\n",
        "node3 = Node(30)\n",
        "node4 = Node(40)\n",
        "\n",
        "node1.next = node2\n",
        "node2.next = node3\n",
        "node3.next = node4\n",
        "\n",
        "print_linked_list(node1)  #1000"
      ]
    },
    {
      "cell_type": "markdown",
      "metadata": {
        "id": "whymRurRY48J"
      },
      "source": [
        "##insert_at_beginning"
      ]
    },
    {
      "cell_type": "code",
      "execution_count": null,
      "metadata": {
        "id": "27A7YIgmSV7B",
        "colab": {
          "base_uri": "https://localhost:8080/",
          "height": 211
        },
        "outputId": "8828498f-2cd4-4ed0-f369-ff889607d018"
      },
      "outputs": [
        {
          "output_type": "error",
          "ename": "NameError",
          "evalue": "name 'new_node' is not defined",
          "traceback": [
            "\u001b[0;31m---------------------------------------------------------------------------\u001b[0m",
            "\u001b[0;31mNameError\u001b[0m                                 Traceback (most recent call last)",
            "\u001b[0;32m/tmp/ipython-input-2-4207156043.py\u001b[0m in \u001b[0;36m<cell line: 0>\u001b[0;34m()\u001b[0m\n\u001b[1;32m      4\u001b[0m         \u001b[0mself\u001b[0m\u001b[0;34m.\u001b[0m\u001b[0mnext\u001b[0m \u001b[0;34m=\u001b[0m \u001b[0;32mNone\u001b[0m\u001b[0;34m\u001b[0m\u001b[0;34m\u001b[0m\u001b[0m\n\u001b[1;32m      5\u001b[0m \u001b[0;34m\u001b[0m\u001b[0m\n\u001b[0;32m----> 6\u001b[0;31m \u001b[0mcurrent\u001b[0m \u001b[0;34m=\u001b[0m \u001b[0mnew_node\u001b[0m\u001b[0;34m\u001b[0m\u001b[0;34m\u001b[0m\u001b[0m\n\u001b[0m\u001b[1;32m      7\u001b[0m \u001b[0;32mwhile\u001b[0m \u001b[0mcurrent\u001b[0m \u001b[0;32mis\u001b[0m \u001b[0;32mnot\u001b[0m \u001b[0;32mNone\u001b[0m\u001b[0;34m:\u001b[0m\u001b[0;34m\u001b[0m\u001b[0;34m\u001b[0m\u001b[0m\n\u001b[1;32m      8\u001b[0m         \u001b[0mprint\u001b[0m\u001b[0;34m(\u001b[0m\u001b[0mcurrent\u001b[0m\u001b[0;34m.\u001b[0m\u001b[0mdata\u001b[0m\u001b[0;34m,\u001b[0m \u001b[0mend\u001b[0m\u001b[0;34m=\u001b[0m\u001b[0;34m\"->\"\u001b[0m\u001b[0;34m)\u001b[0m\u001b[0;34m\u001b[0m\u001b[0;34m\u001b[0m\u001b[0m\n",
            "\u001b[0;31mNameError\u001b[0m: name 'new_node' is not defined"
          ]
        }
      ],
      "source": [
        "class Node:\n",
        "    def __init__(self, data):\n",
        "        self.data = data\n",
        "        self.next = None\n",
        "\n",
        "# Creating nodes\n",
        "node1 = Node(10)\n",
        "node2 = Node(20)\n",
        "node3 = Node(30)\n",
        "node4 = Node(40)\n",
        "\n",
        "# Linking nodes\n",
        "node1.next = node2\n",
        "node2.next = node3\n",
        "node3.next = node4\n",
        "\n",
        "# Inserting at the beginning\n",
        "new_node = Node(50)\n",
        "new_node.next = node1  # new_node -> node1 -> node2 -> node3 -> node4\n",
        "\n",
        "# Traversing and printing the linked list\n",
        "current = new_node\n",
        "while current is not None:\n",
        "    print(current.data, end=\"->\")\n",
        "    current = current.next\n",
        "print(\"None\")\n"
      ]
    },
    {
      "cell_type": "code",
      "execution_count": null,
      "metadata": {
        "id": "qjQxWRUlUhp2",
        "colab": {
          "base_uri": "https://localhost:8080/"
        },
        "outputId": "02dd970b-63ee-4622-e1ea-5d4096ac407d"
      },
      "outputs": [
        {
          "output_type": "stream",
          "name": "stdout",
          "text": [
            "Initial linked list:\n",
            "10->20->30->40->None\n",
            "Linked list after inserting node at the beginning:\n",
            "50->10->20->30->40->None\n"
          ]
        }
      ],
      "source": [
        "#insert at beginning\n",
        "class Node:\n",
        "    def __init__(self, data):\n",
        "        self.data = data\n",
        "        self.next = None\n",
        "\n",
        "def insert_at_beginning(head, data):\n",
        "    new_node = Node(data)\n",
        "    new_node.next = head\n",
        "    return new_node\n",
        "\n",
        "def print_linked_list(head):\n",
        "    current = head\n",
        "    while current is not None:\n",
        "        print(current.data, end=\"->\")\n",
        "        current = current.next\n",
        "    print(\"None\")\n",
        "\n",
        "# Create the initial linked list\n",
        "node1 = Node(10)  #1000\n",
        "node2 = Node(20)  #2000\n",
        "node3 = Node(30)  #3000\n",
        "node4 = Node(40)  #4000\n",
        "\n",
        "node1.next = node2  #2000\n",
        "node2.next = node3  #3000\n",
        "node3.next = node4  #4000\n",
        "\n",
        "head = node1 #1000\n",
        "print(\"Initial linked list:\")\n",
        "print_linked_list(head)\n",
        "\n",
        "# Insert a new node at the beginning\n",
        "head = insert_at_beginning(head, 50)\n",
        "\n",
        "print(\"Linked list after inserting node at the beginning:\")\n",
        "print_linked_list(head)\n"
      ]
    },
    {
      "cell_type": "code",
      "source": [
        "#insert at beginning\n",
        "class Node:\n",
        "    def __init__(self, data):\n",
        "        self.data = data\n",
        "        self.next = None\n",
        "\n",
        "def insert_at_beginning(head, data):#1000,50\n",
        "    new_node = Node(data)\n",
        "    new_node.next = head\n",
        "    return new_node\n",
        "\n",
        "def print_linked_list(head):\n",
        "    current = head\n",
        "    while current is not None:\n",
        "        print(current.data, end=\"->\")\n",
        "        current = current.next\n",
        "    print(\"None\")\n",
        "\n",
        "# Create the initial linked list\n",
        "node1 = Node(10)  #1000\n",
        "node2 = Node(20)  #2000\n",
        "node3 = Node(30)  #3000\n",
        "node4 = Node(40)  #4000\n",
        "\n",
        "node1.next = node2  #2000\n",
        "node2.next = node3  #3000\n",
        "node3.next = node4  #4000\n",
        "\n",
        "head = node1 #1000\n",
        "print(\"Initial linked list:\")\n",
        "print_linked_list(head)\n",
        "\n",
        "# Insert a new node at the beginning\n",
        "head = insert_at_beginning(head, 50)\n",
        "\n",
        "print(\"Linked list after inserting node at the beginning:\")\n",
        "print_linked_list(head)\n"
      ],
      "metadata": {
        "id": "0-onjCx-R3vg"
      },
      "execution_count": null,
      "outputs": []
    },
    {
      "cell_type": "code",
      "source": [
        "class Node:\n",
        "    def __init__(self, data):\n",
        "        self.data = data\n",
        "        self.next = None\n",
        "\n",
        "def insert_at_beginning(head, data):\n",
        "    new_node = Node(data)\n",
        "    new_node.next = head\n",
        "    return new_node\n",
        "\n",
        "def insert_at_end(head, data):\n",
        "    new_node = Node(data)\n",
        "    current = head\n",
        "    while current.next :\n",
        "        current = current.next\n",
        "    current.next = new_node\n",
        "\n",
        "\n",
        "def print_linked_list(head):\n",
        "    current = head\n",
        "    while current is not None:\n",
        "        print(current.data, end=\"->\")\n",
        "        current = current.next\n",
        "    print(\"None\")\n",
        "\n",
        "# 🔹 Create the initial linked list\n",
        "node1 = Node(10)\n",
        "node2 = Node(20)\n",
        "node3 = Node(30)\n",
        "node4 = Node(40)\n",
        "\n",
        "node1.next = node2\n",
        "node2.next = node3\n",
        "node3.next = node4\n",
        "\n",
        "head = node1\n",
        "\n",
        "print(\"Initial linked list:\")\n",
        "print_linked_list(head)\n",
        "\n",
        "# 🔹 Insert a new node at the beginning\n",
        "head = insert_at_beginning(head, 50)\n",
        "print(\"After inserting at the beginning:\")\n",
        "print_linked_list(head)\n",
        "\n",
        "# 🔹 Insert a new node at the end\n",
        "insert_at_end(head, 99)\n",
        "print(\"After inserting at the end:\")\n",
        "print_linked_list(head)\n"
      ],
      "metadata": {
        "id": "Vpzh8GRMTaqx"
      },
      "execution_count": null,
      "outputs": []
    },
    {
      "cell_type": "code",
      "source": [
        "class Node:\n",
        "    def __init__(self, data):\n",
        "        self.data = data\n",
        "        self.next = None\n",
        "\n",
        "def insert_at_beginning(head, data):\n",
        "    new_node = Node(data)\n",
        "    new_node.next = head\n",
        "    return new_node\n",
        "\n",
        "def insert_at_end(head, data):\n",
        "    new_node = Node(data)\n",
        "    if head is None:\n",
        "        return new_node\n",
        "    current = head\n",
        "    while current.next is not None:\n",
        "        current = current.next\n",
        "    current.next = new_node\n",
        "    return head\n",
        "\n",
        "def delete_node(head, key):\n",
        "    # Case 1: Empty list\n",
        "    if head is None:\n",
        "        print(\"List is empty.\")\n",
        "        return None\n",
        "\n",
        "    # Case 2: Node to be deleted is the head\n",
        "    if head.data == key:\n",
        "        return head.next\n",
        "\n",
        "    # Case 3: Node to be deleted is in the middle or end\n",
        "    current = head\n",
        "    while current.next is not None:\n",
        "        if current.next.data == key:\n",
        "            current.next = current.next.next\n",
        "            return head\n",
        "        current = current.next\n",
        "\n",
        "    print(f\"Node with value {key} not found.\")\n",
        "    return head\n",
        "\n",
        "def print_linked_list(head):\n",
        "    current = head\n",
        "    while current is not None:\n",
        "        print(current.data, end=\"->\")\n",
        "        current = current.next\n",
        "    print(\"None\")\n",
        "\n",
        "# 🔹 Create the initial linked list\n",
        "node1 = Node(10)\n",
        "node2 = Node(20)\n",
        "node3 = Node(30)\n",
        "node4 = Node(40)\n",
        "\n",
        "node1.next = node2\n",
        "node2.next = node3\n",
        "node3.next = node4\n",
        "\n",
        "head = node1\n",
        "\n",
        "print(\"Initial linked list:\")\n",
        "print_linked_list(head)\n",
        "\n",
        "# 🔹 Insert a node at the beginning\n",
        "head = insert_at_beginning(head, 5)\n",
        "print(\"After inserting 5 at the beginning:\")\n",
        "print_linked_list(head)\n",
        "\n",
        "# 🔹 Insert a node at the end\n",
        "head = insert_at_end(head, 99)\n",
        "print(\"After inserting 99 at the end:\")\n",
        "print_linked_list(head)\n",
        "\n",
        "# 🔹 Delete a middle node\n",
        "head = delete_node(head, 20)\n",
        "print(\"After deleting node with value 20:\")\n",
        "print_linked_list(head)\n",
        "\n",
        "# 🔹 Delete the head node\n",
        "head = delete_node(head, 5)\n",
        "print(\"After deleting head node (5):\")\n",
        "print_linked_list(head)\n",
        "\n",
        "# 🔹 Delete a non-existent node\n",
        "head = delete_node(head, 100)\n",
        "print(\"After trying to delete 100 (not found):\")\n",
        "print_linked_list(head)"
      ],
      "metadata": {
        "id": "myaMaeoCNaiw"
      },
      "execution_count": null,
      "outputs": []
    },
    {
      "cell_type": "markdown",
      "metadata": {
        "id": "d3bnbzHox_ti"
      },
      "source": [
        "# Circular linkedlist"
      ]
    },
    {
      "cell_type": "code",
      "source": [
        "class Node:\n",
        "    def __init__(self, data):\n",
        "        self.data = data\n",
        "        self.next = None\n",
        "\n",
        "def print_circular_linked_list(head):\n",
        "    if not head:\n",
        "        print(\"List is empty\")\n",
        "        return\n",
        "\n",
        "    current = head\n",
        "    while True:\n",
        "        print(current.data, end=\"->\")\n",
        "        current = current.next\n",
        "        if current == head:\n",
        "            break\n",
        "    print(\"(back to head)\")\n",
        "\n",
        "# 🔹 Create nodes\n",
        "node1 = Node(10)\n",
        "node2 = Node(20)\n",
        "node3 = Node(30)\n",
        "node4 = Node(40)\n",
        "\n",
        "# 🔹 Connect nodes in circular manner\n",
        "node1.next = node2\n",
        "node2.next = node3\n",
        "node3.next = node4\n",
        "node4.next = node1  # Circular link\n",
        "\n",
        "# 🔹 Head of the list\n",
        "head = node1\n",
        "\n",
        "# 🔹 Print circular linked list\n",
        "print(\"Circular Linked List:\")\n",
        "print_circular_linked_list(head)"
      ],
      "metadata": {
        "id": "NaeIc1QFL-9p"
      },
      "execution_count": null,
      "outputs": []
    },
    {
      "cell_type": "markdown",
      "source": [
        "#double linked list"
      ],
      "metadata": {
        "id": "gOle1mFtMwW6"
      }
    },
    {
      "cell_type": "code",
      "source": [
        "class Node:\n",
        "    def __init__(self, data):\n",
        "        self.data = data\n",
        "        self.prev = None\n",
        "        self.next = None\n",
        "\n",
        "def print_doubly_linked_list(head):\n",
        "    current = head   #2000\n",
        "    while current:\n",
        "        print(current.data, end=\" <-> \")\n",
        "        current = current.prev\n",
        "    print(\"None\")\n",
        "\n",
        "# 🔹 Create nodes\n",
        "node1 = Node(10)\n",
        "node2 = Node(20)\n",
        "node3 = Node(30)\n",
        "node4 = Node(40)\n",
        "\n",
        "# 🔹 Manually link the nodes\n",
        "node1.next = node2\n",
        "\n",
        "node2.prev = node1\n",
        "node2.next = node3\n",
        "\n",
        "node3.prev = node2\n",
        "node3.next = node4\n",
        "\n",
        "node4.prev = node3\n",
        "\n",
        "# 🔹 Head of the list\n",
        "head = node1\n",
        "\n",
        "# 🔹 Print the doubly linked list\n",
        "print(\"Doubly Linked List:\")\n",
        "print_doubly_linked_list(node4)"
      ],
      "metadata": {
        "colab": {
          "base_uri": "https://localhost:8080/"
        },
        "id": "R4IX_ZD4Mj4-",
        "outputId": "e033bea1-1771-435f-bdf6-02d8b34d4c47"
      },
      "execution_count": null,
      "outputs": [
        {
          "output_type": "stream",
          "name": "stdout",
          "text": [
            "Doubly Linked List:\n",
            "40 <-> 30 <-> 20 <-> 10 <-> None\n"
          ]
        }
      ]
    },
    {
      "cell_type": "code",
      "source": [],
      "metadata": {
        "id": "6FlRyGbRfFrU"
      },
      "execution_count": null,
      "outputs": []
    }
  ],
  "metadata": {
    "colab": {
      "provenance": []
    },
    "kernelspec": {
      "display_name": "Python 3",
      "name": "python3"
    },
    "language_info": {
      "name": "python"
    }
  },
  "nbformat": 4,
  "nbformat_minor": 0
}